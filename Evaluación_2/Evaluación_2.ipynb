{
  "nbformat": 4,
  "nbformat_minor": 0,
  "metadata": {
    "colab": {
      "private_outputs": true,
      "provenance": []
    },
    "kernelspec": {
      "name": "python3",
      "display_name": "Python 3"
    },
    "language_info": {
      "name": "python"
    }
  },
  "cells": [
    {
      "cell_type": "markdown",
      "source": [
        "\n",
        "#**Refactoring Techniques**\n",
        "##**1. Extract Method**\n",
        "Separar bloques de código en métodos con nombres descriptivos hacer el código más claro y modular, facilitando la identificación de secciones que pueden ejecutarse en paralelo o requieren sincronización."
      ],
      "metadata": {
        "id": "JaB2T3TqgnPE"
      }
    },
    {
      "cell_type": "markdown",
      "source": [
        "En este código, la función ```printOwing```\n",
        "imprime un banner y luego imprime los detalles directamente dentro de la misma función. Los detalles incluyen el nombre y la cantidad pendiente."
      ],
      "metadata": {
        "id": "ftKcAaekhPeG"
      }
    },
    {
      "cell_type": "code",
      "execution_count": null,
      "metadata": {
        "id": "E-BUP-tYfzlJ"
      },
      "outputs": [],
      "source": [
        "def printOwing(self):\n",
        "    self.printBanner()\n",
        "\n",
        "    # print details\n",
        "    print(\"name:\", self.name)\n",
        "    print(\"amount:\", self.getOutstanding())"
      ]
    },
    {
      "cell_type": "markdown",
      "source": [
        "En este código, la función ```printOwin```\n",
        "también imprime un banner, pero en lugar de imprimir los detalles directamente, llama a otra función ```printDetails``` para hacerlo. La función printDetails toma una cantidad pendiente como argumento y luego imprime el nombre y la cantidad pendiente."
      ],
      "metadata": {
        "id": "f9d2IWFniR5S"
      }
    },
    {
      "cell_type": "code",
      "source": [
        "def printOwing(self):\n",
        "    self.printBanner()\n",
        "    self.printDetails(self.getOutstanding())\n",
        "\n",
        "def printDetails(self, outstanding):\n",
        "    print(\"name:\", self.name)\n",
        "    print(\"amount:\", outstanding)"
      ],
      "metadata": {
        "id": "lL2mW8M1gMQ-"
      },
      "execution_count": null,
      "outputs": []
    },
    {
      "cell_type": "markdown",
      "source": [
        "## **2. Inline method**\n",
        "Fusionar métodos que son demasiado granulares puede reducir la sobrecarga de llamadas a métodos en ambientes de alta concurrencia, mejorando el rendimiento.\n"
      ],
      "metadata": {
        "id": "nR_IPwssi2XD"
      }
    },
    {
      "cell_type": "code",
      "source": [
        "class PizzaDelivery:\n",
        "    # ...\n",
        "    def getRating(self):\n",
        "        return 2 if self.moreThanFiveLateDeliveries() else 1\n",
        "\n",
        "    def moreThanFiveLateDeliveries(self):\n",
        "        return self.numberOfLateDeliveries > 5"
      ],
      "metadata": {
        "id": "63slCK3XjJ2h"
      },
      "execution_count": null,
      "outputs": []
    },
    {
      "cell_type": "markdown",
      "source": [
        "Es muy reduntante crear dos funciones cuando se puede crear una funcion. Código utiliza un método adicional para hacer la comprobación de las entregas tardías,"
      ],
      "metadata": {
        "id": "EDWWy_Bdjwhq"
      }
    },
    {
      "cell_type": "code",
      "source": [
        "class PizzaDelivery:\n",
        "  # ...\n",
        "  def getRating(self):\n",
        "    return 2 if self.numberOfLateDeliveries > 5 else 1"
      ],
      "metadata": {
        "id": "-1yW7FT2ja2C"
      },
      "execution_count": null,
      "outputs": []
    },
    {
      "cell_type": "markdown",
      "source": [
        "Código hace la comprobación directamente dentro del método ```getRating```.\n",
        "\n"
      ],
      "metadata": {
        "id": "1DkPovzwk029"
      }
    },
    {
      "cell_type": "markdown",
      "source": [
        "## **3. Extract variable**\n",
        "\n",
        "Extraer expresiones en variables puede ayudar a identificar datos compartidos entre threads, lo cual es crucial para evitar condiciones de carrera.\n"
      ],
      "metadata": {
        "id": "hcB2hiUbmyZi"
      }
    },
    {
      "cell_type": "code",
      "source": [
        "def renderBanner(self):\n",
        "    if (self.platform.toUpperCase().indexOf(\"MAC\") > -1) and \\\n",
        "       (self.browser.toUpperCase().indexOf(\"IE\") > -1) and \\\n",
        "       self.wasInitialized() and (self.resize > 0):\n",
        "        # do something"
      ],
      "metadata": {
        "id": "4Uow0Pc9m5Hm"
      },
      "execution_count": null,
      "outputs": []
    },
    {
      "cell_type": "markdown",
      "source": [
        "El problema principal es no definir correctamente ya que\n",
        "```\n",
        "self.platform.toUpperCase().indexOf(\"MAC\") > -1)\n",
        "```\n",
        " se puede almacenar en una variable. Asi, podemos lograr que sea código limpio."
      ],
      "metadata": {
        "id": "ntJr61HFnVUF"
      }
    },
    {
      "cell_type": "code",
      "source": [
        "def renderBanner(self):\n",
        "    isMacOs = self.platform.toUpperCase().indexOf(\"MAC\") > -1\n",
        "    isIE = self.browser.toUpperCase().indexOf(\"IE\") > -1\n",
        "    wasResized = self.resize > 0\n",
        "\n",
        "    if isMacOs and isIE and self.wasInitialized() and wasResized:\n",
        "        # do something"
      ],
      "metadata": {
        "id": "lngTrjP0nRYP"
      },
      "execution_count": null,
      "outputs": []
    },
    {
      "cell_type": "markdown",
      "source": [
        "En este caso en\n",
        "```\n",
        "isMacOs = self.platform.toUpperCase().indexOf(\"MAC\") > -1\n",
        "```\n",
        "al almacenar en una variable es mas claro y en la condición. Es más claro.\n"
      ],
      "metadata": {
        "id": "JUlI7l8GwZcE"
      }
    },
    {
      "cell_type": "markdown",
      "source": [
        "## **4. Replace temp with Query**\n",
        "Fomenta el uso de métodos para calcular valores en lugar de variables temporales, lo cual puede simplificar la sincronización de acceso a datos entre múltiples threads.\n"
      ],
      "metadata": {
        "id": "_QknR7Hot6jF"
      }
    },
    {
      "cell_type": "code",
      "source": [
        "def calculateTotal():\n",
        "    basePrice = quantity * itemPrice\n",
        "    if basePrice > 1000:\n",
        "        return basePrice * 0.95\n",
        "    else:\n",
        "        return basePrice * 0.98"
      ],
      "metadata": {
        "id": "iy14xATZuBAh"
      },
      "execution_count": null,
      "outputs": []
    },
    {
      "cell_type": "markdown",
      "source": [
        "El código no esta claro. Debe existir dos funciones uno para calcular el total y el otro para el hallar el precio."
      ],
      "metadata": {
        "id": "BpzJG70lxCNg"
      }
    },
    {
      "cell_type": "code",
      "source": [
        "def calculateTotal():\n",
        "    if basePrice() > 1000:\n",
        "        return basePrice() * 0.95\n",
        "    else:\n",
        "        return basePrice() * 0.98\n",
        "\n",
        "def basePrice():\n",
        "    return quantity * itemPrice"
      ],
      "metadata": {
        "id": "eyndOHzzt27r"
      },
      "execution_count": null,
      "outputs": []
    },
    {
      "cell_type": "markdown",
      "source": [
        "En este caso, al existir dos funciones. Es mas entendible y que claro el codigo."
      ],
      "metadata": {
        "id": "mCfow6-mxWg7"
      }
    },
    {
      "cell_type": "markdown",
      "source": [
        "## **5. Remove assignments to parameters**\n",
        "Modificar parámetros dentro de una función puede llevar a efectos secundarios inesperados en un entorno concurrente; evitarlo hace que el código sea más seguro en términos de concurrencia.\n"
      ],
      "metadata": {
        "id": "24TV5EQcuCQn"
      }
    },
    {
      "cell_type": "code",
      "source": [
        "def discount(inputVal, quantity):\n",
        "    if quantity > 50:\n",
        "        inputVal -= 2"
      ],
      "metadata": {
        "id": "7J3MIHOjxhld"
      },
      "execution_count": null,
      "outputs": []
    },
    {
      "cell_type": "markdown",
      "source": [
        "Primero, si un parámetro se pasa mediante referencia, luego de que el valor del parámetro se cambia dentro del método, este valor se pasa al argumento que solicitó llamar a este método. . El problema empeora si su parámetro y su contenido están documentados pero el valor real puede diferir de lo esperado dentro del método."
      ],
      "metadata": {
        "id": "Kva1Rfjzx2to"
      }
    },
    {
      "cell_type": "code",
      "source": [
        "def discount(inputVal, quantity):\n",
        "    result = inputVal\n",
        "    if quantity > 50:\n",
        "        result -= 2\n",
        "    # ..."
      ],
      "metadata": {
        "id": "QYL-CtJSxh5H"
      },
      "execution_count": null,
      "outputs": []
    },
    {
      "cell_type": "markdown",
      "source": [
        "En este caso ya se solucione al guardar el inpuVal en result."
      ],
      "metadata": {
        "id": "6w9_NfjtyBUv"
      }
    },
    {
      "cell_type": "markdown",
      "source": [
        "##**6. Replace method with method object**\n",
        "Convierte métodos en objetos que pueden ser ejecutados en paralelo, facilitando la división del trabajo y la gestión del estado local de cada tarea.\n"
      ],
      "metadata": {
        "id": "r9IjwEHbuaYP"
      }
    },
    {
      "cell_type": "code",
      "source": [
        "class Order:\n",
        "    # ...\n",
        "    def price(self):\n",
        "        primaryBasePrice = 0\n",
        "        secondaryBasePrice = 0\n",
        "        tertiaryBasePrice = 0\n",
        "        # Perform long computation."
      ],
      "metadata": {
        "id": "5ZgfNw62ufSF"
      },
      "execution_count": null,
      "outputs": []
    },
    {
      "cell_type": "markdown",
      "source": [
        "Un método es demasiado largo y no se puede separar debido a masas enredadas de variables locales que son difíciles de aislar entre sí."
      ],
      "metadata": {
        "id": "xLaWvw8aycyM"
      }
    },
    {
      "cell_type": "code",
      "source": [
        "class Order:\n",
        "    # ...\n",
        "    def price(self):\n",
        "        return PriceCalculator(self).compute()\n",
        "\n",
        "\n",
        "class PriceCalculator:\n",
        "    def __init__(self, order):\n",
        "        self._primaryBasePrice = 0\n",
        "        self._secondaryBasePrice = 0\n",
        "        self._tertiaryBasePrice = 0\n",
        "        # Copy relevant information from the\n",
        "        # order object.\n",
        "\n",
        "    def compute(self):\n",
        "        # Perform long computation."
      ],
      "metadata": {
        "id": "nPv0IeJvyZ45"
      },
      "execution_count": null,
      "outputs": []
    },
    {
      "cell_type": "markdown",
      "source": [
        "En primer lugar, esto permite aislar el problema a nivel de clase. En segundo lugar, allana el camino para dividir un método grande y difícil de manejar en otros más pequeños que de todos modos no encajarían con el propósito de la clase original."
      ],
      "metadata": {
        "id": "Bz_rDxsnyotG"
      }
    },
    {
      "cell_type": "markdown",
      "source": [
        "## **7. Split Temporary Variable**\n",
        "Evita la reutilización de variables temporales en contextos donde múltiples threads pueden modificarlas, reduciendo así el riesgo de condiciones de carrera.\n"
      ],
      "metadata": {
        "id": "07Ot-Dj9ujEx"
      }
    },
    {
      "cell_type": "code",
      "source": [
        "temp = 2 * (height + width)\n",
        "print(temp)\n",
        "temp = height * width\n",
        "print(temp)"
      ],
      "metadata": {
        "id": "WIr7q6NSuokr"
      },
      "execution_count": null,
      "outputs": []
    },
    {
      "cell_type": "markdown",
      "source": [
        "Tiene una variable local que se usa para almacenar varios valores intermedios dentro de un método (excepto las variables de ciclo)"
      ],
      "metadata": {
        "id": "uXnYfUwRzBnr"
      }
    },
    {
      "cell_type": "code",
      "source": [
        "perimeter = 2 * (height + width)\n",
        "print(perimeter)\n",
        "area = height * width\n",
        "print(area)"
      ],
      "metadata": {
        "id": "CTzDrB3Sy0FD"
      },
      "execution_count": null,
      "outputs": []
    },
    {
      "cell_type": "markdown",
      "source": [
        "Utilice diferentes variables para diferentes valores. Cada variable debe ser responsable de una sola cosa en particular."
      ],
      "metadata": {
        "id": "ufTlivPSzC2j"
      }
    },
    {
      "cell_type": "markdown",
      "source": [
        "## **8. Encapsulate Collection**\n",
        "Encapsular colecciones y proveer métodos para su acceso y modificación puede ayudar a controlar cómo y cuándo se accede a datos compartidos, facilitando la sincronización.\n"
      ],
      "metadata": {
        "id": "_yb3J67huowU"
      }
    },
    {
      "cell_type": "markdown",
      "source": [
        "\n",
        "https://refactoring.guru/images/refactoring/diagrams/Encapsulate%20Collection%20-%20Before.png"
      ],
      "metadata": {
        "id": "tDtEbBTPzfjM"
      }
    },
    {
      "cell_type": "markdown",
      "source": [
        "Una clase contiene un campo de colección y un captador y definidor simple para trabajar con la colección."
      ],
      "metadata": {
        "id": "ku2rxSD20DEm"
      }
    },
    {
      "cell_type": "markdown",
      "source": [
        "https://refactoring.guru/images/refactoring/diagrams/Encapsulate%20Collection%20-%20After.png"
      ],
      "metadata": {
        "id": "WoJZesbx0G3U"
      }
    },
    {
      "cell_type": "markdown",
      "source": [
        "Haga que el valor devuelto por el captador sea de solo lectura y cree métodos para agregar/eliminar elementos de la colección."
      ],
      "metadata": {
        "id": "IQm12zOU0HCA"
      }
    },
    {
      "cell_type": "markdown",
      "source": [
        "## **9. Replace Conditional with Polymorphism**\n",
        "Utilizar polimorfismo en lugar de condicionales para manejar comportamientos basados en tipos puede simplificar el código y mejorar su extensibilidad, lo cual es útil cuando se diseñan sistemas distribuidos que deben ser flexibles y escalables.\n"
      ],
      "metadata": {
        "id": "YdrSLcZ_ut1L"
      }
    },
    {
      "cell_type": "code",
      "source": [
        "class Bird:\n",
        "    # ...\n",
        "    def getSpeed(self):\n",
        "        if self.type == EUROPEAN:\n",
        "            return self.getBaseSpeed()\n",
        "        elif self.type == AFRICAN:\n",
        "            return self.getBaseSpeed() - self.getLoadFactor() * self.numberOfCoconuts\n",
        "        elif self.type == NORWEGIAN_BLUE:\n",
        "            return 0 if self.isNailed else self.getBaseSpeed(self.voltage)\n",
        "        else:\n",
        "            raise Exception(\"Should be unreachable\")"
      ],
      "metadata": {
        "id": "unfj0-g2uyiQ"
      },
      "execution_count": null,
      "outputs": []
    },
    {
      "cell_type": "markdown",
      "source": [
        "Tiene un condicional que realiza varias acciones según el tipo de objeto o las propiedades"
      ],
      "metadata": {
        "id": "p2U9_DLn0cPF"
      }
    },
    {
      "cell_type": "code",
      "source": [
        "class Bird:\n",
        "    # ...\n",
        "    def getSpeed(self):\n",
        "        pass\n",
        "\n",
        "class European(Bird):\n",
        "    def getSpeed(self):\n",
        "        return self.getBaseSpeed()\n",
        "\n",
        "\n",
        "class African(Bird):\n",
        "    def getSpeed(self):\n",
        "        return self.getBaseSpeed() - self.getLoadFactor() * self.numberOfCoconuts\n",
        "\n",
        "\n",
        "class NorwegianBlue(Bird):\n",
        "    def getSpeed(self):\n",
        "        return 0 if self.isNailed else self.getBaseSpeed(self.voltage)\n",
        "\n",
        "# Somewhere in client code\n",
        "speed = bird.getSpeed()"
      ],
      "metadata": {
        "id": "A9Gz3kOY0iA-"
      },
      "execution_count": null,
      "outputs": []
    },
    {
      "cell_type": "markdown",
      "source": [
        "Crea subclases que coincidan con las ramas del condicional. En ellos, cree un método compartido y mueva el código de la rama correspondiente del condicional a él. Luego reemplace el condicional con la llamada al método relevante. El resultado es que la implementación adecuada se logrará mediante polimorfismo dependiendo de la clase de objeto.\n"
      ],
      "metadata": {
        "id": "ZglV8npa0n-g"
      }
    },
    {
      "cell_type": "markdown",
      "source": [
        "## **10. Introduce Parameter Object**\n",
        "Agrupar parámetros relacionados en objetos puede simplificar la firma de los métodos y mejorar la organización del código, lo que es especialmente útil en operaciones distribuidas que requieren múltiples datos de entrada.\n"
      ],
      "metadata": {
        "id": "KwV-9g1nuywR"
      }
    },
    {
      "cell_type": "markdown",
      "source": [
        "https://refactoring.guru/images/refactoring/diagrams/Introduce%20Parameter%20Object%20-%20Before.png"
      ],
      "metadata": {
        "id": "DQu5_oZ603wu"
      }
    },
    {
      "cell_type": "markdown",
      "source": [
        "Sus métodos contienen un grupo repetido de parámetros."
      ],
      "metadata": {
        "id": "BU34L6RX0z_-"
      }
    },
    {
      "cell_type": "markdown",
      "source": [
        "https://refactoring.guru/images/refactoring/diagrams/Introduce%20Parameter%20Object%20-%20After.png"
      ],
      "metadata": {
        "id": "gGBGM0cn0-Ym"
      }
    },
    {
      "cell_type": "markdown",
      "source": [
        "Reemplace estos parámetros con un objeto."
      ],
      "metadata": {
        "id": "jAUJvqsD026Z"
      }
    }
  ]
}