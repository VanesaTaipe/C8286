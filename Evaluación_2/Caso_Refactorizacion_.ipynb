{
  "cells": [
    {
      "cell_type": "markdown",
      "metadata": {
        "id": "view-in-github"
      },
      "source": [
        "<a href=\"https://colab.research.google.com/github/kapumota/Actividades/blob/main/Caso-Refactorizacion.ipynb\" target=\"_parent\"><img src=\"https://colab.research.google.com/assets/colab-badge.svg\" alt=\"Open In Colab\"/></a>"
      ]
    },
    {
      "cell_type": "markdown",
      "metadata": {
        "id": "ns2THSRAVoH-"
      },
      "source": [
        "### Refactorización con pruebas en Python\n",
        "\n",
        "\n",
        "Esta actividad contiene un ejemplo paso a paso de una sesión de refactorización guiada por pruebas. Cuando se trata de código no probado o heredado, la refactorización es peligrosa y las pruebas pueden ayudarnos a hacerlo de la manera correcta, minimizando la cantidad de errores que introducimos y posiblemente evitándolos por completo.\n",
        "\n",
        "La refactorización no es fácil. Se requiere un doble esfuerzo para comprender el código que otros escribieron, o que escribimos en el pasado, y mover partes de él, simplificarlo, en una palabra, mejorarlo, no es algo para los pusilánimes. Al igual que la programación, la refactorización tiene sus reglas y mejores prácticas, pero puede describirse como una mezcla de técnica, intuición, experiencia y riesgo.\n"
      ]
    },
    {
      "cell_type": "code",
      "execution_count": 1,
      "metadata": {
        "colab": {
          "base_uri": "https://localhost:8080/"
        },
        "id": "vyKxC5j4Vr74",
        "outputId": "c7054512-8112-4336-dda6-8faed14290cb"
      },
      "outputs": [
        {
          "output_type": "execute_result",
          "data": {
            "text/plain": [
              "{'edad': 20, 'apodo': 'kapumota', 'nombre': 'Checha', 'salario': '$943'}"
            ]
          },
          "metadata": {},
          "execution_count": 1
        }
      ],
      "source": [
        "{\n",
        "    \"edad\": 20,\n",
        "    \"apodo\": \"kapumota\",\n",
        "    \"nombre\": \"Checha\",\n",
        "    \"salario\": \"$943\"\n",
        "}"
      ]
    },
    {
      "cell_type": "markdown",
      "metadata": {
        "id": "KR_oA6MTV9jU"
      },
      "source": [
        "Una vez que convertimos esto a una estructura de datos de Python, obtenemos una lista de diccionarios, donde 'edad' es un número entero y los campos restantes son cadenas.\n",
        "\n",
        "Luego, alguien escribió una clase que calcula algunas estadísticas sobre los datos de entrada. Esta clase, llamada DataStats, proporciona un solo método stats(), cuyas entradas son los datos devueltos por el servicio (en formato JSON) y dos números enteros llamados `iedad` e `isalario`. Esos, de acuerdo con la breve documentación de la clase, son la edad inicial y el salario inicial utilizados para calcular el aumento anual promedio del salario en todo el conjunto de datos.\n",
        "\n",
        "\n",
        "El codigo es el siguiente:\n"
      ]
    },
    {
      "cell_type": "code",
      "execution_count": 2,
      "metadata": {
        "colab": {
          "base_uri": "https://localhost:8080/"
        },
        "id": "HwV3CRARV5o1",
        "outputId": "eb41c42e-524e-4ad7-f07e-46c9e7962fd9"
      },
      "outputs": [
        {
          "output_type": "stream",
          "name": "stdout",
          "text": [
            "Writing datastats.py\n"
          ]
        }
      ],
      "source": [
        "%%writefile datastats.py\n",
        "\n",
        "import math\n",
        "import json\n",
        "\n",
        "\n",
        "class DataStats:\n",
        "  def stats(self, data, iedad, isalario):\n",
        "    incremento_edad_promedio = math.floor(sum([e['edad'] for e in data])/len(data)) - iedad\n",
        "    incremento_salario_promedio = math.floor( sum([int(e['salario'][1:]) for e in data])/len(data)) - isalario\n",
        "\n",
        "    incremento_anual_promedio = math.floor(incremento_salario_promedio/incremento_edad_promedio)\n",
        "\n",
        "    salarios = [int(e['salario'][1:]) for e in data]\n",
        "    limite = '$' + str(max(salarios))\n",
        "\n",
        "    max_salario = [e for e in data if e['salario'] == limite]\n",
        "\n",
        "    salarios = [int(d['salario'][1:]) for d in data]\n",
        "    min_salario = [e for e in data if e['salario'] ==\n",
        "                      '${}'.format(str(min(salarios)))]\n",
        "\n",
        "    return json.dumps({\n",
        "        'edad_promedio': math.floor(sum([e['edad'] for e in data])/len(data)),\n",
        "        'salario_promedio': math.floor(sum( [int(e['salario'][1:]) for e in data])/len(data)),\n",
        "        'incremento_anual_promedio': incremento_anual_promedio,\n",
        "        'max_salario': max_salario,\n",
        "        'min_salario': min_salario\n",
        "        })"
      ]
    },
    {
      "cell_type": "markdown",
      "metadata": {
        "id": "wbchU-4cMivD"
      },
      "source": [
        "### La meta\n",
        "\n",
        "Es bastante fácil, incluso para el ojo inexperto, detectar algunos problemas en la clase anterior. Una lista de los más llamativos es\n",
        "\n",
        "- La clase expone un solo método y no tiene __init__(), por lo que una sola función podría proporcionar la misma funcionalidad.\n",
        "\n",
        "- El método stats() es demasiado grande y realiza demasiadas tareas. Esto hace que la depuración sea muy difícil, ya que hay una sola pieza de código inextricable que hace todo.\n",
        "\n",
        " - Hay mucha duplicación de código, o al menos varias líneas que son muy similares. En particular, las dos operaciones '£' + str(max(salaries)) y './s{}'.format(str(min(salaries))), las dos líneas diferentes que comienzan con salario =, y las varias comprensiones de listas.\n",
        "\n",
        "Entonces, dado que vamos a usar este código en alguna parte, posiblemente queremos solucionar estos problemas.\n",
        "\n",
        "La clase, sin embargo, está funcionando perfectamente. Se ha utilizado en producción durante muchos años y no hay errores conocidos, por lo que nuestra operación debe ser una refactorización, lo que significa que queremos escribir algo mejor, conservando el comportamiento del objeto anterior.\n",
        "\n",
        "### El camino\n",
        "\n",
        "Aquí, quiero mostrarles cómo puede refactorizar de manera segura dicha clase usando pruebas. Esto es diferente del TDD, pero los dos están estrechamente relacionados. La clase que tenemos no se ha creado usando TDD, ya que no hay pruebas, pero podemos usar pruebas para garantizar que se conserve su comportamiento. Por lo tanto, esto debería llamarse `refactorización impulsada por pruebas` (TDR).\n",
        "\n",
        "La idea detrás de TDR es bastante simple. Primero, tenemos que escribir una prueba que verifique el comportamiento de algún código, posiblemente una pequeña parte con un alcance y salida claramente definidos. Esta es una prueba unitaria póstuma (o tardía), y simula lo que el autor del código debería haber proporcionado.\n",
        "\n",
        "\n",
        "Una vez que tengas tu prueba unitaria puedes ir y modificar el código, sabiendo que el comportamiento del objeto resultante será el mismo que el anterior. Como puede comprender fácilmente, la efectividad de esta metodología depende en gran medida de la calidad de las pruebas en sí, posiblemente más que cuando se desarrolla con TDD, y es por eso que la refactorización es difícil.\n",
        "\n",
        "https://refactoring.guru/design-patterns/decorator\n"
      ]
    },
    {
      "cell_type": "markdown",
      "metadata": {
        "id": "WOu6va8sWjUG"
      },
      "source": [
        "**Pregunta:** ¿Puedes encontrar algunos problemas de la clase anterior?"
      ]
    },
    {
      "cell_type": "markdown",
      "source": [
        "Los problemas encontrados son los siguientes:\n",
        "- Variables con el mismo nombre\n",
        "- Existe duplicacion de codigo\n",
        "- Existe un método\n",
        "- No tiene **init()**  es demasiado\n",
        "- Muy extenso"
      ],
      "metadata": {
        "id": "M11kePqtM1bn"
      }
    },
    {
      "cell_type": "markdown",
      "metadata": {
        "id": "zaln0c-7bvmq"
      },
      "source": [
        "#### 1 Prueba de los endpoints"
      ]
    },
    {
      "cell_type": "markdown",
      "metadata": {
        "id": "lCKJcvmvXXpm"
      },
      "source": [
        "Sean los siguientes datos:"
      ]
    },
    {
      "cell_type": "code",
      "execution_count": 3,
      "metadata": {
        "id": "2qeo7s8wW6HC"
      },
      "outputs": [],
      "source": [
        "test_data = [\n",
        "    {\n",
        "        \"id\": 1,\n",
        "        \"nombre\": \"Irene\",\n",
        "        \"apodo\": \"Lara\",\n",
        "        \"edad\": 68,\n",
        "        \"salario\": \"$27888\"\n",
        "    },\n",
        "    {\n",
        "        \"id\": 2,\n",
        "        \"nombre\": \"Claudio\",\n",
        "        \"apodo\": \"Avila\",\n",
        "        \"edad\": 49,\n",
        "        \"salario\": \"$67137\"\n",
        "    },\n",
        "    {\n",
        "        \"id\": 3,\n",
        "        \"nombre\": \"Tomo\",\n",
        "        \"apodo\": \"Frugs\",\n",
        "        \"edad\": 70,\n",
        "        \"salario\": \"$70472\"\n",
        "    }\n",
        "]"
      ]
    },
    {
      "cell_type": "markdown",
      "metadata": {
        "id": "XKGfJ2wYXj5C"
      },
      "source": [
        "**Pregunta:** Llamando al método `stats()` con esa salida, con `iedad` establecido en `20` e `isalario` establecido en `20000`. ¿Cual es el resultado JSON?."
      ]
    },
    {
      "cell_type": "code",
      "execution_count": null,
      "metadata": {
        "id": "XjTqWGaDYLNs"
      },
      "outputs": [],
      "source": [
        "## Tus respuestas"
      ]
    },
    {
      "cell_type": "code",
      "execution_count": 4,
      "metadata": {
        "colab": {
          "base_uri": "https://localhost:8080/"
        },
        "id": "1G8dpDRpaAEN",
        "outputId": "7814424e-8a92-4bc9-b0cc-848601f8d6a4"
      },
      "outputs": [
        {
          "output_type": "stream",
          "name": "stdout",
          "text": [
            "Writing test_datastats.py\n"
          ]
        }
      ],
      "source": [
        "%%writefile test_datastats.py\n",
        "\n",
        "import json\n",
        "\n",
        "from datastats import DataStats\n",
        "\n",
        "\n",
        "def test_json():\n",
        "    test_data = [\n",
        "    {\n",
        "        \"id\": 1,\n",
        "        \"nombre\": \"Irene\",\n",
        "        \"apodo\": \"Lara\",\n",
        "        \"edad\": 68,\n",
        "        \"salario\": \"$27888\"\n",
        "    },\n",
        "    {\n",
        "        \"id\": 2,\n",
        "        \"nombre\": \"Claudio\",\n",
        "        \"apodo\": \"Avila\",\n",
        "        \"edad\": 49,\n",
        "        \"salario\": \"$67137\"\n",
        "    },\n",
        "    {\n",
        "        \"id\": 3,\n",
        "        \"nombre\": \"Tomo\",\n",
        "        \"apodo\": \"Frugs\",\n",
        "        \"edad\": 70,\n",
        "        \"salario\": \"$70472\"\n",
        "    }\n",
        "]\n",
        "\n",
        "    ds = DataStats()\n",
        "\n",
        "    assert ds.stats(test_data, 20, 20000) == json.dumps(\n",
        "        {\n",
        "\n",
        "        \"edad_promedio\": 62,\n",
        "        \"salario_promedio\": 55165,\n",
        "        \"incremento_anual_promedio\": 837,\n",
        "        \"max_salario\": [{\n",
        "            \"id\": 3,\n",
        "            \"nombre\": \"Tomo\",\n",
        "        \"apodo\": \"Frugs\",\n",
        "        \"edad\": 70,\n",
        "        \"salario\": \"$70472\"\n",
        "    }],\n",
        "    \"min_salario\": [{\n",
        "        \"id\": 1,\n",
        "        \"nombre\": \"Irene\",\n",
        "        \"apodo\": \"Lara\",\n",
        "        \"edad\": 68,\n",
        "        \"salario\": \"$27888\"\n",
        "        }]\n",
        "    }\n",
        "\n",
        ")"
      ]
    },
    {
      "cell_type": "code",
      "source": [
        "from datastats import DataStats\n",
        "import json\n",
        "data_stats = DataStats()\n",
        "result = data_stats.stats(test_data, iedad=20, isalario=20000)\n",
        "print(json.loads(result))"
      ],
      "metadata": {
        "colab": {
          "base_uri": "https://localhost:8080/"
        },
        "id": "vxTgX8nHNWx6",
        "outputId": "a6535b91-10b3-473f-a247-4091304f9f04"
      },
      "execution_count": 5,
      "outputs": [
        {
          "output_type": "stream",
          "name": "stdout",
          "text": [
            "{'edad_promedio': 62, 'salario_promedio': 55165, 'incremento_anual_promedio': 837, 'max_salario': [{'id': 3, 'nombre': 'Tomo', 'apodo': 'Frugs', 'edad': 70, 'salario': '$70472'}], 'min_salario': [{'id': 1, 'nombre': 'Irene', 'apodo': 'Lara', 'edad': 68, 'salario': '$27888'}]}\n"
          ]
        }
      ]
    },
    {
      "cell_type": "code",
      "execution_count": 6,
      "metadata": {
        "colab": {
          "base_uri": "https://localhost:8080/"
        },
        "id": "Xxjc4cTUc9c6",
        "outputId": "2b170075-3ad0-4704-83a3-6c6b79da716f"
      },
      "outputs": [
        {
          "output_type": "stream",
          "name": "stdout",
          "text": [
            "\u001b[1m======================================= test session starts ========================================\u001b[0m\n",
            "platform linux -- Python 3.10.12, pytest-7.4.4, pluggy-1.4.0 -- /usr/bin/python3\n",
            "cachedir: .pytest_cache\n",
            "rootdir: /content\n",
            "plugins: anyio-3.7.1\n",
            "\u001b[1mcollecting ... \u001b[0m\u001b[1m\rcollected 1 item                                                                                   \u001b[0m\n",
            "\n",
            "test_datastats.py::test_json \u001b[32mPASSED\u001b[0m\u001b[32m                                                          [100%]\u001b[0m\n",
            "\n",
            "\u001b[32m======================================== \u001b[32m\u001b[1m1 passed\u001b[0m\u001b[32m in 0.01s\u001b[0m\u001b[32m =========================================\u001b[0m\n"
          ]
        }
      ],
      "source": [
        "! pytest -v test_datastats.py"
      ]
    },
    {
      "cell_type": "markdown",
      "metadata": {
        "id": "Qfs4812djJGR"
      },
      "source": [
        "#### 2  Deshacerse del formato JSON\n",
        "\n",
        "\n",
        "El método devuelve su salida en formato JSON y mirando la clase es evidente que la conversión la realiza  `json.dumps()`.\n",
        "\n",
        "La estructura del código es la siguiente:"
      ]
    },
    {
      "cell_type": "code",
      "execution_count": 7,
      "metadata": {
        "id": "2r0tUah-fAj_"
      },
      "outputs": [],
      "source": [
        "class DataStats:\n",
        "  def stats(self, data, iedad, isalario):\n",
        "    [code_parte_1]\n",
        "\n",
        "    return json.dumps({\n",
        "        [code_parte_2]\n",
        "        })"
      ]
    },
    {
      "cell_type": "markdown",
      "metadata": {
        "id": "1xHL7fyEj74w"
      },
      "source": [
        "Donde `code_parte_2` depende de `code_parte_1`. La primera refactorización entonces sigue el siguiente procedimiento:\n",
        "\n",
        "1. Escribimos una prueba llamada `test__stats()` para un método `_stats()` que se supone que devolverá los datos como una estructura de Python. Podemos inferir esto último manualmente desde JSON o ejecutando `json.loads()` desde un shell de Python. La prueba falla.\n",
        "\n",
        "2. Duplicamos el código del método `stats()` que produce los datos, colocándolo en el nuevo método `_stats()`. La prueba  debe pasar."
      ]
    },
    {
      "cell_type": "markdown",
      "metadata": {
        "id": "_XkhfEx1mK9o"
      },
      "source": [
        "3. Eliminamos el código duplicado en `stats()` reemplazándolo con una llamada a `_stats()`.\n"
      ]
    },
    {
      "cell_type": "markdown",
      "metadata": {
        "id": "EBIyJdQHnEvx"
      },
      "source": [
        "Ahora el código de la clase se ve así:\n"
      ]
    },
    {
      "cell_type": "code",
      "execution_count": 8,
      "metadata": {
        "colab": {
          "base_uri": "https://localhost:8080/"
        },
        "id": "KBtVpZ35mm6C",
        "outputId": "2a114806-0020-4179-dd65-5af35bc13611"
      },
      "outputs": [
        {
          "output_type": "stream",
          "name": "stdout",
          "text": [
            "Overwriting datastats.py\n"
          ]
        }
      ],
      "source": [
        "%%writefile datastats.py\n",
        "import math\n",
        "import json\n",
        "\n",
        "class DataStats:\n",
        "\n",
        "  def _stats(self, data, iedad, isalario):\n",
        "\n",
        "    incremento_edad_promedio = math.floor(\n",
        "            sum([e['edad'] for e in data])/len(data)) - iedad\n",
        "    incremento_salario_promedio= math.floor(\n",
        "            sum([int(e['salario'][1:]) for e in data])/len(data)) - isalario\n",
        "\n",
        "    incremento_anual_promedio = math.floor(\n",
        "            incremento_salario_promedio/incremento_edad_promedio)\n",
        "\n",
        "    salarios = [int(e['salario'][1:]) for e in data]\n",
        "    limite= '$' + str(max(salarios))\n",
        "\n",
        "    max_salario = [e for e in data if e['salario'] == limite]\n",
        "\n",
        "    salarios = [int(d['salario'][1:]) for d in data]\n",
        "    min_salario = [e for e in data if e['salario'] ==\n",
        "                      '${}'.format(str(min(salarios)))]\n",
        "\n",
        "    return {\n",
        "            'edad_promedio': math.floor(sum([e['edad'] for e in data])/len(data)),\n",
        "            'salario_promedio': math.floor(sum(\n",
        "                [int(e['salario'][1:]) for e in data])/len(data)),\n",
        "            'incremento_anual_promedio': incremento_anual_promedio,\n",
        "            'max_salario': max_salario,\n",
        "            'min_salario': min_salario\n",
        "        }\n",
        "\n",
        "  def stats(self, data, iedad, isalario):\n",
        "    return json.dumps(\n",
        "      self._stats(data, iedad, isalario)\n",
        "  )"
      ]
    },
    {
      "cell_type": "markdown",
      "metadata": {
        "id": "j6RXt0wtosR4"
      },
      "source": [
        "Y tenemos dos pruebas que comprueban la corrección de la misma.\n"
      ]
    },
    {
      "cell_type": "code",
      "execution_count": 9,
      "metadata": {
        "colab": {
          "base_uri": "https://localhost:8080/"
        },
        "id": "iECHpaqXw5A8",
        "outputId": "afa39648-76ee-42df-e82c-f27d90de237e"
      },
      "outputs": [
        {
          "output_type": "stream",
          "name": "stdout",
          "text": [
            "Overwriting test_datastats.py\n"
          ]
        }
      ],
      "source": [
        "%%writefile test_datastats.py\n",
        "\n",
        "import json\n",
        "\n",
        "from datastats import DataStats\n",
        "\n",
        "\n",
        "def test_json():\n",
        "    test_data = [\n",
        "        {\n",
        "          \"id\": 1,\n",
        "          \"nombre\": \"Irene\",\n",
        "          \"apodo\": \"Lara\",\n",
        "          \"edad\": 68,\n",
        "          \"salario\": \"$27888\"\n",
        "        },\n",
        "\n",
        "       {\n",
        "           \"id\": 2,\n",
        "          \"nombre\": \"Claudio\",\n",
        "          \"apodo\": \"Avila\",\n",
        "          \"edad\": 49,\n",
        "          \"salario\": \"$67137\"\n",
        "      },\n",
        "      {\n",
        "          \"id\": 3,\n",
        "          \"nombre\": \"Tomo\",\n",
        "          \"apodo\": \"Frugs\",\n",
        "          \"edad\": 70,\n",
        "          \"salario\": \"$70472\"\n",
        "      }\n",
        "    ]\n",
        "\n",
        "    ds = DataStats()\n",
        "\n",
        "    assert ds.stats(test_data, 20, 20000) == json.dumps(\n",
        "        {\n",
        "            \"edad_promedio\": 62,\n",
        "            \"salario_promedio\": 55165,\n",
        "            \"incremento_anual_promedio\": 837,\n",
        "            \"max_salario\": [{\n",
        "                 \"id\": 3,\n",
        "                  \"nombre\": \"Tomo\",\n",
        "                  \"apodo\": \"Frugs\",\n",
        "                  \"edad\": 70,\n",
        "                  \"salario\": \"$70472\"\n",
        "           }],\n",
        "          \"min_salario\": [{\n",
        "              \"id\": 1,\n",
        "              \"nombre\": \"Irene\",\n",
        "              \"apodo\": \"Lara\",\n",
        "              \"edad\": 68,\n",
        "              \"salario\": \"$27888\"\n",
        "            }]\n",
        "       }\n",
        "    )\n",
        "\n",
        "\n",
        "def test__stats():\n",
        "    test_data = [\n",
        "        {\n",
        "        \"id\": 1,\n",
        "        \"nombre\": \"Irene\",\n",
        "        \"apodo\": \"Lara\",\n",
        "        \"edad\": 68,\n",
        "        \"salario\": \"$27888\"\n",
        "    },\n",
        "    {\n",
        "        \"id\": 2,\n",
        "        \"nombre\": \"Claudio\",\n",
        "        \"apodo\": \"Avila\",\n",
        "        \"edad\": 49,\n",
        "        \"salario\": \"$67137\"\n",
        "    },\n",
        "    {\n",
        "        \"id\": 3,\n",
        "        \"nombre\": \"Tomo\",\n",
        "        \"apodo\": \"Frugs\",\n",
        "        \"edad\": 70,\n",
        "        \"salario\": \"$70472\"\n",
        "    }\n",
        "\n",
        "    ]\n",
        "\n",
        "    ds = DataStats()\n",
        "\n",
        "    assert ds._stats(test_data, 20, 20000) == {\n",
        "        \"edad_promedio\": 62,\n",
        "        \"salario_promedio\": 55165,\n",
        "        \"incremento_anual_promedio\": 837,\n",
        "        \"max_salario\": [{\n",
        "            \"id\": 3,\n",
        "            \"nombre\": \"Tomo\",\n",
        "            \"apodo\": \"Frugs\",\n",
        "             \"edad\": 70,\n",
        "              \"salario\": \"$70472\"\n",
        "    }],\n",
        "    \"min_salario\": [{\n",
        "        \"id\": 1,\n",
        "        \"nombre\": \"Irene\",\n",
        "        \"apodo\": \"Lara\",\n",
        "        \"edad\": 68,\n",
        "        \"salario\": \"$27888\"\n",
        "\n",
        "        }]\n",
        "    }"
      ]
    },
    {
      "cell_type": "code",
      "execution_count": 10,
      "metadata": {
        "colab": {
          "base_uri": "https://localhost:8080/"
        },
        "id": "6zcqdDKdquyS",
        "outputId": "a4cdcc37-9a87-4eda-a3ad-1fcb13e0d60e"
      },
      "outputs": [
        {
          "output_type": "stream",
          "name": "stdout",
          "text": [
            "\u001b[1m======================================= test session starts ========================================\u001b[0m\n",
            "platform linux -- Python 3.10.12, pytest-7.4.4, pluggy-1.4.0\n",
            "rootdir: /content\n",
            "plugins: anyio-3.7.1\n",
            "\u001b[1mcollecting ... \u001b[0m\u001b[1m\rcollected 2 items                                                                                  \u001b[0m\n",
            "\n",
            "test_datastats.py \u001b[32m.\u001b[0m\u001b[32m.\u001b[0m\u001b[32m                                                                         [100%]\u001b[0m\n",
            "\n",
            "\u001b[32m======================================== \u001b[32m\u001b[1m2 passed\u001b[0m\u001b[32m in 0.01s\u001b[0m\u001b[32m =========================================\u001b[0m\n"
          ]
        }
      ],
      "source": [
        "! pytest test_datastats.py"
      ]
    },
    {
      "cell_type": "markdown",
      "metadata": {
        "id": "2OrDQVVA2arg"
      },
      "source": [
        "#### 3 Refactorización de las pruebas\n",
        "\n",
        "\n",
        "Es claro que la lista de diccionarios `test_data` se usará en cada prueba que realicemos, por lo que ya es hora de que la traslademos a una variable global.\n",
        "También podríamos mover los datos de salida a una variable global.\n",
        "\n",
        "El conjunto de pruebas ahora parece:"
      ]
    },
    {
      "cell_type": "code",
      "execution_count": 11,
      "metadata": {
        "colab": {
          "base_uri": "https://localhost:8080/"
        },
        "id": "siN4fTHcqw5f",
        "outputId": "f28298de-eb78-4acc-938e-855b9c3639d8"
      },
      "outputs": [
        {
          "output_type": "stream",
          "name": "stdout",
          "text": [
            "Overwriting test_datastats.py\n"
          ]
        }
      ],
      "source": [
        "%%writefile test_datastats.py\n",
        "\n",
        "import json\n",
        "\n",
        "from datastats import DataStats\n",
        "\n",
        "\n",
        "test_data = [\n",
        "        {\n",
        "          \"id\": 1,\n",
        "          \"nombre\": \"Irene\",\n",
        "          \"apodo\": \"Lara\",\n",
        "          \"edad\": 68,\n",
        "          \"salario\": \"$27888\"\n",
        "        },\n",
        "\n",
        "       {\n",
        "           \"id\": 2,\n",
        "          \"nombre\": \"Claudio\",\n",
        "          \"apodo\": \"Avila\",\n",
        "          \"edad\": 49,\n",
        "          \"salario\": \"$67137\"\n",
        "      },\n",
        "      {\n",
        "          \"id\": 3,\n",
        "          \"nombre\": \"Tomo\",\n",
        "          \"apodo\": \"Frugs\",\n",
        "          \"edad\": 70,\n",
        "          \"salario\": \"$70472\"\n",
        "      }\n",
        "    ]\n",
        "\n",
        "def test_json():\n",
        "\n",
        "  ds = DataStats()\n",
        "\n",
        "  assert ds.stats(test_data, 20, 20000) == json.dumps(\n",
        "        {\n",
        "            \"edad_promedio\": 62,\n",
        "            \"salario_promedio\": 55165,\n",
        "            \"incremento_anual_promedio\": 837,\n",
        "            \"max_salario\": [{\n",
        "                 \"id\": 3,\n",
        "                  \"nombre\": \"Tomo\",\n",
        "                  \"apodo\": \"Frugs\",\n",
        "                  \"edad\": 70,\n",
        "                  \"salario\": \"$70472\"\n",
        "           }],\n",
        "          \"min_salario\": [{\n",
        "              \"id\": 1,\n",
        "              \"nombre\": \"Irene\",\n",
        "              \"apodo\": \"Lara\",\n",
        "              \"edad\": 68,\n",
        "              \"salario\": \"$27888\"\n",
        "            }]\n",
        "       }\n",
        "    )\n",
        "\n",
        "\n",
        "def test__stats():\n",
        "\n",
        "   ds = DataStats()\n",
        "\n",
        "   assert ds._stats(test_data, 20, 20000) == {\n",
        "        \"edad_promedio\": 62,\n",
        "        \"salario_promedio\": 55165,\n",
        "        \"incremento_anual_promedio\": 837,\n",
        "        \"max_salario\": [{\n",
        "            \"id\": 3,\n",
        "            \"nombre\": \"Tomo\",\n",
        "            \"apodo\": \"Frugs\",\n",
        "             \"edad\": 70,\n",
        "              \"salario\": \"$70472\"\n",
        "    }],\n",
        "    \"min_salario\": [{\n",
        "        \"id\": 1,\n",
        "        \"nombre\": \"Irene\",\n",
        "        \"apodo\": \"Lara\",\n",
        "        \"edad\": 68,\n",
        "        \"salario\": \"$27888\"\n",
        "\n",
        "        }]\n",
        "    }"
      ]
    },
    {
      "cell_type": "code",
      "execution_count": 12,
      "metadata": {
        "colab": {
          "base_uri": "https://localhost:8080/"
        },
        "id": "Zx0-y_Rn9Mu3",
        "outputId": "48b1e273-89a7-4f18-ff4d-949b121c7563"
      },
      "outputs": [
        {
          "output_type": "stream",
          "name": "stdout",
          "text": [
            "\u001b[1m======================================= test session starts ========================================\u001b[0m\n",
            "platform linux -- Python 3.10.12, pytest-7.4.4, pluggy-1.4.0\n",
            "rootdir: /content\n",
            "plugins: anyio-3.7.1\n",
            "\u001b[1mcollecting ... \u001b[0m\u001b[1m\rcollected 2 items                                                                                  \u001b[0m\n",
            "\n",
            "test_datastats.py \u001b[32m.\u001b[0m\u001b[32m.\u001b[0m\u001b[32m                                                                         [100%]\u001b[0m\n",
            "\n",
            "\u001b[32m======================================== \u001b[32m\u001b[1m2 passed\u001b[0m\u001b[32m in 0.01s\u001b[0m\u001b[32m =========================================\u001b[0m\n"
          ]
        }
      ],
      "source": [
        "! pytest test_datastats.py"
      ]
    },
    {
      "cell_type": "markdown",
      "metadata": {
        "id": "Cl8PErtN9pt9"
      },
      "source": [
        "#### 4 Aislamiento del algoritmo de edad promedio\n",
        "\n",
        "Aislar características independientes es un objetivo clave del diseño de software. Por lo tanto, la refactorización tendrá como objetivo desentrañar el código dividiéndolo en pequeñas funciones separadas.\n",
        "\n",
        "\n",
        "Para aislar algún código, lo primero que debe hacer es duplicarlo, colocándolo en un método dedicado. Como estamos refactorizando con pruebas, lo primero es escribir una prueba para este método.\n"
      ]
    },
    {
      "cell_type": "code",
      "execution_count": 13,
      "metadata": {
        "colab": {
          "base_uri": "https://localhost:8080/"
        },
        "id": "hy9s7AZv97TC",
        "outputId": "b41597d7-a049-4d04-f5d9-0465f057d7b0"
      },
      "outputs": [
        {
          "output_type": "stream",
          "name": "stdout",
          "text": [
            "Overwriting datastats.py\n"
          ]
        }
      ],
      "source": [
        "%%writefile datastats.py\n",
        "import math\n",
        "import json\n",
        "\n",
        "class DataStats:\n",
        "\n",
        "  def _edad_promedio(self, data):\n",
        "    return math.floor(sum([e['edad'] for e in data])/len(data))\n",
        "\n",
        "  def _stats(self, data, iedad, isalario):\n",
        "\n",
        "    incremento_edad_promedio = math.floor(\n",
        "            sum([e['edad'] for e in data])/len(data)) - iedad\n",
        "    incremento_salario_promedio= math.floor(\n",
        "            sum([int(e['salario'][1:]) for e in data])/len(data)) - isalario\n",
        "\n",
        "    incremento_anual_promedio = math.floor(\n",
        "            incremento_salario_promedio/incremento_edad_promedio)\n",
        "\n",
        "    salarios = [int(e['salario'][1:]) for e in data]\n",
        "    limite= '$' + str(max(salarios))\n",
        "\n",
        "    max_salario = [e for e in data if e['salario'] == limite]\n",
        "\n",
        "    salarios = [int(d['salario'][1:]) for d in data]\n",
        "    min_salario = [e for e in data if e['salario'] ==\n",
        "                      '${}'.format(str(min(salarios)))]\n",
        "\n",
        "    return {\n",
        "            'edad_promedio': self._edad_promedio(data),\n",
        "            'salario_promedio': math.floor(sum(\n",
        "                [int(e['salario'][1:]) for e in data])/len(data)),\n",
        "            'incremento_anual_promedio': incremento_anual_promedio,\n",
        "            'max_salario': max_salario,\n",
        "            'min_salario': min_salario\n",
        "        }\n",
        "\n",
        "  def stats(self, data, iedad, isalario):\n",
        "    return json.dumps(\n",
        "      self._stats(data, iedad, isalario)\n",
        "  )"
      ]
    },
    {
      "cell_type": "code",
      "execution_count": 14,
      "metadata": {
        "colab": {
          "base_uri": "https://localhost:8080/"
        },
        "id": "ZH0SIpa0_4rn",
        "outputId": "97ffd34d-26d4-49d2-b972-75ec0b14c1cf"
      },
      "outputs": [
        {
          "output_type": "stream",
          "name": "stdout",
          "text": [
            "Overwriting test_datastats.py\n"
          ]
        }
      ],
      "source": [
        "%%writefile test_datastats.py\n",
        "\n",
        "import json\n",
        "\n",
        "from datastats import DataStats\n",
        "\n",
        "\n",
        "test_data = [\n",
        "        {\n",
        "          \"id\": 1,\n",
        "          \"nombre\": \"Irene\",\n",
        "          \"apodo\": \"Lara\",\n",
        "          \"edad\": 68,\n",
        "          \"salario\": \"$27888\"\n",
        "        },\n",
        "\n",
        "       {\n",
        "           \"id\": 2,\n",
        "          \"nombre\": \"Claudio\",\n",
        "          \"apodo\": \"Avila\",\n",
        "          \"edad\": 49,\n",
        "          \"salario\": \"$67137\"\n",
        "      },\n",
        "      {\n",
        "          \"id\": 3,\n",
        "          \"nombre\": \"Tomo\",\n",
        "          \"apodo\": \"Frugs\",\n",
        "          \"edad\": 70,\n",
        "          \"salario\": \"$70472\"\n",
        "      }\n",
        "    ]\n",
        "\n",
        "def test_json():\n",
        "\n",
        "  ds = DataStats()\n",
        "\n",
        "  assert ds.stats(test_data, 20, 20000) == json.dumps(\n",
        "        {\n",
        "            \"edad_promedio\": 62,\n",
        "            \"salario_promedio\": 55165,\n",
        "            \"incremento_anual_promedio\": 837,\n",
        "            \"max_salario\": [{\n",
        "                 \"id\": 3,\n",
        "                  \"nombre\": \"Tomo\",\n",
        "                  \"apodo\": \"Frugs\",\n",
        "                  \"edad\": 70,\n",
        "                  \"salario\": \"$70472\"\n",
        "           }],\n",
        "          \"min_salario\": [{\n",
        "              \"id\": 1,\n",
        "              \"nombre\": \"Irene\",\n",
        "              \"apodo\": \"Lara\",\n",
        "              \"edad\": 68,\n",
        "              \"salario\": \"$27888\"\n",
        "            }]\n",
        "       }\n",
        "    )\n",
        "\n",
        "\n",
        "def test__stats():\n",
        "\n",
        "   ds = DataStats()\n",
        "\n",
        "   assert ds._stats(test_data, 20, 20000) == {\n",
        "        \"edad_promedio\": 62,\n",
        "        \"salario_promedio\": 55165,\n",
        "        \"incremento_anual_promedio\": 837,\n",
        "        \"max_salario\": [{\n",
        "            \"id\": 3,\n",
        "            \"nombre\": \"Tomo\",\n",
        "            \"apodo\": \"Frugs\",\n",
        "             \"edad\": 70,\n",
        "              \"salario\": \"$70472\"\n",
        "    }],\n",
        "    \"min_salario\": [{\n",
        "        \"id\": 1,\n",
        "        \"nombre\": \"Irene\",\n",
        "        \"apodo\": \"Lara\",\n",
        "        \"edad\": 68,\n",
        "        \"salario\": \"$27888\"\n",
        "\n",
        "        }]\n",
        "    }\n",
        "\n",
        "def test__edad_promedio():\n",
        "  ds = DataStats()\n",
        "\n",
        "  assert ds._edad_promedio(test_data) == 62"
      ]
    },
    {
      "cell_type": "code",
      "execution_count": 15,
      "metadata": {
        "colab": {
          "base_uri": "https://localhost:8080/"
        },
        "id": "hT42ulLpAqyE",
        "outputId": "538b48f2-8ebe-4d37-ab98-c3cddf1541a0"
      },
      "outputs": [
        {
          "output_type": "stream",
          "name": "stdout",
          "text": [
            "\u001b[1m======================================= test session starts ========================================\u001b[0m\n",
            "platform linux -- Python 3.10.12, pytest-7.4.4, pluggy-1.4.0\n",
            "rootdir: /content\n",
            "plugins: anyio-3.7.1\n",
            "\u001b[1mcollecting ... \u001b[0m\u001b[1m\rcollected 3 items                                                                                  \u001b[0m\n",
            "\n",
            "test_datastats.py \u001b[32m.\u001b[0m\u001b[32m.\u001b[0m\u001b[32m.\u001b[0m\u001b[32m                                                                        [100%]\u001b[0m\n",
            "\n",
            "\u001b[32m======================================== \u001b[32m\u001b[1m3 passed\u001b[0m\u001b[32m in 0.02s\u001b[0m\u001b[32m =========================================\u001b[0m\n"
          ]
        }
      ],
      "source": [
        "! pytest test_datastats.py"
      ]
    },
    {
      "cell_type": "markdown",
      "metadata": {
        "id": "dSaD8llWDI1k"
      },
      "source": [
        "#### 5 Aíslamiento el algoritmo de salario promedio\n"
      ]
    },
    {
      "cell_type": "code",
      "execution_count": 16,
      "metadata": {
        "colab": {
          "base_uri": "https://localhost:8080/"
        },
        "id": "pv2DFnw4DN5T",
        "outputId": "9d53b4e6-54b2-482c-d2a1-9e174aee344c"
      },
      "outputs": [
        {
          "output_type": "stream",
          "name": "stdout",
          "text": [
            "Overwriting datastats.py\n"
          ]
        }
      ],
      "source": [
        "%%writefile datastats.py\n",
        "import math\n",
        "import json\n",
        "\n",
        "class DataStats:\n",
        "  def _salario_promedio(self, data):\n",
        "    return math.floor(sum([int(e['salario'][1:]) for e in data])/len(data))\n",
        "\n",
        "  def _edad_promedio(self, data):\n",
        "    return math.floor(sum([e['edad'] for e in data])/len(data))\n",
        "\n",
        "  def _stats(self, data, iedad, isalario):\n",
        "\n",
        "    incremento_edad_promedio = math.floor(\n",
        "            sum([e['edad'] for e in data])/len(data)) - iedad\n",
        "    incremento_salario_promedio= math.floor(\n",
        "            sum([int(e['salario'][1:]) for e in data])/len(data)) - isalario\n",
        "\n",
        "    incremento_anual_promedio = math.floor(\n",
        "            incremento_salario_promedio/incremento_edad_promedio)\n",
        "\n",
        "    salarios = [int(e['salario'][1:]) for e in data]\n",
        "    limite= '$' + str(max(salarios))\n",
        "\n",
        "    max_salario = [e for e in data if e['salario'] == limite]\n",
        "\n",
        "    salarios = [int(d['salario'][1:]) for d in data]\n",
        "    min_salario = [e for e in data if e['salario'] ==\n",
        "                      '${}'.format(str(min(salarios)))]\n",
        "\n",
        "    return {\n",
        "            'edad_promedio': self._edad_promedio(data),\n",
        "            'salario_promedio': self._salario_promedio(data),\n",
        "            'incremento_anual_promedio': incremento_anual_promedio,\n",
        "            'max_salario': max_salario,\n",
        "            'min_salario': min_salario\n",
        "        }\n",
        "\n",
        "  def stats(self, data, iedad, isalario):\n",
        "    return json.dumps(\n",
        "      self._stats(data, iedad, isalario)\n",
        "  )"
      ]
    },
    {
      "cell_type": "code",
      "execution_count": 17,
      "metadata": {
        "colab": {
          "base_uri": "https://localhost:8080/"
        },
        "id": "OyxKzZs7IUiX",
        "outputId": "42f849ae-db8e-4b45-c5a6-65a3eeee68cc"
      },
      "outputs": [
        {
          "output_type": "stream",
          "name": "stdout",
          "text": [
            "Overwriting test_datastats.py\n"
          ]
        }
      ],
      "source": [
        "%%writefile test_datastats.py\n",
        "\n",
        "import json\n",
        "\n",
        "from datastats import DataStats\n",
        "\n",
        "\n",
        "test_data = [\n",
        "        {\n",
        "          \"id\": 1,\n",
        "          \"nombre\": \"Irene\",\n",
        "          \"apodo\": \"Lara\",\n",
        "          \"edad\": 68,\n",
        "          \"salario\": \"$27888\"\n",
        "        },\n",
        "\n",
        "       {\n",
        "           \"id\": 2,\n",
        "          \"nombre\": \"Claudio\",\n",
        "          \"apodo\": \"Avila\",\n",
        "          \"edad\": 49,\n",
        "          \"salario\": \"$67137\"\n",
        "      },\n",
        "      {\n",
        "          \"id\": 3,\n",
        "          \"nombre\": \"Tomo\",\n",
        "          \"apodo\": \"Frugs\",\n",
        "          \"edad\": 70,\n",
        "          \"salario\": \"$70472\"\n",
        "      }\n",
        "    ]\n",
        "\n",
        "def test_json():\n",
        "\n",
        "  ds = DataStats()\n",
        "\n",
        "  assert ds.stats(test_data, 20, 20000) == json.dumps(\n",
        "        {\n",
        "            \"edad_promedio\": 62,\n",
        "            \"salario_promedio\": 55165,\n",
        "            \"incremento_anual_promedio\": 837,\n",
        "            \"max_salario\": [{\n",
        "                 \"id\": 3,\n",
        "                  \"nombre\": \"Tomo\",\n",
        "                  \"apodo\": \"Frugs\",\n",
        "                  \"edad\": 70,\n",
        "                  \"salario\": \"$70472\"\n",
        "           }],\n",
        "          \"min_salario\": [{\n",
        "              \"id\": 1,\n",
        "              \"nombre\": \"Irene\",\n",
        "              \"apodo\": \"Lara\",\n",
        "              \"edad\": 68,\n",
        "              \"salario\": \"$27888\"\n",
        "            }]\n",
        "       }\n",
        "    )\n",
        "\n",
        "\n",
        "def test__stats():\n",
        "\n",
        "   ds = DataStats()\n",
        "\n",
        "   assert ds._stats(test_data, 20, 20000) == {\n",
        "        \"edad_promedio\": 62,\n",
        "        \"salario_promedio\": 55165,\n",
        "        \"incremento_anual_promedio\": 837,\n",
        "        \"max_salario\": [{\n",
        "            \"id\": 3,\n",
        "            \"nombre\": \"Tomo\",\n",
        "            \"apodo\": \"Frugs\",\n",
        "             \"edad\": 70,\n",
        "              \"salario\": \"$70472\"\n",
        "    }],\n",
        "    \"min_salario\": [{\n",
        "        \"id\": 1,\n",
        "        \"nombre\": \"Irene\",\n",
        "        \"apodo\": \"Lara\",\n",
        "        \"edad\": 68,\n",
        "        \"salario\": \"$27888\"\n",
        "\n",
        "        }]\n",
        "    }\n",
        "\n",
        "def test__edad_promedio():\n",
        "  ds = DataStats()\n",
        "\n",
        "  assert ds._edad_promedio(test_data) == 62\n",
        "\n",
        "def test__salario_promedio():\n",
        "  ds = DataStats()\n",
        "  assert ds._salario_promedio(test_data) == 55165"
      ]
    },
    {
      "cell_type": "code",
      "execution_count": 18,
      "metadata": {
        "colab": {
          "base_uri": "https://localhost:8080/"
        },
        "id": "5CZfMBdbI554",
        "outputId": "1bc704da-fbb2-441a-8bd9-24a793977226"
      },
      "outputs": [
        {
          "output_type": "stream",
          "name": "stdout",
          "text": [
            "\u001b[1m======================================= test session starts ========================================\u001b[0m\n",
            "platform linux -- Python 3.10.12, pytest-7.4.4, pluggy-1.4.0\n",
            "rootdir: /content\n",
            "plugins: anyio-3.7.1\n",
            "\u001b[1mcollecting ... \u001b[0m\u001b[1m\rcollected 4 items                                                                                  \u001b[0m\n",
            "\n",
            "test_datastats.py \u001b[32m.\u001b[0m\u001b[32m.\u001b[0m\u001b[32m.\u001b[0m\u001b[32m.\u001b[0m\u001b[32m                                                                       [100%]\u001b[0m\n",
            "\n",
            "\u001b[32m======================================== \u001b[32m\u001b[1m4 passed\u001b[0m\u001b[32m in 0.02s\u001b[0m\u001b[32m =========================================\u001b[0m\n"
          ]
        }
      ],
      "source": [
        "! pytest test_datastats.py"
      ]
    },
    {
      "cell_type": "markdown",
      "metadata": {
        "id": "vLnHczEmJDuA"
      },
      "source": [
        "#### 6 Aislamiento del algoritmo de aumento anual promedio\n",
        "\n",
        "Para el incremento promedio anual del salario tenemos una nueva prueba:"
      ]
    },
    {
      "cell_type": "code",
      "execution_count": null,
      "metadata": {
        "id": "XvVdcLnAJby4"
      },
      "outputs": [],
      "source": [
        "#def test__incremento_anual_promedio():\n",
        "#  ds = DataStats()\n",
        "#  assert ds._incremento_anual_promedio(test_data, 20, 20000) == 837"
      ]
    },
    {
      "cell_type": "markdown",
      "metadata": {
        "id": "_F7sCrXdJnso"
      },
      "source": [
        "Un nuevo método que pasa la prueba:"
      ]
    },
    {
      "cell_type": "code",
      "execution_count": null,
      "metadata": {
        "id": "1KWbktesJjtI"
      },
      "outputs": [],
      "source": [
        "#def _incremento_anual_promedio(self, data, iedad, isalario):\n",
        "#  incremento_anual_promedio = math.floor(\n",
        "#            sum([e['edad'] for e in data])/len(data)) - iedad\n",
        "#  incremento_salario_promedio = math.floor(\n",
        "#            sum([int(e['salario'][1:]) for e in data])/len(data)) - isalario\n",
        "\n",
        "#  return math.floor(incremento_salario_promedio/incremento_edad_promedio)"
      ]
    },
    {
      "cell_type": "markdown",
      "metadata": {
        "id": "9nW7r2P0KChB"
      },
      "source": [
        "Y una nueva versión del método `_stats()`:"
      ]
    },
    {
      "cell_type": "code",
      "execution_count": null,
      "metadata": {
        "id": "zU8LmKApKFjw"
      },
      "outputs": [],
      "source": [
        "#def _stats(self, data, iedad, isalario):\n",
        "#  salarios = [int(e['salario'][1:]) for e in data]\n",
        "#  limite= '$' + str(max(salarios))\n",
        "#\n",
        "#  max_salario = [e for e in data if e['salario'] == limite]\n",
        "#\n",
        "#  salarios = [int(d['salario'][1:]) for d in data]\n",
        "#  min_salario = [e for e in data if e['salario'] ==\n",
        "#                      '${}'.format(str(min(salarios)))]\n",
        "#\n",
        "#  return {\n",
        "#        'edad_promedio': self._avg_age(data),\n",
        "#        'salario_promedio':  self._salario_promedio(data),\n",
        "#        'incremento_anual_promedio': self._incremento_anual_promedio (\n",
        "#                data, iedad, isalario),\n",
        "#        'max_salario': max_salario,\n",
        "#        'min_salario': min_salario\n",
        "#        }"
      ]
    },
    {
      "cell_type": "markdown",
      "metadata": {
        "id": "LRlCT6uiKgU0"
      },
      "source": [
        "Con todo esto tenemos:"
      ]
    },
    {
      "cell_type": "code",
      "execution_count": 19,
      "metadata": {
        "colab": {
          "base_uri": "https://localhost:8080/"
        },
        "id": "h_q67G8pK5hA",
        "outputId": "189a2c7a-fc9a-4d31-d35a-cd7d0413707d"
      },
      "outputs": [
        {
          "output_type": "stream",
          "name": "stdout",
          "text": [
            "Overwriting datastats.py\n"
          ]
        }
      ],
      "source": [
        "%%writefile datastats.py\n",
        "import math\n",
        "import json\n",
        "\n",
        "class DataStats:\n",
        "\n",
        "  def _salario_promedio(self, data):\n",
        "    return math.floor(sum([int(e['salario'][1:]) for e in data])/len(data))\n",
        "\n",
        "  def _edad_promedio(self, data):\n",
        "    return math.floor(sum([e['edad'] for e in data])/len(data))\n",
        "\n",
        "  def _incremento_anual_promedio(self, data, iedad, isalario):\n",
        "\n",
        "    incremento_edad_promedio = math.floor(\n",
        "            sum([e['edad'] for e in data])/len(data)) - iedad\n",
        "    incremento_salario_promedio = math.floor(\n",
        "            sum([int(e['salario'][1:]) for e in data])/len(data)) - isalario\n",
        "\n",
        "    return math.floor(incremento_salario_promedio/incremento_edad_promedio)\n",
        "\n",
        "  def _stats(self, data, iedad, isalario):\n",
        "    salarios = [int(e['salario'][1:]) for e in data]\n",
        "    limite= '$' + str(max(salarios))\n",
        "\n",
        "    max_salario = [e for e in data if e['salario'] == limite]\n",
        "\n",
        "    salarios = [int(d['salario'][1:]) for d in data]\n",
        "    min_salario = [e for e in data if e['salario'] ==\n",
        "                      '${}'.format(str(min(salarios)))]\n",
        "\n",
        "    return {\n",
        "            'edad_promedio': self._edad_promedio(data),\n",
        "            'salario_promedio': self._salario_promedio(data),\n",
        "            'incremento_anual_promedio': self._incremento_anual_promedio(\n",
        "                data, iedad, isalario),\n",
        "            'max_salario': max_salario,\n",
        "            'min_salario': min_salario\n",
        "        }\n",
        "\n",
        "  def stats(self, data, iedad, isalario):\n",
        "    return json.dumps(\n",
        "      self._stats(data, iedad, isalario)\n",
        "  )"
      ]
    },
    {
      "cell_type": "code",
      "execution_count": 20,
      "metadata": {
        "colab": {
          "base_uri": "https://localhost:8080/"
        },
        "id": "S-Sp_wD7NkWF",
        "outputId": "3c94682e-f596-437b-e5d0-3c9836eb51f9"
      },
      "outputs": [
        {
          "output_type": "stream",
          "name": "stdout",
          "text": [
            "Overwriting test_datastats.py\n"
          ]
        }
      ],
      "source": [
        "%%writefile test_datastats.py\n",
        "\n",
        "import json\n",
        "\n",
        "from datastats import DataStats\n",
        "\n",
        "\n",
        "test_data = [\n",
        "        {\n",
        "          \"id\": 1,\n",
        "          \"nombre\": \"Irene\",\n",
        "          \"apodo\": \"Lara\",\n",
        "          \"edad\": 68,\n",
        "          \"salario\": \"$27888\"\n",
        "        },\n",
        "\n",
        "       {\n",
        "           \"id\": 2,\n",
        "          \"nombre\": \"Claudio\",\n",
        "          \"apodo\": \"Avila\",\n",
        "          \"edad\": 49,\n",
        "          \"salario\": \"$67137\"\n",
        "      },\n",
        "      {\n",
        "          \"id\": 3,\n",
        "          \"nombre\": \"Tomo\",\n",
        "          \"apodo\": \"Frugs\",\n",
        "          \"edad\": 70,\n",
        "          \"salario\": \"$70472\"\n",
        "      }\n",
        "    ]\n",
        "\n",
        "def test_json():\n",
        "\n",
        "  ds = DataStats()\n",
        "\n",
        "  assert ds.stats(test_data, 20, 20000) == json.dumps(\n",
        "        {\n",
        "            \"edad_promedio\": 62,\n",
        "            \"salario_promedio\": 55165,\n",
        "            \"incremento_anual_promedio\": 837,\n",
        "            \"max_salario\": [{\n",
        "                 \"id\": 3,\n",
        "                  \"nombre\": \"Tomo\",\n",
        "                  \"apodo\": \"Frugs\",\n",
        "                  \"edad\": 70,\n",
        "                  \"salario\": \"$70472\"\n",
        "           }],\n",
        "          \"min_salario\": [{\n",
        "              \"id\": 1,\n",
        "              \"nombre\": \"Irene\",\n",
        "              \"apodo\": \"Lara\",\n",
        "              \"edad\": 68,\n",
        "              \"salario\": \"$27888\"\n",
        "            }]\n",
        "       }\n",
        "    )\n",
        "\n",
        "\n",
        "def test__stats():\n",
        "\n",
        "   ds = DataStats()\n",
        "\n",
        "   assert ds._stats(test_data, 20, 20000) == {\n",
        "        \"edad_promedio\": 62,\n",
        "        \"salario_promedio\": 55165,\n",
        "        \"incremento_anual_promedio\": 837,\n",
        "        \"max_salario\": [{\n",
        "            \"id\": 3,\n",
        "            \"nombre\": \"Tomo\",\n",
        "            \"apodo\": \"Frugs\",\n",
        "             \"edad\": 70,\n",
        "              \"salario\": \"$70472\"\n",
        "    }],\n",
        "    \"min_salario\": [{\n",
        "        \"id\": 1,\n",
        "        \"nombre\": \"Irene\",\n",
        "        \"apodo\": \"Lara\",\n",
        "        \"edad\": 68,\n",
        "        \"salario\": \"$27888\"\n",
        "\n",
        "        }]\n",
        "    }\n",
        "\n",
        "def test__edad_promedio():\n",
        "  ds = DataStats()\n",
        "\n",
        "  assert ds._edad_promedio(test_data) == 62\n",
        "\n",
        "def test__salario_promedio():\n",
        "  ds = DataStats()\n",
        "  assert ds._salario_promedio(test_data) == 55165\n",
        "\n",
        "def test__incremento_anual_promedio():\n",
        "  ds = DataStats()\n",
        "\n",
        "  assert ds._incremento_anual_promedio(test_data, 20, 20000) == 837\n"
      ]
    },
    {
      "cell_type": "code",
      "execution_count": 21,
      "metadata": {
        "colab": {
          "base_uri": "https://localhost:8080/"
        },
        "id": "rp1qMEa0Oe2k",
        "outputId": "51d7480d-2ad6-4573-a8fd-5fa88ad108ff"
      },
      "outputs": [
        {
          "output_type": "stream",
          "name": "stdout",
          "text": [
            "\u001b[1m======================================= test session starts ========================================\u001b[0m\n",
            "platform linux -- Python 3.10.12, pytest-7.4.4, pluggy-1.4.0\n",
            "rootdir: /content\n",
            "plugins: anyio-3.7.1\n",
            "\u001b[1mcollecting ... \u001b[0m\u001b[1m\rcollected 5 items                                                                                  \u001b[0m\n",
            "\n",
            "test_datastats.py \u001b[32m.\u001b[0m\u001b[32m.\u001b[0m\u001b[32m.\u001b[0m\u001b[32m.\u001b[0m\u001b[32m.\u001b[0m\u001b[32m                                                                      [100%]\u001b[0m\n",
            "\n",
            "\u001b[32m======================================== \u001b[32m\u001b[1m5 passed\u001b[0m\u001b[32m in 0.02s\u001b[0m\u001b[32m =========================================\u001b[0m\n"
          ]
        }
      ],
      "source": [
        "! pytest test_datastats.py"
      ]
    },
    {
      "cell_type": "markdown",
      "metadata": {
        "id": "AgkVijO_Oqct"
      },
      "source": [
        "### 7 - Aislamiento los algoritmos de salario máximo y mínimo\n",
        "\n",
        "\n",
        "Para este caso identificamos las nuevas pruebas:"
      ]
    },
    {
      "cell_type": "code",
      "execution_count": 22,
      "metadata": {
        "colab": {
          "base_uri": "https://localhost:8080/"
        },
        "id": "UC9TlvVOPgng",
        "outputId": "5035d224-f8c4-4416-c1a8-cfea62b9484f"
      },
      "outputs": [
        {
          "output_type": "stream",
          "name": "stdout",
          "text": [
            "Overwriting datastats.py\n"
          ]
        }
      ],
      "source": [
        "%%writefile datastats.py\n",
        "import math\n",
        "import json\n",
        "\n",
        "class DataStats:\n",
        "\n",
        "  def _salario_promedio(self, data):\n",
        "    return math.floor(sum([int(e['salario'][1:]) for e in data])/len(data))\n",
        "\n",
        "  def _edad_promedio(self, data):\n",
        "    return math.floor(sum([e['edad'] for e in data])/len(data))\n",
        "\n",
        "  def _incremento_anual_promedio(self, data, iedad, isalario):\n",
        "\n",
        "    incremento_edad_promedio = math.floor(\n",
        "            sum([e['edad'] for e in data])/len(data)) - iedad\n",
        "    incremento_salario_promedio = math.floor(\n",
        "            sum([int(e['salario'][1:]) for e in data])/len(data)) - isalario\n",
        "\n",
        "    return math.floor(incremento_salario_promedio/incremento_edad_promedio)\n",
        "\n",
        "  def _max_salario(self, data):\n",
        "    salarios = [int(e['salario'][1:]) for e in data]\n",
        "    limite = '$' + str(max(salarios))\n",
        "\n",
        "    return [e for e in data if e['salario'] == limite]\n",
        "\n",
        "  def _min_salario(self, data):\n",
        "    salarios = [int(d['salario'][1:]) for d in data]\n",
        "    return [e for e in data if e['salario'] ==\n",
        "                '${}'.format(str(min(salarios)))]\n",
        "\n",
        "\n",
        "  def _stats(self, data, iedad, isalario):\n",
        "    return {\n",
        "            'edad_promedio': self._edad_promedio(data),\n",
        "            'salario_promedio': self._salario_promedio(data),\n",
        "            'incremento_anual_promedio': self._incremento_anual_promedio(\n",
        "                data, iedad, isalario),\n",
        "            'max_salario': self._max_salario(data),\n",
        "            'min_salario': self._min_salario(data)\n",
        "        }\n",
        "\n",
        "  def stats(self, data, iedad, isalario):\n",
        "    return json.dumps(\n",
        "      self._stats(data, iedad, isalario)\n",
        "  )"
      ]
    },
    {
      "cell_type": "code",
      "execution_count": 23,
      "metadata": {
        "colab": {
          "base_uri": "https://localhost:8080/"
        },
        "id": "kafy66OhRm3w",
        "outputId": "03647f3e-94c3-47a5-a48f-61aded727627"
      },
      "outputs": [
        {
          "output_type": "stream",
          "name": "stdout",
          "text": [
            "Overwriting test_datastats.py\n"
          ]
        }
      ],
      "source": [
        "%%writefile test_datastats.py\n",
        "\n",
        "import json\n",
        "\n",
        "from datastats import DataStats\n",
        "\n",
        "test_data = [\n",
        "        {\n",
        "          \"id\": 1,\n",
        "          \"nombre\": \"Irene\",\n",
        "          \"apodo\": \"Lara\",\n",
        "          \"edad\": 68,\n",
        "          \"salario\": \"$27888\"\n",
        "        },\n",
        "\n",
        "       {\n",
        "           \"id\": 2,\n",
        "          \"nombre\": \"Claudio\",\n",
        "          \"apodo\": \"Avila\",\n",
        "          \"edad\": 49,\n",
        "          \"salario\": \"$67137\"\n",
        "      },\n",
        "      {\n",
        "          \"id\": 3,\n",
        "          \"nombre\": \"Tomo\",\n",
        "          \"apodo\": \"Frugs\",\n",
        "          \"edad\": 70,\n",
        "          \"salario\": \"$70472\"\n",
        "      }\n",
        "    ]\n",
        "\n",
        "def test_json():\n",
        "\n",
        "  ds = DataStats()\n",
        "\n",
        "  assert ds.stats(test_data, 20, 20000) == json.dumps(\n",
        "        {\n",
        "            \"edad_promedio\": 62,\n",
        "            \"salario_promedio\": 55165,\n",
        "            \"incremento_anual_promedio\": 837,\n",
        "            \"max_salario\": [{\n",
        "                 \"id\": 3,\n",
        "                  \"nombre\": \"Tomo\",\n",
        "                  \"apodo\": \"Frugs\",\n",
        "                  \"edad\": 70,\n",
        "                  \"salario\": \"$70472\"\n",
        "           }],\n",
        "          \"min_salario\": [{\n",
        "              \"id\": 1,\n",
        "              \"nombre\": \"Irene\",\n",
        "              \"apodo\": \"Lara\",\n",
        "              \"edad\": 68,\n",
        "              \"salario\": \"$27888\"\n",
        "            }]\n",
        "       }\n",
        "    )\n",
        "\n",
        "\n",
        "def test__stats():\n",
        "\n",
        "   ds = DataStats()\n",
        "\n",
        "   assert ds._stats(test_data, 20, 20000) == {\n",
        "        \"edad_promedio\": 62,\n",
        "        \"salario_promedio\": 55165,\n",
        "        \"incremento_anual_promedio\": 837,\n",
        "        \"max_salario\": [{\n",
        "            \"id\": 3,\n",
        "            \"nombre\": \"Tomo\",\n",
        "            \"apodo\": \"Frugs\",\n",
        "             \"edad\": 70,\n",
        "              \"salario\": \"$70472\"\n",
        "    }],\n",
        "    \"min_salario\": [{\n",
        "        \"id\": 1,\n",
        "        \"nombre\": \"Irene\",\n",
        "        \"apodo\": \"Lara\",\n",
        "        \"edad\": 68,\n",
        "        \"salario\": \"$27888\"\n",
        "\n",
        "        }]\n",
        "    }\n",
        "\n",
        "def test__edad_promedio():\n",
        "  ds = DataStats()\n",
        "  assert ds._edad_promedio(test_data) == 62\n",
        "\n",
        "def test__salario_promedio():\n",
        "  ds = DataStats()\n",
        "  assert ds._salario_promedio(test_data) == 55165\n",
        "\n",
        "def test__incremento_anual_promedio():\n",
        "  ds = DataStats()\n",
        "  assert ds._incremento_anual_promedio(test_data, 20, 20000) == 837\n",
        "\n",
        "\n",
        "def test__max_salario():\n",
        "  ds = DataStats()\n",
        "\n",
        "  assert ds._max_salario(test_data) == [{\n",
        "        \"id\": 3,\n",
        "          \"nombre\": \"Tomo\",\n",
        "          \"apodo\": \"Frugs\",\n",
        "          \"edad\": 70,\n",
        "          \"salario\": \"$70472\"\n",
        "    }]\n",
        "\n",
        "def test__min_salario():\n",
        "  ds = DataStats()\n",
        "  assert ds._min_salario(test_data) ==[{\n",
        "      \"id\": 1,\n",
        "      \"nombre\": \"Irene\",\n",
        "      \"apodo\": \"Lara\",\n",
        "      \"edad\": 68,\n",
        "      \"salario\": \"$27888\"\n",
        "       }]"
      ]
    },
    {
      "cell_type": "code",
      "execution_count": 24,
      "metadata": {
        "colab": {
          "base_uri": "https://localhost:8080/"
        },
        "id": "6ktekB85TswY",
        "outputId": "73488431-a63f-4299-ce5d-1a094eeadfb7"
      },
      "outputs": [
        {
          "output_type": "stream",
          "name": "stdout",
          "text": [
            "\u001b[1m======================================= test session starts ========================================\u001b[0m\n",
            "platform linux -- Python 3.10.12, pytest-7.4.4, pluggy-1.4.0 -- /usr/bin/python3\n",
            "cachedir: .pytest_cache\n",
            "rootdir: /content\n",
            "plugins: anyio-3.7.1\n",
            "\u001b[1mcollecting ... \u001b[0m\u001b[1m\rcollected 7 items                                                                                  \u001b[0m\n",
            "\n",
            "test_datastats.py::test_json \u001b[32mPASSED\u001b[0m\u001b[32m                                                          [ 14%]\u001b[0m\n",
            "test_datastats.py::test__stats \u001b[32mPASSED\u001b[0m\u001b[32m                                                        [ 28%]\u001b[0m\n",
            "test_datastats.py::test__edad_promedio \u001b[32mPASSED\u001b[0m\u001b[32m                                                [ 42%]\u001b[0m\n",
            "test_datastats.py::test__salario_promedio \u001b[32mPASSED\u001b[0m\u001b[32m                                             [ 57%]\u001b[0m\n",
            "test_datastats.py::test__incremento_anual_promedio \u001b[32mPASSED\u001b[0m\u001b[32m                                    [ 71%]\u001b[0m\n",
            "test_datastats.py::test__max_salario \u001b[32mPASSED\u001b[0m\u001b[32m                                                  [ 85%]\u001b[0m\n",
            "test_datastats.py::test__min_salario \u001b[32mPASSED\u001b[0m\u001b[32m                                                  [100%]\u001b[0m\n",
            "\n",
            "\u001b[32m======================================== \u001b[32m\u001b[1m7 passed\u001b[0m\u001b[32m in 0.03s\u001b[0m\u001b[32m =========================================\u001b[0m\n"
          ]
        }
      ],
      "source": [
        "! pytest -v test_datastats.py"
      ]
    },
    {
      "cell_type": "code",
      "execution_count": 25,
      "metadata": {
        "colab": {
          "base_uri": "https://localhost:8080/"
        },
        "id": "jZw51vCuYlKI",
        "outputId": "2ca7ec73-f121-4ce1-e04e-58ba30228ad7"
      },
      "outputs": [
        {
          "output_type": "stream",
          "name": "stdout",
          "text": [
            "Collecting coverage\n",
            "  Downloading coverage-7.4.4-cp310-cp310-manylinux_2_5_x86_64.manylinux1_x86_64.manylinux_2_17_x86_64.manylinux2014_x86_64.whl (233 kB)\n",
            "\u001b[2K     \u001b[90m━━━━━━━━━━━━━━━━━━━━━━━━━━━━━━━━━━━━━━━━\u001b[0m \u001b[32m233.5/233.5 kB\u001b[0m \u001b[31m2.3 MB/s\u001b[0m eta \u001b[36m0:00:00\u001b[0m\n",
            "\u001b[?25hInstalling collected packages: coverage\n",
            "Successfully installed coverage-7.4.4\n",
            "Collecting pytest-cov\n",
            "  Downloading pytest_cov-5.0.0-py3-none-any.whl (21 kB)\n",
            "Requirement already satisfied: pytest>=4.6 in /usr/local/lib/python3.10/dist-packages (from pytest-cov) (7.4.4)\n",
            "Requirement already satisfied: coverage[toml]>=5.2.1 in /usr/local/lib/python3.10/dist-packages (from pytest-cov) (7.4.4)\n",
            "Requirement already satisfied: tomli in /usr/local/lib/python3.10/dist-packages (from coverage[toml]>=5.2.1->pytest-cov) (2.0.1)\n",
            "Requirement already satisfied: iniconfig in /usr/local/lib/python3.10/dist-packages (from pytest>=4.6->pytest-cov) (2.0.0)\n",
            "Requirement already satisfied: packaging in /usr/local/lib/python3.10/dist-packages (from pytest>=4.6->pytest-cov) (24.0)\n",
            "Requirement already satisfied: pluggy<2.0,>=0.12 in /usr/local/lib/python3.10/dist-packages (from pytest>=4.6->pytest-cov) (1.4.0)\n",
            "Requirement already satisfied: exceptiongroup>=1.0.0rc8 in /usr/local/lib/python3.10/dist-packages (from pytest>=4.6->pytest-cov) (1.2.0)\n",
            "Installing collected packages: pytest-cov\n",
            "Successfully installed pytest-cov-5.0.0\n"
          ]
        }
      ],
      "source": [
        "! pip install coverage\n",
        "! pip install pytest-cov"
      ]
    },
    {
      "cell_type": "code",
      "execution_count": 26,
      "metadata": {
        "colab": {
          "base_uri": "https://localhost:8080/"
        },
        "id": "jIFgMO3ZY2l2",
        "outputId": "8c3a34c9-36b5-4bad-ae05-83e2cc069d78"
      },
      "outputs": [
        {
          "output_type": "stream",
          "name": "stdout",
          "text": [
            "\u001b[1m======================================= test session starts ========================================\u001b[0m\n",
            "platform linux -- Python 3.10.12, pytest-7.4.4, pluggy-1.4.0\n",
            "rootdir: /content\n",
            "plugins: cov-5.0.0, anyio-3.7.1\n",
            "\u001b[1mcollecting ... \u001b[0m\u001b[1m\rcollected 0 items                                                                                  \u001b[0m\n",
            "\n",
            "\n",
            "---------- coverage: platform linux, python 3.10.12-final-0 ----------\n",
            "Name           Stmts   Miss  Cover\n",
            "----------------------------------\n",
            "datastats.py      22     12    45%\n",
            "----------------------------------\n",
            "TOTAL             22     12    45%\n",
            "\n",
            "\u001b[33m====================================== \u001b[33mno tests ran\u001b[0m\u001b[33m in 0.03s\u001b[0m\u001b[33m =======================================\u001b[0m\n"
          ]
        }
      ],
      "source": [
        "!pytest --cov=datastats datastats.py"
      ]
    },
    {
      "cell_type": "markdown",
      "metadata": {
        "id": "hgDIIhOFYfRu"
      },
      "source": [
        "#### 8 Reducción de la duplicación de código\n",
        "\n",
        "Del código anterior los dos métodos `_max_salario()` y `_min_salario()` comparten una gran cantidad de código, aunque el segundo es más conciso.\n"
      ]
    },
    {
      "cell_type": "code",
      "execution_count": 27,
      "metadata": {
        "id": "Yw2Wt5ApWzpu"
      },
      "outputs": [],
      "source": [
        "def _max_salario(self, data):\n",
        "  salarios = [int(e['salario'][1:]) for e in data]\n",
        "  limite = '$' + str(max(salarios))\n",
        "\n",
        "  return [e for e in data if e['salario'] == limite]\n",
        "\n",
        "def _min_salario(self, data):\n",
        "  salarios = [int(d['salario'][1:]) for d in data]\n",
        "  return [e for e in data if e['salario'] ==\n",
        "                '$'.format(str(min(salarios)))]"
      ]
    },
    {
      "cell_type": "markdown",
      "metadata": {
        "id": "BIyVkJTCbDXQ"
      },
      "source": [
        "Veamos el caso de la variable `limite` en la segunda función. Tan pronto como se cambie algo, ejecuta las pruebas para verificar que el comportamiento externo no haya cambiado."
      ]
    },
    {
      "cell_type": "code",
      "execution_count": 28,
      "metadata": {
        "id": "gUAs8TCKbNrr"
      },
      "outputs": [],
      "source": [
        "def _max_salario(self, data):\n",
        "  salarios = [int(e['salario'][1:]) for e in data]\n",
        "  limite = '$' + str(max(salarios))\n",
        "\n",
        "  return [e for e in data if e['salario'] == limite]\n",
        "\n",
        "def _min_salario(self, data):\n",
        "  salarios = [int(d['salario'][1:]) for d in data]\n",
        "  limite = '$'.format(str(min(salarios)))\n",
        "\n",
        "  return [e for e in data if e['salario'] == limite]"
      ]
    },
    {
      "cell_type": "markdown",
      "metadata": {
        "id": "5O6lmgezer9B"
      },
      "source": [
        "Ahora las dos funciones son las mismas pero para las funciones `min()` y `max()`. Todavía usan diferentes nombres de variables y diferentes códigos para formatear el limite, por lo que una primera acción es igualarlos, copiando el código de `_min_salario()` a `_max_salario()` y cambiando `min()` a `max()`-\n"
      ]
    },
    {
      "cell_type": "code",
      "execution_count": 29,
      "metadata": {
        "id": "SthsVqb1faT6"
      },
      "outputs": [],
      "source": [
        "def _max_salario(self, data):\n",
        "  salarios = [int(e['salario'][1:]) for d in data]\n",
        "  limite = '$'.format(str(max(salarios)))\n",
        "\n",
        "  return [e for e in data if e['salario'] == limite]\n",
        "\n",
        "def _min_salario(self, data):\n",
        "  salarios = [int(d['salario'][1:]) for d in data]\n",
        "  limite = '$'.format(str(min(salarios)))\n",
        "\n",
        "  return [e for e in data if e['salario'] == limite]"
      ]
    },
    {
      "cell_type": "markdown",
      "metadata": {
        "id": "TnmneZ_PgTRO"
      },
      "source": [
        "Creamos la función `_select_salario()` que duplique ese código y acepte una función en lugar de `min()` o `max()`."
      ]
    },
    {
      "cell_type": "code",
      "execution_count": 30,
      "metadata": {
        "id": "UZ-URnEagusm"
      },
      "outputs": [],
      "source": [
        "def _select_salario(self, data, func):\n",
        "  salarios = [int(d['salario'][1:]) for d in data]\n",
        "  limite = '${}'.format(str(func(salarios)))\n",
        "\n",
        "  return [e for e in data if e['salario'] == limite]\n",
        "\n",
        "def _max_salario(self, data):\n",
        "  return self._select_salario(data, max)\n",
        "\n",
        "def _min_salario(self, data):\n",
        "  return self._select_salario(data, min)"
      ]
    },
    {
      "cell_type": "markdown",
      "metadata": {
        "id": "29ncjBM_hQai"
      },
      "source": [
        "Hay una duplicación de código entre `_salario_promedio()` y `_select_salario()`.\n"
      ]
    },
    {
      "cell_type": "code",
      "execution_count": 31,
      "metadata": {
        "id": "zpdDlJxshVb7"
      },
      "outputs": [],
      "source": [
        "def _salario_promedio(self, data):\n",
        "  return math.floor(sum([int(e['salario'][1:]) for e in data])/len(data))"
      ]
    },
    {
      "cell_type": "code",
      "execution_count": 32,
      "metadata": {
        "id": "A_t0gw9AhZLk"
      },
      "outputs": [],
      "source": [
        "def _select_salario(self, data, func):\n",
        "  salarios = [int(d['salario'][1:]) for d in data]"
      ]
    },
    {
      "cell_type": "markdown",
      "metadata": {
        "id": "WcclOOihhwoh"
      },
      "source": [
        "Extraemos el algoritmo común en un método llamado `_salarios()`, para ello primero escribimos la prueba."
      ]
    },
    {
      "cell_type": "code",
      "execution_count": 33,
      "metadata": {
        "id": "QwZiuyKMh78Z"
      },
      "outputs": [],
      "source": [
        "def test_salarios():\n",
        "  ds = DataStats()\n",
        "  assert ds._salarios(test_data) == [27888, 67137, 70472]"
      ]
    },
    {
      "cell_type": "markdown",
      "metadata": {
        "id": "ud6-O69giMdx"
      },
      "source": [
        "Implementamos el método."
      ]
    },
    {
      "cell_type": "code",
      "execution_count": 34,
      "metadata": {
        "id": "0KDaK85biOyA"
      },
      "outputs": [],
      "source": [
        "def _salarios(self, data):\n",
        "  return [int(d['salario'][1:]) for d in data]"
      ]
    },
    {
      "cell_type": "markdown",
      "metadata": {
        "id": "-yBCenqniclh"
      },
      "source": [
        "Reemplazamos el código duplicado con una llamada al nuevo método."
      ]
    },
    {
      "cell_type": "code",
      "execution_count": 35,
      "metadata": {
        "id": "WVk9eFlDigap"
      },
      "outputs": [],
      "source": [
        "def _salarios(self, data):\n",
        "  return [int(d['salario'][1:]) for d in data]"
      ]
    },
    {
      "cell_type": "code",
      "execution_count": 36,
      "metadata": {
        "id": "YuqYDG-6ilPU"
      },
      "outputs": [],
      "source": [
        "def _select_salario(self, data, func):\n",
        "  limite= '${}'.format(str(func(self._salarios(data))))\n",
        "  return [e for e in data if e['salario'] == limite]"
      ]
    },
    {
      "cell_type": "markdown",
      "metadata": {
        "id": "KOgMn3_Zi-cB"
      },
      "source": [
        "Veamos el código de `_incremento_anual_promedio()`. ¿Cuál es el problema del código?"
      ]
    },
    {
      "cell_type": "code",
      "execution_count": 37,
      "metadata": {
        "id": "WfSVbBrhjdWg"
      },
      "outputs": [],
      "source": [
        "def _incremento_anual_promedio(self, data, iedad, isalario):\n",
        "  incremento_edad_promedio = math.floor(\n",
        "      sum([e['edad'] for e in data])/len(data)) - iedad\n",
        "\n",
        "  incremento_salario_promedio = math.floor(\n",
        "      sum(self._salarios(data))/len(data)) - isalario\n",
        "\n",
        "  return math.floor(incremento_salario_promedio/incremento_edad_promedio)"
      ]
    },
    {
      "cell_type": "markdown",
      "metadata": {
        "id": "qJ8cac0uj93B"
      },
      "source": [
        "El código de `_incremento_anual_promedio()` contiene el código de los métodos `_edad_promedio()` y `_salario_promedio()`, por lo que vale la pena reemplazarlo con dos llamadas."
      ]
    },
    {
      "cell_type": "code",
      "execution_count": 38,
      "metadata": {
        "id": "Y5Nfl4BDkqnX"
      },
      "outputs": [],
      "source": [
        "def _incremento_anual_promedio(self, data, iedad, isalario):\n",
        "  incremento_edad_promedio= self._edad_promedio(data) - iedad\n",
        "  incremento_salario_promedio = self._salario_promedio(data) - isalario\n",
        "\n",
        "  return math.floor(incremento_salario_promedio/incremento_edad_promedio)"
      ]
    },
    {
      "cell_type": "markdown",
      "metadata": {
        "id": "5DQXGliOlMQx"
      },
      "source": [
        "**Pregunta:** Edita los archivos necesarios para ejecutar la prueba. ¿Cuál es el código de cobertura para este ejemplo?."
      ]
    },
    {
      "cell_type": "code",
      "execution_count": null,
      "metadata": {
        "id": "RwKyWn1exN2R"
      },
      "outputs": [],
      "source": [
        "## Tu respuesta."
      ]
    },
    {
      "cell_type": "code",
      "source": [
        "\n",
        "def _incremento_anual_promedio(self, data, iedad, isalario):\n",
        "    incremento_edad_promedio= self._edad_promedio(data) - iedad\n",
        "    incremento_salario_promedio = self._salario_promedio(data) - isalario\n",
        "\n",
        "    return math.floor(incremento_salario_promedio/incremento_edad_promedio)\n"
      ],
      "metadata": {
        "id": "LPm3558_OLYK"
      },
      "execution_count": 45,
      "outputs": []
    },
    {
      "cell_type": "markdown",
      "metadata": {
        "id": "v_vVOsYzlmkk"
      },
      "source": [
        "#### 9 Refactorización avanzada\n",
        "\n",
        "El objetivo es cambiar la clase actual para que coincida con la nueva API y luego crear una clase que envuelva la primera y proporcione la API anterior. La estrategia no es tan diferente de lo que hicimos anteriormente, solo que esta vez trataremos con clases en lugar de métodos. Con un estupendo esfuerzo de mi imaginación nombré a la nueva clase `NDataStats`.\n",
        "\n",
        "Lo primero, como sucede muy a menudo con la refactorización es duplicar el código y cuando insertamos código nuevo necesitamos tener pruebas que lo justifiquen.\n",
        "\n",
        "Las pruebas serán las mismas que antes, ya que la nueva clase proporcionará las mismas funcionalidades que la anterior, así que solo crea un nuevo archivo, llamado `test_ndatastats.py` y allí se coloca la primera prueba `test_init()`."
      ]
    },
    {
      "cell_type": "code",
      "execution_count": 46,
      "metadata": {
        "colab": {
          "base_uri": "https://localhost:8080/"
        },
        "id": "BJo4lXPYnjW-",
        "outputId": "d259060f-6011-4f46-8bb9-838ae4bd6506"
      },
      "outputs": [
        {
          "output_type": "stream",
          "name": "stdout",
          "text": [
            "Writing test_ndatastats.py\n"
          ]
        }
      ],
      "source": [
        "%%writefile test_ndatastats.py\n",
        "import json\n",
        "\n",
        "from datastats import NDataStats\n",
        "test_data = [\n",
        "    {\n",
        "          \"id\": 1,\n",
        "          \"nombre\": \"Irene\",\n",
        "          \"apodo\": \"Lara\",\n",
        "          \"edad\": 68,\n",
        "          \"salario\": \"$27888\"\n",
        "        },\n",
        "\n",
        "       {\n",
        "           \"id\": 2,\n",
        "          \"nombre\": \"Claudio\",\n",
        "          \"apodo\": \"Avila\",\n",
        "          \"edad\": 49,\n",
        "          \"salario\": \"$67137\"\n",
        "      },\n",
        "      {\n",
        "          \"id\": 3,\n",
        "          \"nombre\": \"Tomo\",\n",
        "          \"apodo\": \"Frugs\",\n",
        "          \"edad\": 70,\n",
        "          \"salario\": \"$70472\"\n",
        "      }\n",
        "\n",
        "]\n",
        "\n",
        "def test_init():\n",
        "  ds = NDataStats(test_data)\n",
        "  assert ds.data == test_data"
      ]
    },
    {
      "cell_type": "markdown",
      "metadata": {
        "id": "BfQQxBiMqssN"
      },
      "source": [
        "**Pregunta:** Escribe la nueva clase `NdataStats` en el archivo `datastats.py` y comprueba si la prueba anterior pasa."
      ]
    },
    {
      "cell_type": "code",
      "execution_count": null,
      "metadata": {
        "id": "xZozYH62rYCI"
      },
      "outputs": [],
      "source": [
        "# Tu respuesta."
      ]
    },
    {
      "cell_type": "code",
      "source": [
        "%%writefile datastats.py\n",
        "import math\n",
        "\n",
        "\n",
        "class NDataStats:\n",
        "    def __init__(self, data):\n",
        "        self.data = data\n",
        "\n",
        "    def _edades(self):\n",
        "        return [d['edad'] for d in self.data]\n",
        "\n",
        "    def _salarios(self):\n",
        "        return [int(d['salario'][1:]) for d in self.data]\n",
        "\n",
        "    def _promedio_floor(self, suma_de_numeros):\n",
        "        return math.floor(suma_de_numeros / len(self.data))\n",
        "\n",
        "    def _salario_promedio(self):\n",
        "        return self._promedio_floor(sum(self._salarios()))\n",
        "\n",
        "    def _edad_promedio(self):\n",
        "        return self._promedio_floor(sum(self._edades()))\n",
        "\n",
        "    def stats(self, iedad, isalario):\n",
        "\n",
        "        return {\n",
        "            \"edad_promedio\": self._edad_promedio(),\n",
        "            \"salario_promedio\": self._salario_promedio(),\n",
        "\n",
        "        }"
      ],
      "metadata": {
        "colab": {
          "base_uri": "https://localhost:8080/"
        },
        "id": "ei09Wu05Rez_",
        "outputId": "ca4aea6c-6467-4de2-a483-d6c6b64d0878"
      },
      "execution_count": 47,
      "outputs": [
        {
          "output_type": "stream",
          "name": "stdout",
          "text": [
            "Overwriting datastats.py\n"
          ]
        }
      ]
    },
    {
      "cell_type": "code",
      "source": [
        "%%writefile datastats.py\n",
        "import math\n",
        "import json\n",
        "\n",
        "class DataStats:\n",
        "    def stats(self, data, iedad, isalario):\n",
        "        nds = NDataStats(data)\n",
        "        return json.dumps(nds.stats(iedad, isalario))"
      ],
      "metadata": {
        "colab": {
          "base_uri": "https://localhost:8080/"
        },
        "id": "WXV08ULhVv_B",
        "outputId": "3ff1ea95-0949-45d0-e0e8-3f3187987d55"
      },
      "execution_count": 48,
      "outputs": [
        {
          "output_type": "stream",
          "name": "stdout",
          "text": [
            "Overwriting datastats.py\n"
          ]
        }
      ]
    },
    {
      "cell_type": "markdown",
      "metadata": {
        "id": "YNsqV5aDrrNg"
      },
      "source": [
        "Ahora iniciamos un proceso iterativo:\n",
        "\n",
        "- Copia una de las pruebas de `DataStats` y adapta  a `NDataStats`\n",
        "- Copia algo de código de `DataStats` a `NDataStats`, adaptándolo a la nueva API y haciendo pasar una prueba.\n",
        "\n",
        "En este punto, eliminar iterativamente métodos de `DataStats` y reemplazarlos con una llamada a `NDataStats` es una exageración.\n",
        "\n",
        "Un ejemplo de las pruebas resultantes para `NDataStats` es el siguiente:"
      ]
    },
    {
      "cell_type": "code",
      "execution_count": null,
      "metadata": {
        "id": "z_lQ9SUupVgl"
      },
      "outputs": [],
      "source": [
        "#def test_edad():\n",
        "#  ds = NDataStats(test_data)\n",
        "#   assert ds._edades() == [68, 49, 70]"
      ]
    },
    {
      "cell_type": "markdown",
      "metadata": {
        "id": "YqPUMmJNsg1g"
      },
      "source": [
        "Y el código que pasa la prueba para este caso es:"
      ]
    },
    {
      "cell_type": "code",
      "execution_count": null,
      "metadata": {
        "id": "2Xvmgoa0scs7"
      },
      "outputs": [],
      "source": [
        "#def _edades(self):\n",
        "#  return [d['edad'] for d in self.data]"
      ]
    },
    {
      "cell_type": "markdown",
      "metadata": {
        "id": "hFD-Qwe6tFec"
      },
      "source": [
        "Los métodos como `_edades()` ya no requieren un parámetro de entrada y se pueden convertir convertirlos en propiedades, cambiando las pruebas con `@property`."
      ]
    },
    {
      "cell_type": "markdown",
      "metadata": {
        "id": "6xJwRAQmuP_Q"
      },
      "source": [
        "Es hora de reemplazar los métodos de `DataStats` con llamadas a `NDataStats`. Podríamos hacerlo método por método, pero en realidad lo único que realmente necesitamos es reemplazar `stats()`. Así que el nuevo código es:"
      ]
    },
    {
      "cell_type": "code",
      "execution_count": null,
      "metadata": {
        "id": "3n8RYUT4ttFq"
      },
      "outputs": [],
      "source": [
        "#class DataStats:\n",
        "#  def stats(self, data, iedad, isalario):\n",
        "#    nds = NDataStats(data)\n",
        "#    return nds.stats(iedad, isalario)"
      ]
    },
    {
      "cell_type": "markdown",
      "metadata": {
        "id": "BFLpUHFUMiwr"
      },
      "source": [
        "**Pregunta:** Edita los archivos necesarios para ejecutar la prueba. ¿Cuál es el código de cobertura para este ejemplo ?."
      ]
    },
    {
      "cell_type": "code",
      "execution_count": null,
      "metadata": {
        "id": "3c8audA-lX0w"
      },
      "outputs": [],
      "source": [
        "# Tu respuesta"
      ]
    },
    {
      "cell_type": "markdown",
      "metadata": {
        "id": "kQFD-QzmvPX1"
      },
      "source": [
        "**Pregunta:** La refactorización es un proceso iterativo, a menudo sucederá que crees que hiciste todo lo posible, solo para descubrir más tarde que te perdiste algo. En este caso, el paso faltante es una pequeña duplicación de código.\n",
        "\n",
        "Las dos funciones comparten la misma lógica, por lo que definitivamente podemos aislar esto  y llamar al código común en cada función."
      ]
    },
    {
      "cell_type": "code",
      "execution_count": null,
      "metadata": {
        "id": "7GTchJEpw1dt"
      },
      "outputs": [],
      "source": [
        "#def _salario_promedio(self):\n",
        "#  return math.floor(sum(self._salarios)/len(self.data))\n",
        "\n",
        "#def _edad_promedio(self):\n",
        "#  return math.floor(sum(self._edades)/len(self.data))"
      ]
    },
    {
      "cell_type": "code",
      "execution_count": null,
      "metadata": {
        "id": "6oLDObFXxBf8"
      },
      "outputs": [],
      "source": [
        "#def _promedio_floor(self, suma_de_numberos):\n",
        "#  return math.floor(suma_de_numeros / len(self.data))\n",
        "\n",
        "#def _salario_promedio(self):\n",
        "#  return self._promedio_floor(sum(self._salarios))\n",
        "\n",
        "#def _edad_promedio(self):\n",
        "#  return self._promedio_floor(sum(self._edades))"
      ]
    },
    {
      "cell_type": "markdown",
      "metadata": {
        "id": "CVjZOwOqxKR0"
      },
      "source": [
        "Edita los archivos necesarios para ejecutar la prueba. ¿Cuál es el código de cobertura para este ejemplo.?"
      ]
    },
    {
      "cell_type": "code",
      "execution_count": null,
      "metadata": {
        "id": "0nh4rdhCMiwu"
      },
      "outputs": [],
      "source": [
        "## Tu respuesta."
      ]
    },
    {
      "cell_type": "code",
      "source": [
        "%%writefile datastats.py\n",
        "import math\n",
        "\n",
        "\n",
        "class NDataStats:\n",
        "    def __init__(self, data):\n",
        "        self.data = data\n",
        "\n",
        "    @property\n",
        "    def _salarios(self):\n",
        "        return [int(d['salario'][1:]) for d in self.data]\n",
        "\n",
        "    @property\n",
        "    def _edades(self):\n",
        "        return [d['edad'] for d in self.data]"
      ],
      "metadata": {
        "colab": {
          "base_uri": "https://localhost:8080/"
        },
        "id": "sSoPDrW3RpZT",
        "outputId": "a058944a-8621-4bc8-82f5-20c1ec352c53"
      },
      "execution_count": 50,
      "outputs": [
        {
          "output_type": "stream",
          "name": "stdout",
          "text": [
            "Overwriting datastats.py\n"
          ]
        }
      ]
    },
    {
      "cell_type": "code",
      "source": [
        "!pytest --cov=datastats datastats.py"
      ],
      "metadata": {
        "colab": {
          "base_uri": "https://localhost:8080/"
        },
        "id": "BTtewiUKRsG5",
        "outputId": "05b4c5d7-9de9-4eff-8d3c-20609dad7e6f"
      },
      "execution_count": 51,
      "outputs": [
        {
          "output_type": "stream",
          "name": "stdout",
          "text": [
            "\u001b[1m======================================= test session starts ========================================\u001b[0m\n",
            "platform linux -- Python 3.10.12, pytest-7.4.4, pluggy-1.4.0\n",
            "rootdir: /content\n",
            "plugins: cov-5.0.0, anyio-3.7.1\n",
            "\u001b[1mcollecting ... \u001b[0m\u001b[1m\rcollected 0 items                                                                                  \u001b[0m\n",
            "\n",
            "\n",
            "---------- coverage: platform linux, python 3.10.12-final-0 ----------\n",
            "Name           Stmts   Miss  Cover\n",
            "----------------------------------\n",
            "datastats.py      10      3    70%\n",
            "----------------------------------\n",
            "TOTAL             10      3    70%\n",
            "\n",
            "\u001b[33m====================================== \u001b[33mno tests ran\u001b[0m\u001b[33m in 0.03s\u001b[0m\u001b[33m =======================================\u001b[0m\n"
          ]
        }
      ]
    },
    {
      "cell_type": "markdown",
      "metadata": {
        "id": "tjAQdfPAxQGs"
      },
      "source": [
        "**Referencias**\n",
        "\n",
        "- [Why do developers hate code coverage? And why they should not hate it!](https://www.effective-software-testing.com/why-do-developers-hate-code-coverage)\n",
        "- [Do unit tests make refactoring harder?](https://www.effective-software-testing.com/do-unit-tests-make-refactoring-harder)."
      ]
    },
    {
      "cell_type": "code",
      "execution_count": null,
      "metadata": {
        "id": "C70mdSPryNDn"
      },
      "outputs": [],
      "source": []
    }
  ],
  "metadata": {
    "colab": {
      "provenance": []
    },
    "kernelspec": {
      "display_name": "Python 3 (ipykernel)",
      "language": "python",
      "name": "python3"
    },
    "language_info": {
      "codemirror_mode": {
        "name": "ipython",
        "version": 3
      },
      "file_extension": ".py",
      "mimetype": "text/x-python",
      "name": "python",
      "nbconvert_exporter": "python",
      "pygments_lexer": "ipython3",
      "version": "3.7.10"
    }
  },
  "nbformat": 4,
  "nbformat_minor": 0
}