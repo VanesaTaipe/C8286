{
  "nbformat": 4,
  "nbformat_minor": 0,
  "metadata": {
    "colab": {
      "private_outputs": true,
      "provenance": [],
      "authorship_tag": "ABX9TyPILcjNEQhzGJ5R9sb4LThD",
      "include_colab_link": true
    },
    "kernelspec": {
      "name": "python3",
      "display_name": "Python 3"
    },
    "language_info": {
      "name": "python"
    }
  },
  "cells": [
    {
      "cell_type": "markdown",
      "metadata": {
        "id": "view-in-github",
        "colab_type": "text"
      },
      "source": [
        "<a href=\"https://colab.research.google.com/github/VanesaTaipe/C8286/blob/main/Entrenamiento.ipynb\" target=\"_parent\"><img src=\"https://colab.research.google.com/assets/colab-badge.svg\" alt=\"Open In Colab\"/></a>"
      ]
    },
    {
      "cell_type": "code",
      "source": [
        "import pandas as pd\n",
        "import seaborn as sns\n",
        "import numpy as np\n",
        "import matplotlib.pyplot as plt\n",
        "import warnings\n",
        "warnings.filterwarnings(\"ignore\")\n",
        "from tensorflow.keras.layers import Dense, Dropout\n",
        "from tensorflow.keras.models import Sequential\n",
        "from wordcloud import WordCloud, STOPWORDS\n",
        "from sklearn.preprocessing import LabelBinarizer\n",
        "from tensorflow.keras.utils import to_categorical\n",
        "from sklearn.preprocessing import LabelEncoder\n",
        "from sklearn.preprocessing import MinMaxScaler\n",
        "from sklearn.model_selection import train_test_split\n",
        "from sklearn.feature_extraction.text import CountVectorizer, TfidfVectorizer\n",
        "!pip install wordcloud"
      ],
      "metadata": {
        "id": "loVp-sa0_xEO"
      },
      "execution_count": null,
      "outputs": []
    },
    {
      "cell_type": "code",
      "execution_count": null,
      "metadata": {
        "id": "1X684i4B_IWx"
      },
      "outputs": [],
      "source": [
        "import pandas as pd\n",
        "data=pd.read_csv(\"/content/Data_preprocesados_actual.csv\")"
      ]
    },
    {
      "cell_type": "code",
      "source": [
        "data"
      ],
      "metadata": {
        "id": "xL-8p0tB_ha7"
      },
      "execution_count": null,
      "outputs": []
    },
    {
      "cell_type": "markdown",
      "source": [
        "##**Trama del sentimiento**\n",
        "Como puede verse, parece haber un sentimiento más positivo en el texto en comparación con los tweets neutral o negativos. Esto es cierto en la vida real, ya que la mayoría de los tweets serían bastante positivos sin ser demasiado neutrales o demasiado negativos, respectivamente."
      ],
      "metadata": {
        "id": "PjQjHeTR_8jF"
      }
    },
    {
      "cell_type": "code",
      "source": [
        "import seaborn as sns\n",
        "import matplotlib.pyplot as plt\n",
        "\n",
        "# Crear una paleta de colores personalizada\n",
        "colores_personalizados = [ \"#99FF99\",\"#FF9999\",\"#66B3FF\"]\n",
        "\n",
        "# Graficar el conteo con la paleta de colores personalizada\n",
        "sns.countplot(x='sentiment', data=data, palette=colores_personalizados)\n",
        "plt.show()\n"
      ],
      "metadata": {
        "id": "xvHpOUOr_q5J"
      },
      "execution_count": null,
      "outputs": []
    },
    {
      "cell_type": "code",
      "source": [
        "data.shape"
      ],
      "metadata": {
        "id": "Z_BujNiCAJ2Q"
      },
      "execution_count": null,
      "outputs": []
    },
    {
      "cell_type": "code",
      "source": [
        "text_length_list = []\n",
        "for i in range(len(data)):\n",
        "    if isinstance(data['text_limpio'].iloc[i], float) == True:\n",
        "        print(data['text_limpio'].iloc[i])"
      ],
      "metadata": {
        "id": "61zlQESYBSFT"
      },
      "execution_count": null,
      "outputs": []
    },
    {
      "cell_type": "code",
      "source": [
        "data"
      ],
      "metadata": {
        "id": "9qct3ErrBYVR"
      },
      "execution_count": null,
      "outputs": []
    },
    {
      "cell_type": "code",
      "source": [
        "isinstance(\"suhas\", float)"
      ],
      "metadata": {
        "id": "YbjI32yABfmq"
      },
      "execution_count": null,
      "outputs": []
    },
    {
      "cell_type": "code",
      "source": [
        "data['text_length'] = data['text_limpio'].apply(lambda x: len(x))"
      ],
      "metadata": {
        "id": "CEt_AOaaBlU-"
      },
      "execution_count": null,
      "outputs": []
    },
    {
      "cell_type": "code",
      "source": [
        "data"
      ],
      "metadata": {
        "id": "jIf_wulmBri-"
      },
      "execution_count": null,
      "outputs": []
    },
    {
      "cell_type": "code",
      "source": [
        "positive_df = data[data['sentiment'] == 'Positivo']\n",
        "negative_df = data[data['sentiment'] == 'Negativo']\n",
        "neutral_df = data[data['sentiment'] == 'Neutro']"
      ],
      "metadata": {
        "id": "1hQM2l1MCRN1"
      },
      "execution_count": null,
      "outputs": []
    },
    {
      "cell_type": "code",
      "source": [
        "print(\"The shape of the dataframe that contains only the positive reviews is: {}\".format(positive_df.shape))\n",
        "print(\"The shape of the dataframe that contains only the negative reviews is: {}\".format(negative_df.shape))\n",
        "print(\"The shape of the dataframe that contains only the neutral reviews is:  {}\".format(neutral_df.shape))"
      ],
      "metadata": {
        "id": "AEia5DeTC12h"
      },
      "execution_count": null,
      "outputs": []
    },
    {
      "cell_type": "code",
      "source": [
        "wordcloud = WordCloud(width = 500, height = 500)"
      ],
      "metadata": {
        "id": "TeDbCHpuC5n1"
      },
      "execution_count": null,
      "outputs": []
    },
    {
      "cell_type": "code",
      "source": [
        "positive_text = []\n",
        "for i in range(len(positive_df)):\n",
        "    positive_text.append(positive_df['text_limpio'].iloc[i])"
      ],
      "metadata": {
        "id": "76Y-SFrLC-9l"
      },
      "execution_count": null,
      "outputs": []
    },
    {
      "cell_type": "code",
      "source": [
        "import nltk\n",
        "from wordcloud import WordCloud\n",
        "import matplotlib.pyplot as plt\n",
        "\n",
        "# Descargar las listas de palabras vacías\n",
        "nltk.download('stopwords')\n",
        "from nltk.corpus import stopwords\n",
        "\n",
        "\n",
        "stopwords_es = stopwords.words('spanish')\n",
        "stopwords_en = stopwords.words('english')\n",
        "stopwords_pt = stopwords.words('portuguese')\n",
        "\n",
        "# Combinar las listas de palabras vacías\n",
        "all_stopwords = set(stopwords_es + stopwords_en + stopwords_pt)\n",
        "\n",
        "# Crear el objeto WordCloud con las palabras vacías combinadas\n",
        "wordcloud = WordCloud(stopwords=all_stopwords)\n",
        "wordcloud.generate(''.join(positive_text))\n",
        "\n",
        "# Mostrar la nube de palabras\n",
        "plt.figure(figsize=(10, 10))\n",
        "plt.imshow(wordcloud)\n",
        "plt.axis('off')\n",
        "plt.show()"
      ],
      "metadata": {
        "id": "s2ei4qkSD8wK"
      },
      "execution_count": null,
      "outputs": []
    },
    {
      "cell_type": "code",
      "source": [
        "negative_text = []\n",
        "for i in range(len(negative_df)):\n",
        "    negative_text.append(negative_df['text_limpio'].iloc[i])"
      ],
      "metadata": {
        "id": "RSuX-6SZEiEg"
      },
      "execution_count": null,
      "outputs": []
    },
    {
      "cell_type": "code",
      "source": [
        "\n",
        "wordcloud = WordCloud(stopwords=all_stopwords)\n",
        "wordcloud.generate(''.join(negative_text))\n",
        "\n",
        "# Mostrar la nube de palabras\n",
        "plt.figure(figsize=(10, 10))\n",
        "plt.imshow(wordcloud)\n",
        "plt.axis('off')\n",
        "plt.show()"
      ],
      "metadata": {
        "id": "OjuON0MIEu6S"
      },
      "execution_count": null,
      "outputs": []
    },
    {
      "cell_type": "code",
      "source": [],
      "metadata": {
        "id": "skx0z16LF3tf"
      },
      "execution_count": null,
      "outputs": []
    },
    {
      "cell_type": "code",
      "source": [
        "neutral_text = []\n",
        "for i in range(len(neutral_df)):\n",
        "    neutral_text.append(neutral_df['text_limpio'].iloc[i])"
      ],
      "metadata": {
        "id": "-QOlEsNbE31k"
      },
      "execution_count": null,
      "outputs": []
    },
    {
      "cell_type": "code",
      "source": [
        "# Crear el objeto WordCloud con las palabras vacías combinadas\n",
        "wordcloud = WordCloud(stopwords=all_stopwords)\n",
        "wordcloud.generate(''.join(neutral_text))\n",
        "\n",
        "# Mostrar la nube de palabras\n",
        "plt.figure(figsize=(10, 10))\n",
        "plt.imshow(wordcloud)\n",
        "plt.axis('off')\n",
        "plt.show()"
      ],
      "metadata": {
        "id": "oHltseqxFMms"
      },
      "execution_count": null,
      "outputs": []
    },
    {
      "cell_type": "code",
      "source": [],
      "metadata": {
        "id": "ZZBbqrToGAXo"
      },
      "execution_count": null,
      "outputs": []
    },
    {
      "cell_type": "markdown",
      "source": [
        "DATA ENTRENAMIENTO"
      ],
      "metadata": {
        "id": "B9Q_4zH5GA3w"
      }
    },
    {
      "cell_type": "code",
      "source": [
        "X = data.drop(['sentiment'], axis = 1)\n",
        "y = data['sentiment']"
      ],
      "metadata": {
        "id": "tvTmI5QSF4lH"
      },
      "execution_count": null,
      "outputs": []
    },
    {
      "cell_type": "code",
      "source": [
        "X_train, X_cv, y_train, y_cv = train_test_split(X, y, test_size = 0.3, random_state = 50)"
      ],
      "metadata": {
        "id": "ryQ7wfVQGDdQ"
      },
      "execution_count": null,
      "outputs": []
    },
    {
      "cell_type": "code",
      "source": [
        "X_train.shape"
      ],
      "metadata": {
        "id": "skaA8GGxGJtk"
      },
      "execution_count": null,
      "outputs": []
    },
    {
      "cell_type": "code",
      "source": [
        "X_cv.shape"
      ],
      "metadata": {
        "id": "W6g4fW-yGMUT"
      },
      "execution_count": null,
      "outputs": []
    }
  ]
}