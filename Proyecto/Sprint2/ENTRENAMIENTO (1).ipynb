{
  "nbformat": 4,
  "nbformat_minor": 0,
  "metadata": {
    "colab": {
      "provenance": [],
      "gpuType": "T4"
    },
    "kernelspec": {
      "name": "python3",
      "display_name": "Python 3"
    },
    "language_info": {
      "name": "python"
    },
    "accelerator": "GPU"
  },
  "cells": [
    {
      "cell_type": "markdown",
      "source": [
        "**Importacion de bibliotecas**"
      ],
      "metadata": {
        "id": "Eg9QTcfsby70"
      }
    },
    {
      "cell_type": "code",
      "source": [
        "pip install langdetect"
      ],
      "metadata": {
        "colab": {
          "base_uri": "https://localhost:8080/"
        },
        "id": "PaSCZmRdb6Mo",
        "outputId": "07e6d777-a976-48af-b33b-e08cbf5a8a56"
      },
      "execution_count": 1,
      "outputs": [
        {
          "output_type": "stream",
          "name": "stdout",
          "text": [
            "Collecting langdetect\n",
            "  Downloading langdetect-1.0.9.tar.gz (981 kB)\n",
            "\u001b[?25l     \u001b[90m━━━━━━━━━━━━━━━━━━━━━━━━━━━━━━━━━━━━━━━━\u001b[0m \u001b[32m0.0/981.5 kB\u001b[0m \u001b[31m?\u001b[0m eta \u001b[36m-:--:--\u001b[0m\r\u001b[2K     \u001b[91m━━━━━━\u001b[0m\u001b[91m╸\u001b[0m\u001b[90m━━━━━━━━━━━━━━━━━━━━━━━━━━━━━━━━━\u001b[0m \u001b[32m163.8/981.5 kB\u001b[0m \u001b[31m4.7 MB/s\u001b[0m eta \u001b[36m0:00:01\u001b[0m\r\u001b[2K     \u001b[91m━━━━━━━━━━━━━━━━━━━━━━\u001b[0m\u001b[91m╸\u001b[0m\u001b[90m━━━━━━━━━━━━━━━━━\u001b[0m \u001b[32m553.0/981.5 kB\u001b[0m \u001b[31m7.7 MB/s\u001b[0m eta \u001b[36m0:00:01\u001b[0m\r\u001b[2K     \u001b[91m━━━━━━━━━━━━━━━━━━━━━━━━━━━━━━━━━━━━━━━\u001b[0m\u001b[91m╸\u001b[0m \u001b[32m972.8/981.5 kB\u001b[0m \u001b[31m9.1 MB/s\u001b[0m eta \u001b[36m0:00:01\u001b[0m\r\u001b[2K     \u001b[90m━━━━━━━━━━━━━━━━━━━━━━━━━━━━━━━━━━━━━━━━\u001b[0m \u001b[32m981.5/981.5 kB\u001b[0m \u001b[31m7.8 MB/s\u001b[0m eta \u001b[36m0:00:00\u001b[0m\n",
            "\u001b[?25h  Preparing metadata (setup.py) ... \u001b[?25l\u001b[?25hdone\n",
            "Requirement already satisfied: six in /usr/local/lib/python3.10/dist-packages (from langdetect) (1.16.0)\n",
            "Building wheels for collected packages: langdetect\n",
            "  Building wheel for langdetect (setup.py) ... \u001b[?25l\u001b[?25hdone\n",
            "  Created wheel for langdetect: filename=langdetect-1.0.9-py3-none-any.whl size=993227 sha256=9c594e561342f2c270a86df2cdb818d7a80a53c67e56b67193ff6b05d2312ae9\n",
            "  Stored in directory: /root/.cache/pip/wheels/95/03/7d/59ea870c70ce4e5a370638b5462a7711ab78fba2f655d05106\n",
            "Successfully built langdetect\n",
            "Installing collected packages: langdetect\n",
            "Successfully installed langdetect-1.0.9\n"
          ]
        }
      ]
    },
    {
      "cell_type": "code",
      "source": [
        "pip install datasets"
      ],
      "metadata": {
        "colab": {
          "base_uri": "https://localhost:8080/"
        },
        "id": "sfUx1lZ5b-D8",
        "outputId": "1ea59303-57c0-4807-bd61-4988c634a1b7"
      },
      "execution_count": 48,
      "outputs": [
        {
          "output_type": "stream",
          "name": "stdout",
          "text": [
            "Requirement already satisfied: datasets in /usr/local/lib/python3.10/dist-packages (2.20.0)\n",
            "Requirement already satisfied: filelock in /usr/local/lib/python3.10/dist-packages (from datasets) (3.15.1)\n",
            "Requirement already satisfied: numpy>=1.17 in /usr/local/lib/python3.10/dist-packages (from datasets) (1.25.2)\n",
            "Requirement already satisfied: pyarrow>=15.0.0 in /usr/local/lib/python3.10/dist-packages (from datasets) (16.1.0)\n",
            "Requirement already satisfied: pyarrow-hotfix in /usr/local/lib/python3.10/dist-packages (from datasets) (0.6)\n",
            "Requirement already satisfied: dill<0.3.9,>=0.3.0 in /usr/local/lib/python3.10/dist-packages (from datasets) (0.3.8)\n",
            "Requirement already satisfied: pandas in /usr/local/lib/python3.10/dist-packages (from datasets) (2.0.3)\n",
            "Requirement already satisfied: requests>=2.32.2 in /usr/local/lib/python3.10/dist-packages (from datasets) (2.32.3)\n",
            "Requirement already satisfied: tqdm>=4.66.3 in /usr/local/lib/python3.10/dist-packages (from datasets) (4.66.4)\n",
            "Requirement already satisfied: xxhash in /usr/local/lib/python3.10/dist-packages (from datasets) (3.4.1)\n",
            "Requirement already satisfied: multiprocess in /usr/local/lib/python3.10/dist-packages (from datasets) (0.70.16)\n",
            "Requirement already satisfied: fsspec[http]<=2024.5.0,>=2023.1.0 in /usr/local/lib/python3.10/dist-packages (from datasets) (2023.6.0)\n",
            "Requirement already satisfied: aiohttp in /usr/local/lib/python3.10/dist-packages (from datasets) (3.9.5)\n",
            "Requirement already satisfied: huggingface-hub>=0.21.2 in /usr/local/lib/python3.10/dist-packages (from datasets) (0.23.4)\n",
            "Requirement already satisfied: packaging in /usr/local/lib/python3.10/dist-packages (from datasets) (24.1)\n",
            "Requirement already satisfied: pyyaml>=5.1 in /usr/local/lib/python3.10/dist-packages (from datasets) (6.0.1)\n",
            "Requirement already satisfied: aiosignal>=1.1.2 in /usr/local/lib/python3.10/dist-packages (from aiohttp->datasets) (1.3.1)\n",
            "Requirement already satisfied: attrs>=17.3.0 in /usr/local/lib/python3.10/dist-packages (from aiohttp->datasets) (23.2.0)\n",
            "Requirement already satisfied: frozenlist>=1.1.1 in /usr/local/lib/python3.10/dist-packages (from aiohttp->datasets) (1.4.1)\n",
            "Requirement already satisfied: multidict<7.0,>=4.5 in /usr/local/lib/python3.10/dist-packages (from aiohttp->datasets) (6.0.5)\n",
            "Requirement already satisfied: yarl<2.0,>=1.0 in /usr/local/lib/python3.10/dist-packages (from aiohttp->datasets) (1.9.4)\n",
            "Requirement already satisfied: async-timeout<5.0,>=4.0 in /usr/local/lib/python3.10/dist-packages (from aiohttp->datasets) (4.0.3)\n",
            "Requirement already satisfied: typing-extensions>=3.7.4.3 in /usr/local/lib/python3.10/dist-packages (from huggingface-hub>=0.21.2->datasets) (4.12.2)\n",
            "Requirement already satisfied: charset-normalizer<4,>=2 in /usr/local/lib/python3.10/dist-packages (from requests>=2.32.2->datasets) (3.3.2)\n",
            "Requirement already satisfied: idna<4,>=2.5 in /usr/local/lib/python3.10/dist-packages (from requests>=2.32.2->datasets) (3.7)\n",
            "Requirement already satisfied: urllib3<3,>=1.21.1 in /usr/local/lib/python3.10/dist-packages (from requests>=2.32.2->datasets) (2.0.7)\n",
            "Requirement already satisfied: certifi>=2017.4.17 in /usr/local/lib/python3.10/dist-packages (from requests>=2.32.2->datasets) (2024.6.2)\n",
            "Requirement already satisfied: python-dateutil>=2.8.2 in /usr/local/lib/python3.10/dist-packages (from pandas->datasets) (2.8.2)\n",
            "Requirement already satisfied: pytz>=2020.1 in /usr/local/lib/python3.10/dist-packages (from pandas->datasets) (2023.4)\n",
            "Requirement already satisfied: tzdata>=2022.1 in /usr/local/lib/python3.10/dist-packages (from pandas->datasets) (2024.1)\n",
            "Requirement already satisfied: six>=1.5 in /usr/local/lib/python3.10/dist-packages (from python-dateutil>=2.8.2->pandas->datasets) (1.16.0)\n"
          ]
        }
      ]
    },
    {
      "cell_type": "code",
      "source": [
        "pip install pythainlp"
      ],
      "metadata": {
        "colab": {
          "base_uri": "https://localhost:8080/"
        },
        "id": "ug0lkUDKcBVP",
        "outputId": "96c62ed8-5fc1-49ee-c7f9-3be79d739d91"
      },
      "execution_count": 2,
      "outputs": [
        {
          "output_type": "stream",
          "name": "stdout",
          "text": [
            "Collecting pythainlp\n",
            "  Downloading pythainlp-5.0.4-py3-none-any.whl (17.9 MB)\n",
            "\u001b[2K     \u001b[90m━━━━━━━━━━━━━━━━━━━━━━━━━━━━━━━━━━━━━━━━\u001b[0m \u001b[32m17.9/17.9 MB\u001b[0m \u001b[31m53.6 MB/s\u001b[0m eta \u001b[36m0:00:00\u001b[0m\n",
            "\u001b[?25hRequirement already satisfied: requests>=2.22.0 in /usr/local/lib/python3.10/dist-packages (from pythainlp) (2.31.0)\n",
            "Requirement already satisfied: charset-normalizer<4,>=2 in /usr/local/lib/python3.10/dist-packages (from requests>=2.22.0->pythainlp) (3.3.2)\n",
            "Requirement already satisfied: idna<4,>=2.5 in /usr/local/lib/python3.10/dist-packages (from requests>=2.22.0->pythainlp) (3.7)\n",
            "Requirement already satisfied: urllib3<3,>=1.21.1 in /usr/local/lib/python3.10/dist-packages (from requests>=2.22.0->pythainlp) (2.0.7)\n",
            "Requirement already satisfied: certifi>=2017.4.17 in /usr/local/lib/python3.10/dist-packages (from requests>=2.22.0->pythainlp) (2024.6.2)\n",
            "Installing collected packages: pythainlp\n",
            "Successfully installed pythainlp-5.0.4\n"
          ]
        }
      ]
    },
    {
      "cell_type": "code",
      "source": [
        "pip install datasets"
      ],
      "metadata": {
        "colab": {
          "base_uri": "https://localhost:8080/",
          "height": 1000
        },
        "id": "yCfnTEkN97tA",
        "outputId": "e5b4efab-38c3-410a-c0fb-a902f7a3cb4a"
      },
      "execution_count": 4,
      "outputs": [
        {
          "output_type": "stream",
          "name": "stdout",
          "text": [
            "Collecting datasets\n",
            "  Downloading datasets-2.20.0-py3-none-any.whl (547 kB)\n",
            "\u001b[2K     \u001b[90m━━━━━━━━━━━━━━━━━━━━━━━━━━━━━━━━━━━━━━━━\u001b[0m \u001b[32m547.8/547.8 kB\u001b[0m \u001b[31m13.5 MB/s\u001b[0m eta \u001b[36m0:00:00\u001b[0m\n",
            "\u001b[?25hRequirement already satisfied: filelock in /usr/local/lib/python3.10/dist-packages (from datasets) (3.15.1)\n",
            "Requirement already satisfied: numpy>=1.17 in /usr/local/lib/python3.10/dist-packages (from datasets) (1.25.2)\n",
            "Collecting pyarrow>=15.0.0 (from datasets)\n",
            "  Downloading pyarrow-16.1.0-cp310-cp310-manylinux_2_28_x86_64.whl (40.8 MB)\n",
            "\u001b[2K     \u001b[90m━━━━━━━━━━━━━━━━━━━━━━━━━━━━━━━━━━━━━━━━\u001b[0m \u001b[32m40.8/40.8 MB\u001b[0m \u001b[31m12.7 MB/s\u001b[0m eta \u001b[36m0:00:00\u001b[0m\n",
            "\u001b[?25hRequirement already satisfied: pyarrow-hotfix in /usr/local/lib/python3.10/dist-packages (from datasets) (0.6)\n",
            "Collecting dill<0.3.9,>=0.3.0 (from datasets)\n",
            "  Downloading dill-0.3.8-py3-none-any.whl (116 kB)\n",
            "\u001b[2K     \u001b[90m━━━━━━━━━━━━━━━━━━━━━━━━━━━━━━━━━━━━━━━━\u001b[0m \u001b[32m116.3/116.3 kB\u001b[0m \u001b[31m16.5 MB/s\u001b[0m eta \u001b[36m0:00:00\u001b[0m\n",
            "\u001b[?25hRequirement already satisfied: pandas in /usr/local/lib/python3.10/dist-packages (from datasets) (2.0.3)\n",
            "Collecting requests>=2.32.2 (from datasets)\n",
            "  Downloading requests-2.32.3-py3-none-any.whl (64 kB)\n",
            "\u001b[2K     \u001b[90m━━━━━━━━━━━━━━━━━━━━━━━━━━━━━━━━━━━━━━━━\u001b[0m \u001b[32m64.9/64.9 kB\u001b[0m \u001b[31m9.4 MB/s\u001b[0m eta \u001b[36m0:00:00\u001b[0m\n",
            "\u001b[?25hRequirement already satisfied: tqdm>=4.66.3 in /usr/local/lib/python3.10/dist-packages (from datasets) (4.66.4)\n",
            "Collecting xxhash (from datasets)\n",
            "  Downloading xxhash-3.4.1-cp310-cp310-manylinux_2_17_x86_64.manylinux2014_x86_64.whl (194 kB)\n",
            "\u001b[2K     \u001b[90m━━━━━━━━━━━━━━━━━━━━━━━━━━━━━━━━━━━━━━━━\u001b[0m \u001b[32m194.1/194.1 kB\u001b[0m \u001b[31m14.6 MB/s\u001b[0m eta \u001b[36m0:00:00\u001b[0m\n",
            "\u001b[?25hCollecting multiprocess (from datasets)\n",
            "  Downloading multiprocess-0.70.16-py310-none-any.whl (134 kB)\n",
            "\u001b[2K     \u001b[90m━━━━━━━━━━━━━━━━━━━━━━━━━━━━━━━━━━━━━━━━\u001b[0m \u001b[32m134.8/134.8 kB\u001b[0m \u001b[31m19.4 MB/s\u001b[0m eta \u001b[36m0:00:00\u001b[0m\n",
            "\u001b[?25hRequirement already satisfied: fsspec[http]<=2024.5.0,>=2023.1.0 in /usr/local/lib/python3.10/dist-packages (from datasets) (2023.6.0)\n",
            "Requirement already satisfied: aiohttp in /usr/local/lib/python3.10/dist-packages (from datasets) (3.9.5)\n",
            "Requirement already satisfied: huggingface-hub>=0.21.2 in /usr/local/lib/python3.10/dist-packages (from datasets) (0.23.4)\n",
            "Requirement already satisfied: packaging in /usr/local/lib/python3.10/dist-packages (from datasets) (24.1)\n",
            "Requirement already satisfied: pyyaml>=5.1 in /usr/local/lib/python3.10/dist-packages (from datasets) (6.0.1)\n",
            "Requirement already satisfied: aiosignal>=1.1.2 in /usr/local/lib/python3.10/dist-packages (from aiohttp->datasets) (1.3.1)\n",
            "Requirement already satisfied: attrs>=17.3.0 in /usr/local/lib/python3.10/dist-packages (from aiohttp->datasets) (23.2.0)\n",
            "Requirement already satisfied: frozenlist>=1.1.1 in /usr/local/lib/python3.10/dist-packages (from aiohttp->datasets) (1.4.1)\n",
            "Requirement already satisfied: multidict<7.0,>=4.5 in /usr/local/lib/python3.10/dist-packages (from aiohttp->datasets) (6.0.5)\n",
            "Requirement already satisfied: yarl<2.0,>=1.0 in /usr/local/lib/python3.10/dist-packages (from aiohttp->datasets) (1.9.4)\n",
            "Requirement already satisfied: async-timeout<5.0,>=4.0 in /usr/local/lib/python3.10/dist-packages (from aiohttp->datasets) (4.0.3)\n",
            "Requirement already satisfied: typing-extensions>=3.7.4.3 in /usr/local/lib/python3.10/dist-packages (from huggingface-hub>=0.21.2->datasets) (4.12.2)\n",
            "Requirement already satisfied: charset-normalizer<4,>=2 in /usr/local/lib/python3.10/dist-packages (from requests>=2.32.2->datasets) (3.3.2)\n",
            "Requirement already satisfied: idna<4,>=2.5 in /usr/local/lib/python3.10/dist-packages (from requests>=2.32.2->datasets) (3.7)\n",
            "Requirement already satisfied: urllib3<3,>=1.21.1 in /usr/local/lib/python3.10/dist-packages (from requests>=2.32.2->datasets) (2.0.7)\n",
            "Requirement already satisfied: certifi>=2017.4.17 in /usr/local/lib/python3.10/dist-packages (from requests>=2.32.2->datasets) (2024.6.2)\n",
            "Requirement already satisfied: python-dateutil>=2.8.2 in /usr/local/lib/python3.10/dist-packages (from pandas->datasets) (2.8.2)\n",
            "Requirement already satisfied: pytz>=2020.1 in /usr/local/lib/python3.10/dist-packages (from pandas->datasets) (2023.4)\n",
            "Requirement already satisfied: tzdata>=2022.1 in /usr/local/lib/python3.10/dist-packages (from pandas->datasets) (2024.1)\n",
            "Requirement already satisfied: six>=1.5 in /usr/local/lib/python3.10/dist-packages (from python-dateutil>=2.8.2->pandas->datasets) (1.16.0)\n",
            "Installing collected packages: xxhash, requests, pyarrow, dill, multiprocess, datasets\n",
            "  Attempting uninstall: requests\n",
            "    Found existing installation: requests 2.31.0\n",
            "    Uninstalling requests-2.31.0:\n",
            "      Successfully uninstalled requests-2.31.0\n",
            "  Attempting uninstall: pyarrow\n",
            "    Found existing installation: pyarrow 14.0.2\n",
            "    Uninstalling pyarrow-14.0.2:\n",
            "      Successfully uninstalled pyarrow-14.0.2\n",
            "\u001b[31mERROR: pip's dependency resolver does not currently take into account all the packages that are installed. This behaviour is the source of the following dependency conflicts.\n",
            "cudf-cu12 24.4.1 requires pyarrow<15.0.0a0,>=14.0.1, but you have pyarrow 16.1.0 which is incompatible.\n",
            "google-colab 1.0.0 requires requests==2.31.0, but you have requests 2.32.3 which is incompatible.\n",
            "ibis-framework 8.0.0 requires pyarrow<16,>=2, but you have pyarrow 16.1.0 which is incompatible.\u001b[0m\u001b[31m\n",
            "\u001b[0mSuccessfully installed datasets-2.20.0 dill-0.3.8 multiprocess-0.70.16 pyarrow-16.1.0 requests-2.32.3 xxhash-3.4.1\n"
          ]
        },
        {
          "output_type": "display_data",
          "data": {
            "application/vnd.colab-display-data+json": {
              "pip_warning": {
                "packages": [
                  "pyarrow",
                  "requests"
                ]
              },
              "id": "d3a8eb2b4a20406aa2b8e8b46c8b2194"
            }
          },
          "metadata": {}
        }
      ]
    },
    {
      "cell_type": "code",
      "execution_count": 3,
      "metadata": {
        "colab": {
          "base_uri": "https://localhost:8080/"
        },
        "id": "Ejll1jcXbeIb",
        "outputId": "18b2f261-dca6-4839-e0c6-1ac57b933a5f"
      },
      "outputs": [
        {
          "output_type": "stream",
          "name": "stderr",
          "text": [
            "[nltk_data] Downloading package punkt to /root/nltk_data...\n",
            "[nltk_data]   Package punkt is already up-to-date!\n",
            "[nltk_data] Downloading package stopwords to /root/nltk_data...\n",
            "[nltk_data]   Package stopwords is already up-to-date!\n"
          ]
        },
        {
          "output_type": "execute_result",
          "data": {
            "text/plain": [
              "True"
            ]
          },
          "metadata": {},
          "execution_count": 3
        }
      ],
      "source": [
        "import pandas as pd\n",
        "import numpy as np\n",
        "from sklearn.model_selection import train_test_split\n",
        "from sklearn.metrics import classification_report, precision_recall_fscore_support\n",
        "from sklearn.feature_extraction.text import CountVectorizer\n",
        "from sklearn.naive_bayes import MultinomialNB\n",
        "import nltk\n",
        "from nltk.tokenize import word_tokenize\n",
        "from nltk.corpus import stopwords\n",
        "from nltk import ngrams\n",
        "from langdetect import detect\n",
        "from transformers import AutoTokenizer, AutoModelForSequenceClassification, TrainingArguments, Trainer\n",
        "from datasets import Dataset\n",
        "import matplotlib.pyplot as plt\n",
        "import pythainlp\n",
        "from transformers import XLMRobertaForSequenceClassification, Trainer, TrainingArguments\n",
        "from transformers import XLMRobertaTokenizer\n",
        "import torch\n",
        "\n",
        "# Configuración inicial\n",
        "nltk.download(['punkt', 'stopwords'])"
      ]
    },
    {
      "cell_type": "markdown",
      "source": [
        "**Cargar data**"
      ],
      "metadata": {
        "id": "DkPxOOhBc0bh"
      }
    },
    {
      "cell_type": "code",
      "source": [
        "data=pd.read_csv(\"/content/Data_preprocesados_actual.csv\")"
      ],
      "metadata": {
        "id": "yIte87kCcWhf"
      },
      "execution_count": 4,
      "outputs": []
    },
    {
      "cell_type": "code",
      "source": [
        "data.head()"
      ],
      "metadata": {
        "colab": {
          "base_uri": "https://localhost:8080/",
          "height": 206
        },
        "id": "qNqR0U9pc9rH",
        "outputId": "42b2e1e4-267b-46e4-b70e-3589fd187a13"
      },
      "execution_count": 5,
      "outputs": [
        {
          "output_type": "execute_result",
          "data": {
            "text/plain": [
              "               user_id sentiment  \\\n",
              "0  1515220311469621248  Positivo   \n",
              "1  1771902488074944512  Positivo   \n",
              "2  1075476235449450499  Positivo   \n",
              "3           1382805156  Positivo   \n",
              "4  1270842720731488265  Positivo   \n",
              "\n",
              "                                         text_limpio  \n",
              "0     Daniel Andrews won three elections and serv...  \n",
              "1    TODAS Y TODOS LOS REVOLUCIONARIOS, con la Ve...  \n",
              "2    AHORA | Contundente triunfo de Daniel Reyes ...  \n",
              "3   La era Scaloni:\\n\\n70 partidos. 49 victorias,...  \n",
              "4                            ANITTA NO FANTÁSTICO ez  "
            ],
            "text/html": [
              "\n",
              "  <div id=\"df-b6b5f3ec-8483-4571-84c3-0926673307ee\" class=\"colab-df-container\">\n",
              "    <div>\n",
              "<style scoped>\n",
              "    .dataframe tbody tr th:only-of-type {\n",
              "        vertical-align: middle;\n",
              "    }\n",
              "\n",
              "    .dataframe tbody tr th {\n",
              "        vertical-align: top;\n",
              "    }\n",
              "\n",
              "    .dataframe thead th {\n",
              "        text-align: right;\n",
              "    }\n",
              "</style>\n",
              "<table border=\"1\" class=\"dataframe\">\n",
              "  <thead>\n",
              "    <tr style=\"text-align: right;\">\n",
              "      <th></th>\n",
              "      <th>user_id</th>\n",
              "      <th>sentiment</th>\n",
              "      <th>text_limpio</th>\n",
              "    </tr>\n",
              "  </thead>\n",
              "  <tbody>\n",
              "    <tr>\n",
              "      <th>0</th>\n",
              "      <td>1515220311469621248</td>\n",
              "      <td>Positivo</td>\n",
              "      <td>Daniel Andrews won three elections and serv...</td>\n",
              "    </tr>\n",
              "    <tr>\n",
              "      <th>1</th>\n",
              "      <td>1771902488074944512</td>\n",
              "      <td>Positivo</td>\n",
              "      <td>TODAS Y TODOS LOS REVOLUCIONARIOS, con la Ve...</td>\n",
              "    </tr>\n",
              "    <tr>\n",
              "      <th>2</th>\n",
              "      <td>1075476235449450499</td>\n",
              "      <td>Positivo</td>\n",
              "      <td>AHORA | Contundente triunfo de Daniel Reyes ...</td>\n",
              "    </tr>\n",
              "    <tr>\n",
              "      <th>3</th>\n",
              "      <td>1382805156</td>\n",
              "      <td>Positivo</td>\n",
              "      <td>La era Scaloni:\\n\\n70 partidos. 49 victorias,...</td>\n",
              "    </tr>\n",
              "    <tr>\n",
              "      <th>4</th>\n",
              "      <td>1270842720731488265</td>\n",
              "      <td>Positivo</td>\n",
              "      <td>ANITTA NO FANTÁSTICO ez</td>\n",
              "    </tr>\n",
              "  </tbody>\n",
              "</table>\n",
              "</div>\n",
              "    <div class=\"colab-df-buttons\">\n",
              "\n",
              "  <div class=\"colab-df-container\">\n",
              "    <button class=\"colab-df-convert\" onclick=\"convertToInteractive('df-b6b5f3ec-8483-4571-84c3-0926673307ee')\"\n",
              "            title=\"Convert this dataframe to an interactive table.\"\n",
              "            style=\"display:none;\">\n",
              "\n",
              "  <svg xmlns=\"http://www.w3.org/2000/svg\" height=\"24px\" viewBox=\"0 -960 960 960\">\n",
              "    <path d=\"M120-120v-720h720v720H120Zm60-500h600v-160H180v160Zm220 220h160v-160H400v160Zm0 220h160v-160H400v160ZM180-400h160v-160H180v160Zm440 0h160v-160H620v160ZM180-180h160v-160H180v160Zm440 0h160v-160H620v160Z\"/>\n",
              "  </svg>\n",
              "    </button>\n",
              "\n",
              "  <style>\n",
              "    .colab-df-container {\n",
              "      display:flex;\n",
              "      gap: 12px;\n",
              "    }\n",
              "\n",
              "    .colab-df-convert {\n",
              "      background-color: #E8F0FE;\n",
              "      border: none;\n",
              "      border-radius: 50%;\n",
              "      cursor: pointer;\n",
              "      display: none;\n",
              "      fill: #1967D2;\n",
              "      height: 32px;\n",
              "      padding: 0 0 0 0;\n",
              "      width: 32px;\n",
              "    }\n",
              "\n",
              "    .colab-df-convert:hover {\n",
              "      background-color: #E2EBFA;\n",
              "      box-shadow: 0px 1px 2px rgba(60, 64, 67, 0.3), 0px 1px 3px 1px rgba(60, 64, 67, 0.15);\n",
              "      fill: #174EA6;\n",
              "    }\n",
              "\n",
              "    .colab-df-buttons div {\n",
              "      margin-bottom: 4px;\n",
              "    }\n",
              "\n",
              "    [theme=dark] .colab-df-convert {\n",
              "      background-color: #3B4455;\n",
              "      fill: #D2E3FC;\n",
              "    }\n",
              "\n",
              "    [theme=dark] .colab-df-convert:hover {\n",
              "      background-color: #434B5C;\n",
              "      box-shadow: 0px 1px 3px 1px rgba(0, 0, 0, 0.15);\n",
              "      filter: drop-shadow(0px 1px 2px rgba(0, 0, 0, 0.3));\n",
              "      fill: #FFFFFF;\n",
              "    }\n",
              "  </style>\n",
              "\n",
              "    <script>\n",
              "      const buttonEl =\n",
              "        document.querySelector('#df-b6b5f3ec-8483-4571-84c3-0926673307ee button.colab-df-convert');\n",
              "      buttonEl.style.display =\n",
              "        google.colab.kernel.accessAllowed ? 'block' : 'none';\n",
              "\n",
              "      async function convertToInteractive(key) {\n",
              "        const element = document.querySelector('#df-b6b5f3ec-8483-4571-84c3-0926673307ee');\n",
              "        const dataTable =\n",
              "          await google.colab.kernel.invokeFunction('convertToInteractive',\n",
              "                                                    [key], {});\n",
              "        if (!dataTable) return;\n",
              "\n",
              "        const docLinkHtml = 'Like what you see? Visit the ' +\n",
              "          '<a target=\"_blank\" href=https://colab.research.google.com/notebooks/data_table.ipynb>data table notebook</a>'\n",
              "          + ' to learn more about interactive tables.';\n",
              "        element.innerHTML = '';\n",
              "        dataTable['output_type'] = 'display_data';\n",
              "        await google.colab.output.renderOutput(dataTable, element);\n",
              "        const docLink = document.createElement('div');\n",
              "        docLink.innerHTML = docLinkHtml;\n",
              "        element.appendChild(docLink);\n",
              "      }\n",
              "    </script>\n",
              "  </div>\n",
              "\n",
              "\n",
              "<div id=\"df-67565809-5bf8-4fba-a7c5-09b5f382688c\">\n",
              "  <button class=\"colab-df-quickchart\" onclick=\"quickchart('df-67565809-5bf8-4fba-a7c5-09b5f382688c')\"\n",
              "            title=\"Suggest charts\"\n",
              "            style=\"display:none;\">\n",
              "\n",
              "<svg xmlns=\"http://www.w3.org/2000/svg\" height=\"24px\"viewBox=\"0 0 24 24\"\n",
              "     width=\"24px\">\n",
              "    <g>\n",
              "        <path d=\"M19 3H5c-1.1 0-2 .9-2 2v14c0 1.1.9 2 2 2h14c1.1 0 2-.9 2-2V5c0-1.1-.9-2-2-2zM9 17H7v-7h2v7zm4 0h-2V7h2v10zm4 0h-2v-4h2v4z\"/>\n",
              "    </g>\n",
              "</svg>\n",
              "  </button>\n",
              "\n",
              "<style>\n",
              "  .colab-df-quickchart {\n",
              "      --bg-color: #E8F0FE;\n",
              "      --fill-color: #1967D2;\n",
              "      --hover-bg-color: #E2EBFA;\n",
              "      --hover-fill-color: #174EA6;\n",
              "      --disabled-fill-color: #AAA;\n",
              "      --disabled-bg-color: #DDD;\n",
              "  }\n",
              "\n",
              "  [theme=dark] .colab-df-quickchart {\n",
              "      --bg-color: #3B4455;\n",
              "      --fill-color: #D2E3FC;\n",
              "      --hover-bg-color: #434B5C;\n",
              "      --hover-fill-color: #FFFFFF;\n",
              "      --disabled-bg-color: #3B4455;\n",
              "      --disabled-fill-color: #666;\n",
              "  }\n",
              "\n",
              "  .colab-df-quickchart {\n",
              "    background-color: var(--bg-color);\n",
              "    border: none;\n",
              "    border-radius: 50%;\n",
              "    cursor: pointer;\n",
              "    display: none;\n",
              "    fill: var(--fill-color);\n",
              "    height: 32px;\n",
              "    padding: 0;\n",
              "    width: 32px;\n",
              "  }\n",
              "\n",
              "  .colab-df-quickchart:hover {\n",
              "    background-color: var(--hover-bg-color);\n",
              "    box-shadow: 0 1px 2px rgba(60, 64, 67, 0.3), 0 1px 3px 1px rgba(60, 64, 67, 0.15);\n",
              "    fill: var(--button-hover-fill-color);\n",
              "  }\n",
              "\n",
              "  .colab-df-quickchart-complete:disabled,\n",
              "  .colab-df-quickchart-complete:disabled:hover {\n",
              "    background-color: var(--disabled-bg-color);\n",
              "    fill: var(--disabled-fill-color);\n",
              "    box-shadow: none;\n",
              "  }\n",
              "\n",
              "  .colab-df-spinner {\n",
              "    border: 2px solid var(--fill-color);\n",
              "    border-color: transparent;\n",
              "    border-bottom-color: var(--fill-color);\n",
              "    animation:\n",
              "      spin 1s steps(1) infinite;\n",
              "  }\n",
              "\n",
              "  @keyframes spin {\n",
              "    0% {\n",
              "      border-color: transparent;\n",
              "      border-bottom-color: var(--fill-color);\n",
              "      border-left-color: var(--fill-color);\n",
              "    }\n",
              "    20% {\n",
              "      border-color: transparent;\n",
              "      border-left-color: var(--fill-color);\n",
              "      border-top-color: var(--fill-color);\n",
              "    }\n",
              "    30% {\n",
              "      border-color: transparent;\n",
              "      border-left-color: var(--fill-color);\n",
              "      border-top-color: var(--fill-color);\n",
              "      border-right-color: var(--fill-color);\n",
              "    }\n",
              "    40% {\n",
              "      border-color: transparent;\n",
              "      border-right-color: var(--fill-color);\n",
              "      border-top-color: var(--fill-color);\n",
              "    }\n",
              "    60% {\n",
              "      border-color: transparent;\n",
              "      border-right-color: var(--fill-color);\n",
              "    }\n",
              "    80% {\n",
              "      border-color: transparent;\n",
              "      border-right-color: var(--fill-color);\n",
              "      border-bottom-color: var(--fill-color);\n",
              "    }\n",
              "    90% {\n",
              "      border-color: transparent;\n",
              "      border-bottom-color: var(--fill-color);\n",
              "    }\n",
              "  }\n",
              "</style>\n",
              "\n",
              "  <script>\n",
              "    async function quickchart(key) {\n",
              "      const quickchartButtonEl =\n",
              "        document.querySelector('#' + key + ' button');\n",
              "      quickchartButtonEl.disabled = true;  // To prevent multiple clicks.\n",
              "      quickchartButtonEl.classList.add('colab-df-spinner');\n",
              "      try {\n",
              "        const charts = await google.colab.kernel.invokeFunction(\n",
              "            'suggestCharts', [key], {});\n",
              "      } catch (error) {\n",
              "        console.error('Error during call to suggestCharts:', error);\n",
              "      }\n",
              "      quickchartButtonEl.classList.remove('colab-df-spinner');\n",
              "      quickchartButtonEl.classList.add('colab-df-quickchart-complete');\n",
              "    }\n",
              "    (() => {\n",
              "      let quickchartButtonEl =\n",
              "        document.querySelector('#df-67565809-5bf8-4fba-a7c5-09b5f382688c button');\n",
              "      quickchartButtonEl.style.display =\n",
              "        google.colab.kernel.accessAllowed ? 'block' : 'none';\n",
              "    })();\n",
              "  </script>\n",
              "</div>\n",
              "\n",
              "    </div>\n",
              "  </div>\n"
            ],
            "application/vnd.google.colaboratory.intrinsic+json": {
              "type": "dataframe",
              "variable_name": "data",
              "summary": "{\n  \"name\": \"data\",\n  \"rows\": 1201,\n  \"fields\": [\n    {\n      \"column\": \"user_id\",\n      \"properties\": {\n        \"dtype\": \"number\",\n        \"std\": 704730309874407040,\n        \"min\": 14118740,\n        \"max\": 1799962165497004032,\n        \"num_unique_values\": 1176,\n        \"samples\": [\n          3040000703,\n          4516962399,\n          1485454329901375492\n        ],\n        \"semantic_type\": \"\",\n        \"description\": \"\"\n      }\n    },\n    {\n      \"column\": \"sentiment\",\n      \"properties\": {\n        \"dtype\": \"category\",\n        \"num_unique_values\": 3,\n        \"samples\": [\n          \"Positivo\",\n          \"Negativo\",\n          \"Neutro\"\n        ],\n        \"semantic_type\": \"\",\n        \"description\": \"\"\n      }\n    },\n    {\n      \"column\": \"text_limpio\",\n      \"properties\": {\n        \"dtype\": \"string\",\n        \"num_unique_values\": 1012,\n        \"samples\": [\n          \" Excelente informe de El Presto.\\n\\u00bfQu\\u00e9 hace una periodista espa\\u00f1ola fascista pro-Hamas en C5N? \",\n          \" Estados unidos est\\u00e1 igual y recuerda que vamos de la mano con ellos\",\n          \" I saw on his IG that Will showed up incognito to a regular showing in LA\\u2019s Baldwin Hills, which is Black AF. As folks wer\\u2026\"\n        ],\n        \"semantic_type\": \"\",\n        \"description\": \"\"\n      }\n    }\n  ]\n}"
            }
          },
          "metadata": {},
          "execution_count": 5
        }
      ]
    },
    {
      "cell_type": "code",
      "source": [
        "data.info()"
      ],
      "metadata": {
        "colab": {
          "base_uri": "https://localhost:8080/"
        },
        "id": "poHBvyTxc_gS",
        "outputId": "242e09c1-1e29-41c9-8f65-a50aaa4ec0b2"
      },
      "execution_count": 6,
      "outputs": [
        {
          "output_type": "stream",
          "name": "stdout",
          "text": [
            "<class 'pandas.core.frame.DataFrame'>\n",
            "RangeIndex: 1201 entries, 0 to 1200\n",
            "Data columns (total 3 columns):\n",
            " #   Column       Non-Null Count  Dtype \n",
            "---  ------       --------------  ----- \n",
            " 0   user_id      1201 non-null   int64 \n",
            " 1   sentiment    1201 non-null   object\n",
            " 2   text_limpio  1201 non-null   object\n",
            "dtypes: int64(1), object(2)\n",
            "memory usage: 28.3+ KB\n"
          ]
        }
      ]
    },
    {
      "cell_type": "markdown",
      "source": [
        "**Dividir datos**"
      ],
      "metadata": {
        "id": "x7lK2zNxdDxN"
      }
    },
    {
      "cell_type": "markdown",
      "source": [
        "Primero divimos datos en dos partes.\n",
        "\n",
        "X: La parte que contiene las características (el texto limpio).\n",
        "\n",
        "y: La parte que contiene las etiquetas (el sentimiento)."
      ],
      "metadata": {
        "id": "TkTuIv6K_y9a"
      }
    },
    {
      "cell_type": "code",
      "source": [
        "X = data['text_limpio']\n",
        "y = data['sentiment']"
      ],
      "metadata": {
        "id": "t3UAFbBu_cNV"
      },
      "execution_count": 7,
      "outputs": []
    },
    {
      "cell_type": "markdown",
      "source": [
        "Realizamos transformar las etiquetas de sentimiento esta en texto a números.\n",
        "\n",
        "Negativo: 0\n",
        "\n",
        "Neutro: 1\n",
        "\n",
        "Positivo: 2\n",
        "\n",
        "\n",
        "A continuación, usas la función train_test_split de scikit-learn para dividir los datos en conjuntos de entrenamiento y prueba."
      ],
      "metadata": {
        "id": "qeWuhsj5-U7a"
      }
    },
    {
      "cell_type": "code",
      "source": [
        "from sklearn.preprocessing import LabelEncoder\n",
        "\n",
        "# Inicializar el codificador de etiquetas\n",
        "label_encoder = LabelEncoder()\n",
        "\n",
        "# Ajustar y transformar las etiquetas de sentimiento\n",
        "y_encoded = label_encoder.fit_transform(data['sentiment'])\n",
        "\n",
        "# Dividir el conjunto de datos\n",
        "X_train, X_test, y_train, y_test = train_test_split(X, y_encoded, test_size=0.2, random_state=42)"
      ],
      "metadata": {
        "id": "YENE_ZipuJJ8"
      },
      "execution_count": 8,
      "outputs": []
    },
    {
      "cell_type": "markdown",
      "source": [
        "- train_test_split: Función que divide los datos en conjuntos de entrenamiento y prueba.\n",
        "\n",
        "- X_train: Características para el conjunto de entrenamiento.\n",
        "\n",
        "- X_test: Características para el conjunto de prueba.\n",
        "- y_train: Etiquetas para el conjunto de entrenamiento.\n",
        "- y_test: Etiquetas para el conjunto de prueba.\n",
        "- test_size=0.2: Indica que el 20% de los datos se utilizarán para el conjunto de prueba.\n",
        "- random_state=42: Semilla para garantizar la reproducibilidad de la división. Usar la misma semilla generará la misma división cada vez que ejecutes el código."
      ],
      "metadata": {
        "id": "QemxiZCSAnlx"
      }
    },
    {
      "cell_type": "code",
      "source": [
        "print(label_encoder.classes_)"
      ],
      "metadata": {
        "colab": {
          "base_uri": "https://localhost:8080/"
        },
        "id": "entH8sC-_ePi",
        "outputId": "9889a0af-6d91-4cbe-e33a-859bfc8aaa44"
      },
      "execution_count": 9,
      "outputs": [
        {
          "output_type": "stream",
          "name": "stdout",
          "text": [
            "['Negativo' 'Neutro' 'Positivo']\n"
          ]
        }
      ]
    },
    {
      "cell_type": "code",
      "source": [
        "for i, clase in enumerate(label_encoder.classes_):\n",
        "    print(f\"{clase}: {i}\")"
      ],
      "metadata": {
        "colab": {
          "base_uri": "https://localhost:8080/"
        },
        "id": "vbcBduYR_wIQ",
        "outputId": "e57471c2-6e88-4dac-8de9-e7d95401cd41"
      },
      "execution_count": 10,
      "outputs": [
        {
          "output_type": "stream",
          "name": "stdout",
          "text": [
            "Negativo: 0\n",
            "Neutro: 1\n",
            "Positivo: 2\n"
          ]
        }
      ]
    },
    {
      "cell_type": "markdown",
      "source": [
        "**Preprocesamiento**"
      ],
      "metadata": {
        "id": "Loyqk9PndHzY"
      }
    },
    {
      "cell_type": "markdown",
      "source": [
        "**Obtención de Stopwords:**\n",
        "\n",
        "Se crea un diccionario con stopwords para inglés, español y portugués.\n",
        "\n",
        "**Preprocesamiento del Texto**\n",
        "1.  Detección del idioma del texto.\n",
        "2. Tokenización:<BR>\n",
        "La tokenización implica dividir el texto en palabras individuales o tokens. Este paso es crucial para un análisis posterior porque permite trabajar con palabras individuales, lo que facilita el análisis de sentimientos a un nivel granular.\n",
        "3. Eliminación de stopwords y tokens no alfabéticos:<BR>\n",
        "Las palabras vacías son palabras comunes como \"el\", \"y\", \"en\", que aparecen con frecuencia en el idioma pero que no suelen transmitir mucha información sobre sentimientos. Eliminar las palabras vacías puede reducir el ruido en el análisis y ayudar a centrarse en las palabras de contenido con mayor importancia para los sentimientos.\n",
        "\n",
        "4. Generación de n-grama:<BR>\n",
        "Concepto: Un n-grama es una secuencia contigua de n elementos (palabras en este caso) de un texto dado.\n",
        "Importancia: Los n-gramas capturan frases y combinaciones de palabras que pueden ser importantes para el análisis de sentimientos.\n",
        "Ejemplo: Para la frase \"El gato duerme\", los bi-gramas (n=2) serían [\"El gato\", \"gato duerme\"].\n",
        "\n",
        " Combinación de tokens originales y n-gramas en una cadena de texto."
      ],
      "metadata": {
        "id": "n0-3LcDVBSXp"
      }
    },
    {
      "cell_type": "code",
      "source": [
        "def get_stopwords():\n",
        "    languages = ['english', 'spanish', 'portuguese']\n",
        "    stop_words = {}\n",
        "    for lang in languages:\n",
        "        stop_words[lang] = set(stopwords.words(lang))\n",
        "    return stop_words\n",
        "\n",
        "STOP_WORDS = get_stopwords()\n",
        "\n",
        "def preprocess_text_with_ngrams(text, n=2):\n",
        "    try:\n",
        "        lang = detect(text)\n",
        "        if lang not in ['en', 'es', 'pt']:\n",
        "            lang = 'en'  # Default a inglés si no es español o portugués\n",
        "    except:\n",
        "        lang = 'en'  # Default a inglés si falla la detección\n",
        "\n",
        "    # Mapear códigos de idioma a los utilizados por NLTK\n",
        "    lang_map = {'en': 'english', 'es': 'spanish', 'pt': 'portuguese'}\n",
        "    nltk_lang = lang_map[lang]\n",
        "\n",
        "    # Tokenización\n",
        "    tokens = word_tokenize(text.lower(), language=nltk_lang)\n",
        "\n",
        "    # Eliminar stopwords y tokens no alfabéticos\n",
        "    tokens = [token for token in tokens if token.isalpha() and token not in STOP_WORDS[nltk_lang]]\n",
        "\n",
        "    # Generar n-gramas\n",
        "    n_grams = list(ngrams(tokens, n))\n",
        "    n_gram_strings = ['_'.join(gram) for gram in n_grams]\n",
        "\n",
        "    # Combinar tokens originales y n-gramas\n",
        "    all_features = tokens + n_gram_strings\n",
        "\n",
        "    return ' '.join(all_features)\n",
        "\n"
      ],
      "metadata": {
        "id": "ds-LkX8xeD7-"
      },
      "execution_count": 11,
      "outputs": []
    },
    {
      "cell_type": "code",
      "source": [
        "X_train_preprocessed = [preprocess_text_with_ngrams(text) for text in X_train]\n",
        "X_test_preprocessed = [preprocess_text_with_ngrams(text) for text in X_test]"
      ],
      "metadata": {
        "id": "fbxoghbT9lbH"
      },
      "execution_count": 12,
      "outputs": []
    },
    {
      "cell_type": "markdown",
      "source": [
        "**MODELO BERT**"
      ],
      "metadata": {
        "id": "jmmnxeateovJ"
      }
    },
    {
      "cell_type": "markdown",
      "source": [
        "Modelo pre-entrenado:\n",
        "\n",
        "BERT es un modelo de lenguaje avanzado, pre-entrenado en grandes cantidades de texto.\n",
        "XLM-RoBERTa es una variante multilingüe, ideal para trabajar con inglés, español y portugués.\n",
        "\n",
        "\n",
        "Ventajas clave:\n",
        "\n",
        "Comprensión contextual: Capta el significado basado en el contexto completo.\n",
        "Bidireccionalidad: Procesa el texto en ambas direcciones para mejor entendimiento.\n",
        "Transfer Learning: Aprovecha el conocimiento pre-entrenado para la tarea específica.\n",
        "\n",
        "\n",
        "Proceso en el código:\n",
        "\n",
        "Carga del modelo pre-entrenado XLM-RoBERTa.\n",
        "Tokenización de los datos de entrada.\n",
        "Fine-tuning del modelo para análisis de sentimientos.\n",
        "\n",
        "\n",
        "Beneficios para análisis de sentimientos:\n",
        "\n",
        "Maneja relaciones complejas en el texto (negaciones, sarcasmo).\n",
        "Adapta representaciones de palabras según el contexto.\n",
        "Funciona bien con textos de longitud variable.\n",
        "\n",
        "\n",
        "Resultado esperado:\n",
        "\n",
        "Un clasificador de sentimientos robusto y eficaz.\n",
        "Capaz de manejar matices lingüísticos en múltiples idiomas."
      ],
      "metadata": {
        "id": "lCu8HoPwF4b6"
      }
    },
    {
      "cell_type": "code",
      "source": [
        "!pip install transformers==4.30.2 accelerate==0.21.0"
      ],
      "metadata": {
        "colab": {
          "base_uri": "https://localhost:8080/",
          "height": 984
        },
        "id": "fZBllJzoJXwJ",
        "outputId": "c9e3f4ec-b589-4949-ec44-a16e512c239c"
      },
      "execution_count": 45,
      "outputs": [
        {
          "output_type": "stream",
          "name": "stdout",
          "text": [
            "Collecting transformers==4.30.2\n",
            "  Downloading transformers-4.30.2-py3-none-any.whl (7.2 MB)\n",
            "\u001b[2K     \u001b[90m━━━━━━━━━━━━━━━━━━━━━━━━━━━━━━━━━━━━━━━━\u001b[0m \u001b[32m7.2/7.2 MB\u001b[0m \u001b[31m16.8 MB/s\u001b[0m eta \u001b[36m0:00:00\u001b[0m\n",
            "\u001b[?25hCollecting accelerate==0.21.0\n",
            "  Using cached accelerate-0.21.0-py3-none-any.whl (244 kB)\n",
            "Requirement already satisfied: filelock in /usr/local/lib/python3.10/dist-packages (from transformers==4.30.2) (3.15.1)\n",
            "Requirement already satisfied: huggingface-hub<1.0,>=0.14.1 in /usr/local/lib/python3.10/dist-packages (from transformers==4.30.2) (0.23.4)\n",
            "Requirement already satisfied: numpy>=1.17 in /usr/local/lib/python3.10/dist-packages (from transformers==4.30.2) (1.25.2)\n",
            "Requirement already satisfied: packaging>=20.0 in /usr/local/lib/python3.10/dist-packages (from transformers==4.30.2) (24.1)\n",
            "Requirement already satisfied: pyyaml>=5.1 in /usr/local/lib/python3.10/dist-packages (from transformers==4.30.2) (6.0.1)\n",
            "Requirement already satisfied: regex!=2019.12.17 in /usr/local/lib/python3.10/dist-packages (from transformers==4.30.2) (2024.5.15)\n",
            "Requirement already satisfied: requests in /usr/local/lib/python3.10/dist-packages (from transformers==4.30.2) (2.32.3)\n",
            "Collecting tokenizers!=0.11.3,<0.14,>=0.11.1 (from transformers==4.30.2)\n",
            "  Downloading tokenizers-0.13.3-cp310-cp310-manylinux_2_17_x86_64.manylinux2014_x86_64.whl (7.8 MB)\n",
            "\u001b[2K     \u001b[90m━━━━━━━━━━━━━━━━━━━━━━━━━━━━━━━━━━━━━━━━\u001b[0m \u001b[32m7.8/7.8 MB\u001b[0m \u001b[31m31.5 MB/s\u001b[0m eta \u001b[36m0:00:00\u001b[0m\n",
            "\u001b[?25hRequirement already satisfied: safetensors>=0.3.1 in /usr/local/lib/python3.10/dist-packages (from transformers==4.30.2) (0.4.3)\n",
            "Requirement already satisfied: tqdm>=4.27 in /usr/local/lib/python3.10/dist-packages (from transformers==4.30.2) (4.66.4)\n",
            "Requirement already satisfied: psutil in /usr/local/lib/python3.10/dist-packages (from accelerate==0.21.0) (5.9.5)\n",
            "Requirement already satisfied: torch>=1.10.0 in /usr/local/lib/python3.10/dist-packages (from accelerate==0.21.0) (2.3.0+cu121)\n",
            "Requirement already satisfied: fsspec>=2023.5.0 in /usr/local/lib/python3.10/dist-packages (from huggingface-hub<1.0,>=0.14.1->transformers==4.30.2) (2023.6.0)\n",
            "Requirement already satisfied: typing-extensions>=3.7.4.3 in /usr/local/lib/python3.10/dist-packages (from huggingface-hub<1.0,>=0.14.1->transformers==4.30.2) (4.12.2)\n",
            "Requirement already satisfied: sympy in /usr/local/lib/python3.10/dist-packages (from torch>=1.10.0->accelerate==0.21.0) (1.12.1)\n",
            "Requirement already satisfied: networkx in /usr/local/lib/python3.10/dist-packages (from torch>=1.10.0->accelerate==0.21.0) (3.3)\n",
            "Requirement already satisfied: jinja2 in /usr/local/lib/python3.10/dist-packages (from torch>=1.10.0->accelerate==0.21.0) (3.1.4)\n",
            "Requirement already satisfied: nvidia-cuda-nvrtc-cu12==12.1.105 in /usr/local/lib/python3.10/dist-packages (from torch>=1.10.0->accelerate==0.21.0) (12.1.105)\n",
            "Requirement already satisfied: nvidia-cuda-runtime-cu12==12.1.105 in /usr/local/lib/python3.10/dist-packages (from torch>=1.10.0->accelerate==0.21.0) (12.1.105)\n",
            "Requirement already satisfied: nvidia-cuda-cupti-cu12==12.1.105 in /usr/local/lib/python3.10/dist-packages (from torch>=1.10.0->accelerate==0.21.0) (12.1.105)\n",
            "Requirement already satisfied: nvidia-cudnn-cu12==8.9.2.26 in /usr/local/lib/python3.10/dist-packages (from torch>=1.10.0->accelerate==0.21.0) (8.9.2.26)\n",
            "Requirement already satisfied: nvidia-cublas-cu12==12.1.3.1 in /usr/local/lib/python3.10/dist-packages (from torch>=1.10.0->accelerate==0.21.0) (12.1.3.1)\n",
            "Requirement already satisfied: nvidia-cufft-cu12==11.0.2.54 in /usr/local/lib/python3.10/dist-packages (from torch>=1.10.0->accelerate==0.21.0) (11.0.2.54)\n",
            "Requirement already satisfied: nvidia-curand-cu12==10.3.2.106 in /usr/local/lib/python3.10/dist-packages (from torch>=1.10.0->accelerate==0.21.0) (10.3.2.106)\n",
            "Requirement already satisfied: nvidia-cusolver-cu12==11.4.5.107 in /usr/local/lib/python3.10/dist-packages (from torch>=1.10.0->accelerate==0.21.0) (11.4.5.107)\n",
            "Requirement already satisfied: nvidia-cusparse-cu12==12.1.0.106 in /usr/local/lib/python3.10/dist-packages (from torch>=1.10.0->accelerate==0.21.0) (12.1.0.106)\n",
            "Requirement already satisfied: nvidia-nccl-cu12==2.20.5 in /usr/local/lib/python3.10/dist-packages (from torch>=1.10.0->accelerate==0.21.0) (2.20.5)\n",
            "Requirement already satisfied: nvidia-nvtx-cu12==12.1.105 in /usr/local/lib/python3.10/dist-packages (from torch>=1.10.0->accelerate==0.21.0) (12.1.105)\n",
            "Requirement already satisfied: triton==2.3.0 in /usr/local/lib/python3.10/dist-packages (from torch>=1.10.0->accelerate==0.21.0) (2.3.0)\n",
            "Requirement already satisfied: nvidia-nvjitlink-cu12 in /usr/local/lib/python3.10/dist-packages (from nvidia-cusolver-cu12==11.4.5.107->torch>=1.10.0->accelerate==0.21.0) (12.5.40)\n",
            "Requirement already satisfied: charset-normalizer<4,>=2 in /usr/local/lib/python3.10/dist-packages (from requests->transformers==4.30.2) (3.3.2)\n",
            "Requirement already satisfied: idna<4,>=2.5 in /usr/local/lib/python3.10/dist-packages (from requests->transformers==4.30.2) (3.7)\n",
            "Requirement already satisfied: urllib3<3,>=1.21.1 in /usr/local/lib/python3.10/dist-packages (from requests->transformers==4.30.2) (2.0.7)\n",
            "Requirement already satisfied: certifi>=2017.4.17 in /usr/local/lib/python3.10/dist-packages (from requests->transformers==4.30.2) (2024.6.2)\n",
            "Requirement already satisfied: MarkupSafe>=2.0 in /usr/local/lib/python3.10/dist-packages (from jinja2->torch>=1.10.0->accelerate==0.21.0) (2.1.5)\n",
            "Requirement already satisfied: mpmath<1.4.0,>=1.1.0 in /usr/local/lib/python3.10/dist-packages (from sympy->torch>=1.10.0->accelerate==0.21.0) (1.3.0)\n",
            "Installing collected packages: tokenizers, transformers, accelerate\n",
            "  Attempting uninstall: tokenizers\n",
            "    Found existing installation: tokenizers 0.19.1\n",
            "    Uninstalling tokenizers-0.19.1:\n",
            "      Successfully uninstalled tokenizers-0.19.1\n",
            "Successfully installed accelerate-0.21.0 tokenizers-0.13.3 transformers-4.30.2\n"
          ]
        },
        {
          "output_type": "display_data",
          "data": {
            "application/vnd.colab-display-data+json": {
              "pip_warning": {
                "packages": [
                  "tokenizers",
                  "transformers"
                ]
              },
              "id": "dcce801505d44adeb255891f7c3cd7c7"
            }
          },
          "metadata": {}
        }
      ]
    },
    {
      "cell_type": "code",
      "source": [
        "!pip show transformers\n",
        "!pip show accelerate"
      ],
      "metadata": {
        "colab": {
          "base_uri": "https://localhost:8080/"
        },
        "id": "oExt247mJcs6",
        "outputId": "f045fc4f-0722-4df8-9217-1b102ea623ed"
      },
      "execution_count": 1,
      "outputs": [
        {
          "output_type": "stream",
          "name": "stdout",
          "text": [
            "Name: transformers\n",
            "Version: 4.30.2\n",
            "Summary: State-of-the-art Machine Learning for JAX, PyTorch and TensorFlow\n",
            "Home-page: https://github.com/huggingface/transformers\n",
            "Author: The Hugging Face team (past and future) with the help of all our contributors (https://github.com/huggingface/transformers/graphs/contributors)\n",
            "Author-email: transformers@huggingface.co\n",
            "License: Apache 2.0 License\n",
            "Location: /usr/local/lib/python3.10/dist-packages\n",
            "Requires: filelock, huggingface-hub, numpy, packaging, pyyaml, regex, requests, safetensors, tokenizers, tqdm\n",
            "Required-by: \n",
            "Name: accelerate\n",
            "Version: 0.21.0\n",
            "Summary: Accelerate\n",
            "Home-page: https://github.com/huggingface/accelerate\n",
            "Author: The HuggingFace team\n",
            "Author-email: sylvain@huggingface.co\n",
            "License: Apache\n",
            "Location: /usr/local/lib/python3.10/dist-packages\n",
            "Requires: numpy, packaging, psutil, pyyaml, torch\n",
            "Required-by: \n"
          ]
        }
      ]
    },
    {
      "cell_type": "code",
      "source": [
        "def train_bert_model(X_train, y_train, X_test, y_test):\n",
        "    # Definir el nombre del modelo pre-entrenado a utilizar\n",
        "    model_name = \"xlm-roberta-base\"\n",
        "\n",
        "    # Cargar el modelo XLM-RoBERTa pre-entrenado y configurarlo para clasificación\n",
        "    model = XLMRobertaForSequenceClassification.from_pretrained(model_name, num_labels=len(set(y_train)))\n",
        "\n",
        "    # Cargar el tokenizador correspondiente al modelo\n",
        "    tokenizer = XLMRobertaTokenizer.from_pretrained(model_name)\n",
        "\n",
        "    # Tokenizar los datos de entrenamiento y prueba\n",
        "    train_encodings = tokenizer(list(X_train), truncation=True, padding=True)\n",
        "    test_encodings = tokenizer(list(X_test), truncation=True, padding=True)\n",
        "\n",
        "    # Crear el dataset de entrenamiento\n",
        "    train_dataset = Dataset.from_dict({\n",
        "        'input_ids': train_encodings['input_ids'],\n",
        "        'attention_mask': train_encodings['attention_mask'],\n",
        "        'labels': y_train\n",
        "    })\n",
        "\n",
        "    # Crear el dataset de prueba\n",
        "    test_dataset = Dataset.from_dict({\n",
        "        'input_ids': test_encodings['input_ids'],\n",
        "        'attention_mask': test_encodings['attention_mask'],\n",
        "        'labels': y_test\n",
        "    })\n",
        "\n",
        "    # Configurar los argumentos de entrenamiento\n",
        "    training_args = TrainingArguments(\n",
        "        output_dir='./results',  # Directorio donde se guardarán los resultados\n",
        "        num_train_epochs=3,  # Número de épocas de entrenamiento\n",
        "        per_device_train_batch_size=8,  # Tamaño del batch para entrenamiento\n",
        "        per_device_eval_batch_size=8,  # Tamaño del batch para evaluación\n",
        "        warmup_steps=500,  # Pasos de calentamiento para el optimizador\n",
        "        weight_decay=0.01,  # Decaimiento de pesos para regularización\n",
        "        logging_dir='./logs',  # Directorio para los logs\n",
        "        logging_steps=10,  # Cada cuántos pasos se registran los logs\n",
        "        evaluation_strategy=\"steps\"  # Estrategia de evaluación durante el entrenamiento\n",
        "    )\n",
        "\n",
        "    # Crear el objeto Trainer que manejará el entrenamiento\n",
        "    trainer = Trainer(\n",
        "        model=model,\n",
        "        args=training_args,\n",
        "        train_dataset=train_dataset,\n",
        "        eval_dataset=test_dataset\n",
        "    )\n",
        "\n",
        "    # Entrenar el modelo\n",
        "    trainer.train()\n",
        "\n",
        "    # Devolver el trainer y el dataset de prueba tokenizado\n",
        "    return trainer, test_dataset\n",
        "\n",
        "# Entrenar el modelo\n",
        "bert_trainer, tokenized_test = train_bert_model(X_train_preprocessed, y_train, X_test_preprocessed, y_test)"
      ],
      "metadata": {
        "colab": {
          "base_uri": "https://localhost:8080/",
          "height": 1000
        },
        "id": "AAjDUiC4Er_Q",
        "outputId": "1c857b69-c60b-4639-e793-cb4d7e81be82"
      },
      "execution_count": 13,
      "outputs": [
        {
          "output_type": "stream",
          "name": "stderr",
          "text": [
            "/usr/local/lib/python3.10/dist-packages/huggingface_hub/file_download.py:1132: FutureWarning: `resume_download` is deprecated and will be removed in version 1.0.0. Downloads always resume when possible. If you want to force a new download, use `force_download=True`.\n",
            "  warnings.warn(\n",
            "/usr/local/lib/python3.10/dist-packages/huggingface_hub/utils/_token.py:89: UserWarning: \n",
            "The secret `HF_TOKEN` does not exist in your Colab secrets.\n",
            "To authenticate with the Hugging Face Hub, create a token in your settings tab (https://huggingface.co/settings/tokens), set it as secret in your Google Colab and restart your session.\n",
            "You will be able to reuse this secret in all of your notebooks.\n",
            "Please note that authentication is recommended but still optional to access public models or datasets.\n",
            "  warnings.warn(\n",
            "Some weights of the model checkpoint at xlm-roberta-base were not used when initializing XLMRobertaForSequenceClassification: ['roberta.pooler.dense.weight', 'lm_head.layer_norm.weight', 'lm_head.bias', 'lm_head.dense.weight', 'lm_head.layer_norm.bias', 'lm_head.dense.bias', 'roberta.pooler.dense.bias']\n",
            "- This IS expected if you are initializing XLMRobertaForSequenceClassification from the checkpoint of a model trained on another task or with another architecture (e.g. initializing a BertForSequenceClassification model from a BertForPreTraining model).\n",
            "- This IS NOT expected if you are initializing XLMRobertaForSequenceClassification from the checkpoint of a model that you expect to be exactly identical (initializing a BertForSequenceClassification model from a BertForSequenceClassification model).\n",
            "Some weights of XLMRobertaForSequenceClassification were not initialized from the model checkpoint at xlm-roberta-base and are newly initialized: ['classifier.dense.bias', 'classifier.out_proj.weight', 'classifier.out_proj.bias', 'classifier.dense.weight']\n",
            "You should probably TRAIN this model on a down-stream task to be able to use it for predictions and inference.\n",
            "/usr/local/lib/python3.10/dist-packages/transformers/optimization.py:411: FutureWarning: This implementation of AdamW is deprecated and will be removed in a future version. Use the PyTorch implementation torch.optim.AdamW instead, or set `no_deprecation_warning=True` to disable this warning\n",
            "  warnings.warn(\n"
          ]
        },
        {
          "output_type": "display_data",
          "data": {
            "text/plain": [
              "<IPython.core.display.HTML object>"
            ],
            "text/html": [
              "\n",
              "    <div>\n",
              "      \n",
              "      <progress value='360' max='360' style='width:300px; height:20px; vertical-align: middle;'></progress>\n",
              "      [360/360 03:30, Epoch 3/3]\n",
              "    </div>\n",
              "    <table border=\"1\" class=\"dataframe\">\n",
              "  <thead>\n",
              " <tr style=\"text-align: left;\">\n",
              "      <th>Step</th>\n",
              "      <th>Training Loss</th>\n",
              "      <th>Validation Loss</th>\n",
              "    </tr>\n",
              "  </thead>\n",
              "  <tbody>\n",
              "    <tr>\n",
              "      <td>10</td>\n",
              "      <td>1.115400</td>\n",
              "      <td>1.076880</td>\n",
              "    </tr>\n",
              "    <tr>\n",
              "      <td>20</td>\n",
              "      <td>1.091600</td>\n",
              "      <td>1.076422</td>\n",
              "    </tr>\n",
              "    <tr>\n",
              "      <td>30</td>\n",
              "      <td>1.054400</td>\n",
              "      <td>1.075439</td>\n",
              "    </tr>\n",
              "    <tr>\n",
              "      <td>40</td>\n",
              "      <td>1.111200</td>\n",
              "      <td>1.068904</td>\n",
              "    </tr>\n",
              "    <tr>\n",
              "      <td>50</td>\n",
              "      <td>1.125000</td>\n",
              "      <td>1.091877</td>\n",
              "    </tr>\n",
              "    <tr>\n",
              "      <td>60</td>\n",
              "      <td>1.065300</td>\n",
              "      <td>1.075311</td>\n",
              "    </tr>\n",
              "    <tr>\n",
              "      <td>70</td>\n",
              "      <td>1.060800</td>\n",
              "      <td>1.077161</td>\n",
              "    </tr>\n",
              "    <tr>\n",
              "      <td>80</td>\n",
              "      <td>1.103100</td>\n",
              "      <td>1.077809</td>\n",
              "    </tr>\n",
              "    <tr>\n",
              "      <td>90</td>\n",
              "      <td>1.082400</td>\n",
              "      <td>1.076612</td>\n",
              "    </tr>\n",
              "    <tr>\n",
              "      <td>100</td>\n",
              "      <td>1.093000</td>\n",
              "      <td>1.075041</td>\n",
              "    </tr>\n",
              "    <tr>\n",
              "      <td>110</td>\n",
              "      <td>1.083500</td>\n",
              "      <td>1.071729</td>\n",
              "    </tr>\n",
              "    <tr>\n",
              "      <td>120</td>\n",
              "      <td>1.098400</td>\n",
              "      <td>1.053367</td>\n",
              "    </tr>\n",
              "    <tr>\n",
              "      <td>130</td>\n",
              "      <td>1.008300</td>\n",
              "      <td>1.080042</td>\n",
              "    </tr>\n",
              "    <tr>\n",
              "      <td>140</td>\n",
              "      <td>0.991100</td>\n",
              "      <td>1.075935</td>\n",
              "    </tr>\n",
              "    <tr>\n",
              "      <td>150</td>\n",
              "      <td>1.039900</td>\n",
              "      <td>0.966112</td>\n",
              "    </tr>\n",
              "    <tr>\n",
              "      <td>160</td>\n",
              "      <td>0.932100</td>\n",
              "      <td>0.993947</td>\n",
              "    </tr>\n",
              "    <tr>\n",
              "      <td>170</td>\n",
              "      <td>0.943200</td>\n",
              "      <td>0.850770</td>\n",
              "    </tr>\n",
              "    <tr>\n",
              "      <td>180</td>\n",
              "      <td>0.950000</td>\n",
              "      <td>0.784982</td>\n",
              "    </tr>\n",
              "    <tr>\n",
              "      <td>190</td>\n",
              "      <td>0.937300</td>\n",
              "      <td>0.772547</td>\n",
              "    </tr>\n",
              "    <tr>\n",
              "      <td>200</td>\n",
              "      <td>0.819100</td>\n",
              "      <td>0.800721</td>\n",
              "    </tr>\n",
              "    <tr>\n",
              "      <td>210</td>\n",
              "      <td>0.708400</td>\n",
              "      <td>0.721578</td>\n",
              "    </tr>\n",
              "    <tr>\n",
              "      <td>220</td>\n",
              "      <td>0.731800</td>\n",
              "      <td>0.635609</td>\n",
              "    </tr>\n",
              "    <tr>\n",
              "      <td>230</td>\n",
              "      <td>0.711000</td>\n",
              "      <td>0.756958</td>\n",
              "    </tr>\n",
              "    <tr>\n",
              "      <td>240</td>\n",
              "      <td>0.838300</td>\n",
              "      <td>0.589947</td>\n",
              "    </tr>\n",
              "    <tr>\n",
              "      <td>250</td>\n",
              "      <td>0.559100</td>\n",
              "      <td>0.590410</td>\n",
              "    </tr>\n",
              "    <tr>\n",
              "      <td>260</td>\n",
              "      <td>0.481500</td>\n",
              "      <td>0.817970</td>\n",
              "    </tr>\n",
              "    <tr>\n",
              "      <td>270</td>\n",
              "      <td>0.582000</td>\n",
              "      <td>0.642311</td>\n",
              "    </tr>\n",
              "    <tr>\n",
              "      <td>280</td>\n",
              "      <td>0.466200</td>\n",
              "      <td>0.471808</td>\n",
              "    </tr>\n",
              "    <tr>\n",
              "      <td>290</td>\n",
              "      <td>0.675700</td>\n",
              "      <td>0.506338</td>\n",
              "    </tr>\n",
              "    <tr>\n",
              "      <td>300</td>\n",
              "      <td>0.474100</td>\n",
              "      <td>0.421293</td>\n",
              "    </tr>\n",
              "    <tr>\n",
              "      <td>310</td>\n",
              "      <td>0.314600</td>\n",
              "      <td>0.467546</td>\n",
              "    </tr>\n",
              "    <tr>\n",
              "      <td>320</td>\n",
              "      <td>0.598600</td>\n",
              "      <td>0.378742</td>\n",
              "    </tr>\n",
              "    <tr>\n",
              "      <td>330</td>\n",
              "      <td>0.292200</td>\n",
              "      <td>0.417491</td>\n",
              "    </tr>\n",
              "    <tr>\n",
              "      <td>340</td>\n",
              "      <td>0.562000</td>\n",
              "      <td>0.361382</td>\n",
              "    </tr>\n",
              "    <tr>\n",
              "      <td>350</td>\n",
              "      <td>0.475200</td>\n",
              "      <td>0.358439</td>\n",
              "    </tr>\n",
              "    <tr>\n",
              "      <td>360</td>\n",
              "      <td>0.448600</td>\n",
              "      <td>0.338072</td>\n",
              "    </tr>\n",
              "  </tbody>\n",
              "</table><p>"
            ]
          },
          "metadata": {}
        }
      ]
    },
    {
      "cell_type": "markdown",
      "source": [
        "**Predicción**"
      ],
      "metadata": {
        "id": "meSYl5HYflaV"
      }
    },
    {
      "cell_type": "markdown",
      "source": [
        "El modelo BERT entrenado para hacer predicciones sobre los datos de prueba.\n",
        "Genera puntuaciones para cada clase (positivo, negativo, neutral) por cada texto.\n",
        "\n",
        "Convierte las puntuaciones en predicciones de clase.\n",
        "Selecciona la clase con la puntuación más alta para cada texto.\n",
        "Resultado: lista de predicciones, una por cada texto de prueba."
      ],
      "metadata": {
        "id": "XTVFl7I4OJXm"
      }
    },
    {
      "cell_type": "code",
      "source": [
        "bert_predictions = bert_trainer.predict(tokenized_test)\n",
        "bert_preds = np.argmax(bert_predictions.predictions, axis=-1)"
      ],
      "metadata": {
        "colab": {
          "base_uri": "https://localhost:8080/",
          "height": 17
        },
        "id": "Vi_cFXNpfps0",
        "outputId": "468f5332-897e-4e2b-e2ad-023d7ac87e42"
      },
      "execution_count": 14,
      "outputs": [
        {
          "output_type": "display_data",
          "data": {
            "text/plain": [
              "<IPython.core.display.HTML object>"
            ],
            "text/html": []
          },
          "metadata": {}
        }
      ]
    },
    {
      "cell_type": "markdown",
      "source": [
        "**Entrenar y predecir con Naive Bayes:**"
      ],
      "metadata": {
        "id": "Ym2R8fsTgBTC"
      }
    },
    {
      "cell_type": "markdown",
      "source": [
        "Eficiencia: Rápido de entrenar y predecir, ideal para grandes conjuntos de datos.\n",
        "\n",
        "Baseline: Proporciona un punto de referencia para comparar con BERT.\n",
        "\n",
        "Buen rendimiento en texto: Eficaz en clasificación de texto y sentimientos.\n",
        "\n",
        "Simplicidad: Fácil de implementar y entender.\n",
        "Robustez: Funciona bien incluso con datos limitados y tiene menor riesgo de sobreajuste.\n",
        "\n",
        "Complementariedad: Ofrece una perspectiva diferente a BERT, enriqueciendo el análisis."
      ],
      "metadata": {
        "id": "7rorsLvjQEfu"
      }
    },
    {
      "cell_type": "code",
      "source": [
        "def train_naive_bayes(X_train, y_train):\n",
        "    # Inicializar el vectorizador con un rango de n-gramas de 1 a 2\n",
        "    vectorizer = CountVectorizer(ngram_range=(1, 2))\n",
        "\n",
        "    # Transformar los datos de entrenamiento en vectores de características\n",
        "    X_train_vec = vectorizer.fit_transform(X_train)\n",
        "\n",
        "    # Inicializar y entrenar el modelo Naive Bayes multinomial\n",
        "    nb_model = MultinomialNB()\n",
        "    nb_model.fit(X_train_vec, y_train)\n",
        "\n",
        "    # Devolver el modelo entrenado y el vectorizador\n",
        "    return nb_model, vectorizer\n",
        "\n",
        "# Entrenar el modelo Naive Bayes con los datos de entrenamiento preprocesados\n",
        "nb_model, vectorizer = train_naive_bayes(X_train_preprocessed, y_train)\n",
        "\n",
        "# Transformar los datos de prueba utilizando el mismo vectorizador\n",
        "X_test_vec = vectorizer.transform(X_test_preprocessed)\n",
        "\n",
        "# Realizar predicciones en los datos de prueba utilizando el modelo entrenado\n",
        "nb_predictions = nb_model.predict(X_test_vec)"
      ],
      "metadata": {
        "id": "Kr-KUEORQRm_"
      },
      "execution_count": 23,
      "outputs": []
    },
    {
      "cell_type": "markdown",
      "source": [
        "**Evaluacion y visualizacion**"
      ],
      "metadata": {
        "id": "IjKvBG_zQX7i"
      }
    },
    {
      "cell_type": "code",
      "source": [
        "def plot_metrics(y_true, bert_preds, nb_preds):\n",
        "    # Etiquetas de los modelos y métricas\n",
        "    models = ['BERT', 'Naive Bayes']\n",
        "    metrics = ['Precision', 'Recall', 'F1-score']\n",
        "\n",
        "    # Calcular métricas de precisión, recall y F1 para BERT y Naive Bayes\n",
        "    bert_metrics = precision_recall_fscore_support(y_true, bert_preds, average='weighted')[:-1]\n",
        "    nb_metrics = precision_recall_fscore_support(y_true, nb_preds, average='weighted')[:-1]\n",
        "\n",
        "    # Configurar el gráfico\n",
        "    x = np.arange(len(metrics))\n",
        "    width = 0.35\n",
        "    fig, ax = plt.subplots(figsize=(10, 6))\n",
        "\n",
        "    # Graficar las barras de métricas para BERT y Naive Bayes\n",
        "    ax.bar(x - width/2, bert_metrics, width, label='BERT')\n",
        "    ax.bar(x + width/2, nb_metrics, width, label='Naive Bayes')\n",
        "\n",
        "    # Configurar etiquetas y título del gráfico\n",
        "    ax.set_ylabel('Scores')\n",
        "    ax.set_title('Comparación de métricas entre BERT y Naive Bayes')\n",
        "    ax.set_xticks(x)\n",
        "    ax.set_xticklabels(metrics)\n",
        "    ax.legend()\n",
        "\n",
        "    # Ajustar el diseño y mostrar el gráfico\n",
        "    plt.tight_layout()\n",
        "    plt.show()\n",
        "\n",
        "def print_classification_reports(y_test, bert_preds, nb_preds):\n",
        "    # Imprimir el reporte de clasificación para BERT y Naive Bayes\n",
        "    print(\"Reporte de clasificación BERT:\")\n",
        "    print(classification_report(y_test, bert_preds))\n",
        "    print(\"\\nReporte de clasificación Naive Bayes:\")\n",
        "    print(classification_report(y_test, nb_preds))\n"
      ],
      "metadata": {
        "id": "uedeG8r0QpTE"
      },
      "execution_count": 24,
      "outputs": []
    },
    {
      "cell_type": "code",
      "source": [
        "# Evaluar y visualizar resultados\n",
        "plot_metrics(y_test, bert_preds, nb_predictions)\n",
        "print_classification_reports(y_test, bert_preds, nb_predictions)"
      ],
      "metadata": {
        "colab": {
          "base_uri": "https://localhost:8080/",
          "height": 967
        },
        "id": "LIrYOwDavNBu",
        "outputId": "fa565b9f-f0f8-4fe8-89fd-73bb64d41cb7"
      },
      "execution_count": 25,
      "outputs": [
        {
          "output_type": "display_data",
          "data": {
            "text/plain": [
              "<Figure size 1000x600 with 1 Axes>"
            ],
            "image/png": "[encoded data removed]"
          },
          "metadata": {}
        },
        {
          "output_type": "stream",
          "name": "stdout",
          "text": [
            "Reporte de clasificación BERT:\n",
            "              precision    recall  f1-score   support\n",
            "\n",
            "           0       0.91      0.87      0.89        82\n",
            "           1       0.87      0.88      0.87        59\n",
            "           2       0.87      0.90      0.89       100\n",
            "\n",
            "    accuracy                           0.88       241\n",
            "   macro avg       0.88      0.88      0.88       241\n",
            "weighted avg       0.88      0.88      0.88       241\n",
            "\n",
            "\n",
            "Reporte de clasificación Naive Bayes:\n",
            "              precision    recall  f1-score   support\n",
            "\n",
            "           0       0.92      0.79      0.85        82\n",
            "           1       0.87      0.80      0.83        59\n",
            "           2       0.80      0.93      0.86       100\n",
            "\n",
            "    accuracy                           0.85       241\n",
            "   macro avg       0.86      0.84      0.85       241\n",
            "weighted avg       0.86      0.85      0.85       241\n",
            "\n"
          ]
        }
      ]
    },
    {
      "cell_type": "markdown",
      "source": [
        "Interpretación de los Resultados\n",
        "Precisión: Mide la proporción de verdaderos positivos entre todos los casos que el modelo predijo como positivos.\n",
        "\n",
        "BERT tiene una precisión global de 0.91.\n",
        "Naive Bayes tiene una precisión global de 0.86.\n",
        "Recall: Mide la proporción de verdaderos positivos entre todos los casos realmente positivos.\n",
        "\n",
        "BERT tiene un recall global de 0.90.\n",
        "Naive Bayes tiene un recall global de 0.85.\n",
        "F1-Score: Es la media armónica de la precisión y el recall. Es una medida equilibrada del rendimiento del modelo.\n",
        "\n",
        "BERT tiene un F1-score global de 0.90.\n",
        "Naive Bayes tiene un F1-score global de 0.85.\n",
        "Accuracy: Es la proporción de verdaderos positivos y verdaderos negativos entre el total de casos.\n",
        "\n",
        "BERT tiene una exactitud (accuracy) de 0.90.\n",
        "Naive Bayes tiene una exactitud (accuracy) de 0.85.\n",
        "Comparación y Conclusión\n",
        "BERT: El modelo BERT muestra un rendimiento superior en todas las métricas (precisión, recall, F1-score y accuracy) en comparación con el modelo Naive Bayes. Esto es esperado, ya que BERT es un modelo de lenguaje profundo entrenado en una gran cantidad de datos y puede capturar más matices y contextos en el texto.\n",
        "\n",
        "Naive Bayes: Aunque Naive Bayes tiene un rendimiento ligeramente inferior en comparación con BERT, sigue mostrando buenos resultados. Este modelo es más sencillo y mucho más rápido de entrenar y predecir, lo cual puede ser útil en situaciones donde los recursos computacionales o el tiempo son limitados."
      ],
      "metadata": {
        "id": "NICuXjZnw_R4"
      }
    },
    {
      "cell_type": "markdown",
      "source": [
        "Matriz de confusion:\n"
      ],
      "metadata": {
        "id": "OfETZfb9Qwhv"
      }
    },
    {
      "cell_type": "markdown",
      "source": [
        "Una matriz de confusión es una herramienta fundamental en la evaluación del rendimiento de modelos de clasificación como BERT y Naive Bayes. Permite visualizar de manera clara y concisa cómo se comparan las predicciones del modelo con las etiquetas reales. Esto es importante porque proporciona información detallada sobre:\n",
        "\n",
        "Verdaderos positivos (TP): Casos en los que el modelo predijo correctamente una clase positiva.\n",
        "\n",
        "Falsos positivos (FP): Casos en los que el modelo predijo incorrectamente una clase positiva.\n",
        "\n",
        "Verdaderos negativos (TN): Casos en los que el modelo predijo correctamente una clase negativa.\n",
        "\n",
        "Falsos negativos (FN): Casos en los que el modelo predijo incorrectamente una clase negativa"
      ],
      "metadata": {
        "id": "ExkzdWdDRNb-"
      }
    },
    {
      "cell_type": "code",
      "source": [
        "from sklearn.metrics import confusion_matrix, ConfusionMatrixDisplay"
      ],
      "metadata": {
        "id": "y4VNYAwMRj1F"
      },
      "execution_count": 28,
      "outputs": []
    },
    {
      "cell_type": "code",
      "source": [
        "\n",
        "def plot_confusion_matrices(y_true, bert_preds, nb_preds):\n",
        "    # Crear una figura con dos subplots para las matrices de confusión de BERT y Naive Bayes\n",
        "    fig, axes = plt.subplots(1, 2, figsize=(14, 6))\n",
        "\n",
        "    # Calcular las matrices de confusión para BERT y Naive Bayes\n",
        "    cm_bert = confusion_matrix(y_true, bert_preds)\n",
        "    cm_nb = confusion_matrix(y_true, nb_preds)\n",
        "\n",
        "    # Configurar las visualizaciones de matrices de confusión para BERT y Naive Bayes\n",
        "    disp_bert = ConfusionMatrixDisplay(confusion_matrix=cm_bert, display_labels=label_encoder.classes_)\n",
        "    disp_nb = ConfusionMatrixDisplay(confusion_matrix=cm_nb, display_labels=label_encoder.classes_)\n",
        "\n",
        "    # Graficar las matrices de confusión para BERT y Naive Bayes en los subplots correspondientes\n",
        "    disp_bert.plot(ax=axes[0], cmap='Blues', values_format='d')\n",
        "    axes[0].set_title('BERT')  # Título del subplot para BERT\n",
        "\n",
        "    disp_nb.plot(ax=axes[1], cmap='Blues', values_format='d')\n",
        "    axes[1].set_title('Naive Bayes')  # Título del subplot para Naive Bayes\n",
        "\n",
        "    # Ajustar el diseño y mostrar las matrices de confusión\n",
        "    plt.tight_layout()\n",
        "    plt.show()\n",
        "\n",
        "# Visualizar las matrices de confusión\n",
        "plot_confusion_matrices(y_test, bert_preds, nb_predictions)\n"
      ],
      "metadata": {
        "colab": {
          "base_uri": "https://localhost:8080/",
          "height": 416
        },
        "id": "HeBunD7SwzYL",
        "outputId": "c5c6b747-7c68-426c-b201-306e61f73bdd"
      },
      "execution_count": 29,
      "outputs": [
        {
          "output_type": "display_data",
          "data": {
            "text/plain": [
              "<Figure size 1400x600 with 4 Axes>"
            ],
            "image/png": "[encoded data removed]"
          },
          "metadata": {}
        }
      ]
    },
    {
      "cell_type": "markdown",
      "source": [
        "Ejemplo"
      ],
      "metadata": {
        "id": "P-2iHrohRcDE"
      }
    },
    {
      "cell_type": "code",
      "source": [
        "def predict_new_data(new_data, nb_model, vectorizer, bert_trainer, label_encoder):\n",
        "    # Preprocesar el nuevo texto\n",
        "    new_data_preprocessed = [preprocess_text_with_ngrams(text) for text in new_data]\n",
        "\n",
        "    # Transformar el texto con el vectorizador (Naive Bayes)\n",
        "    new_data_vec = vectorizer.transform(new_data_preprocessed)\n",
        "\n",
        "    # Predicciones con Naive Bayes\n",
        "    nb_predictions = nb_model.predict(new_data_vec)\n",
        "    nb_predictions_labels = label_encoder.inverse_transform(nb_predictions)\n",
        "\n",
        "    # Tokenizar el texto (BERT)\n",
        "    tokenizer = XLMRobertaTokenizer.from_pretrained(\"xlm-roberta-base\")\n",
        "    new_data_encodings = tokenizer(new_data_preprocessed, truncation=True, padding=True)\n",
        "    new_dataset = Dataset.from_dict({\n",
        "        'input_ids': new_data_encodings['input_ids'],\n",
        "        'attention_mask': new_data_encodings['attention_mask']\n",
        "    })\n",
        "\n",
        "    # Predicciones con BERT\n",
        "    bert_predictions = bert_trainer.predict(new_dataset)\n",
        "    bert_preds = np.argmax(bert_predictions.predictions, axis=-1)\n",
        "    bert_predictions_labels = label_encoder.inverse_transform(bert_preds)\n",
        "\n",
        "    return nb_predictions_labels, bert_predictions_labels\n",
        "\n",
        "# Ejemplo de nuevos datos en inglés, español y portugués\n",
        "new_data = [\n",
        "    \"This product is excellent, I love it.\",\n",
        "    \"El servicio al cliente fue terrible, muy decepcionado.\",\n",
        "    \"A qualidade é aceitável, mas pode melhorar.\"\n",
        "]\n",
        "\n",
        "# Predecir con los nuevos datos\n",
        "nb_predictions_labels, bert_predictions_labels = predict_new_data(new_data, nb_model, vectorizer, bert_trainer, label_encoder)\n",
        "\n",
        "# Mostrar los resultados\n",
        "for i, text in enumerate(new_data):\n",
        "    print(f\"Texto: {text}\")\n",
        "    print(f\"Predicción Naive Bayes: {nb_predictions_labels[i]}\")\n",
        "    print(f\"Predicción BERT: {bert_predictions_labels[i]}\")\n",
        "    print()\n"
      ],
      "metadata": {
        "colab": {
          "base_uri": "https://localhost:8080/",
          "height": 280
        },
        "id": "lqxXtbB5xvnP",
        "outputId": "2e905293-0eff-4ed5-b2eb-22983ef3d9fc"
      },
      "execution_count": 27,
      "outputs": [
        {
          "output_type": "stream",
          "name": "stderr",
          "text": [
            "/usr/local/lib/python3.10/dist-packages/huggingface_hub/file_download.py:1132: FutureWarning: `resume_download` is deprecated and will be removed in version 1.0.0. Downloads always resume when possible. If you want to force a new download, use `force_download=True`.\n",
            "  warnings.warn(\n"
          ]
        },
        {
          "output_type": "display_data",
          "data": {
            "text/plain": [
              "<IPython.core.display.HTML object>"
            ],
            "text/html": []
          },
          "metadata": {}
        },
        {
          "output_type": "stream",
          "name": "stdout",
          "text": [
            "Texto: This product is excellent, I love it.\n",
            "Predicción Naive Bayes: Negativo\n",
            "Predicción BERT: Positivo\n",
            "\n",
            "Texto: El servicio al cliente fue terrible, muy decepcionado.\n",
            "Predicción Naive Bayes: Negativo\n",
            "Predicción BERT: Negativo\n",
            "\n",
            "Texto: A qualidade é aceitável, mas pode melhorar.\n",
            "Predicción Naive Bayes: Neutro\n",
            "Predicción BERT: Neutro\n",
            "\n"
          ]
        }
      ]
    }
  ]
}